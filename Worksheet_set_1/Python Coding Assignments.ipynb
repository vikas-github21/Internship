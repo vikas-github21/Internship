{
 "cells": [
  {
   "cell_type": "markdown",
   "metadata": {},
   "source": [
    "## 11. Write a python program to find the factorial of a number."
   ]
  },
  {
   "cell_type": "code",
   "execution_count": 6,
   "metadata": {},
   "outputs": [
    {
     "name": "stdout",
     "output_type": "stream",
     "text": [
      "Input a number : 5\n",
      "120.0\n",
      "Number can't be negative or floating point!\n",
      "Factors of 5:  120\n",
      "Factors of -12:  Number can't be negative or floating point!\n",
      "Factors of 5.4:  Number can't be negative or floating point!\n"
     ]
    }
   ],
   "source": [
    "\"\"\"\n",
    "The program will work only for positive integer number, it will not take any -ve number or float number.\n",
    "The program will identify -ve and float number and comes out of the loop and end the program.\n",
    "\n",
    "\"\"\"\n",
    "def fact(n):\n",
    "    \n",
    "    if not ((n >= 0) and (n % 1 == 0)): # Input Number Should be Integer & Not -ve or Float Number\n",
    "            return(\"Number can't be negative or floating point!\")\n",
    "        \n",
    "    if n==0:\n",
    "        return 1\n",
    "    else:\n",
    "        return n* fact(n-1)\n",
    "n=float(input(\"Input a number : \"))\n",
    "print(fact(n))\n",
    "\n",
    "        # OR\n",
    "    \n",
    "print(fact(-30))\n",
    "print(\"Factors of 5: \",fact(5))\n",
    "print(\"Factors of -12: \",fact(-12))\n",
    "print(\"Factors of 5.4: \",fact(1.22))"
   ]
  },
  {
   "cell_type": "code",
   "execution_count": null,
   "metadata": {},
   "outputs": [],
   "source": []
  },
  {
   "cell_type": "markdown",
   "metadata": {},
   "source": [
    "## 12. Write a python program to find whether a number is prime or composite."
   ]
  },
  {
   "cell_type": "code",
   "execution_count": 13,
   "metadata": {},
   "outputs": [
    {
     "name": "stdout",
     "output_type": "stream",
     "text": [
      "which number do you want to check 19\n",
      "Yes : Prime Number\n"
     ]
    }
   ],
   "source": [
    "\"\"\"\n",
    "The Program identify -ve or float number, comes out of the loop and ends the program as soon as -ve or float number is entered. \n",
    "\n",
    "\"\"\"\n",
    "def CheckIfPrime():\n",
    "    a1= float(input(\"which number do you want to check \"))\n",
    "    if not ((a1>= 0) and (a1%1==0)):\n",
    "            return(\"Number can't be negative or floating point!\")\n",
    "        \n",
    "    a = int(a1)\n",
    "    b = 2 # Checking Against this Number\n",
    "    c = (\"Yes : Prime Number\")\n",
    "    while b < a:\n",
    "        if a % b == 0:\n",
    "            c = (\"No it is Not a Prime Number\")\n",
    "        b = b + 1\n",
    "    print(c)\n",
    "CheckIfPrime() "
   ]
  },
  {
   "cell_type": "markdown",
   "metadata": {},
   "source": [
    "## 13. Write a python program to check whether a given string is palindrome or not."
   ]
  },
  {
   "cell_type": "markdown",
   "metadata": {},
   "source": [
    "## Method 1:"
   ]
  },
  {
   "cell_type": "code",
   "execution_count": 15,
   "metadata": {},
   "outputs": [
    {
     "name": "stdout",
     "output_type": "stream",
     "text": [
      " Input a Palindrome String: rotor\n",
      "rotor\n",
      "The string is a palindrome\n"
     ]
    }
   ],
   "source": [
    "\"\"\"\n",
    "Palindrome String : Are those string which will read the word same forword or Backword\n",
    "Some of the Palindrome Strings or words Are : mom,civic, noon, radar, rotor,tenet  etc\n",
    "\"\"\"\n",
    "palindrome_str = str(input(\" Input a Palindrome String: \"))\n",
    "\n",
    "print(palindrome_str)\n",
    "\n",
    "reverse_str = reversed(palindrome_str)\n",
    "if list(palindrome_str) == list(reverse_str):\n",
    "    print(\"The string is a palindrome\")\n",
    "    \n",
    "else:\n",
    "    print(\"The string is not a plaindrome\")"
   ]
  },
  {
   "cell_type": "markdown",
   "metadata": {},
   "source": [
    "## Method 2:"
   ]
  },
  {
   "cell_type": "code",
   "execution_count": 16,
   "metadata": {},
   "outputs": [
    {
     "name": "stdout",
     "output_type": "stream",
     "text": [
      "Enter multiple value: mom civic noon radar rotor tenet\n",
      "Number of list is:  ['mom', 'civic', 'noon', 'radar', 'rotor', 'tenet']\n",
      "['mom', 'civic', 'noon', 'radar', 'rotor', 'tenet']\n",
      "All the strings in a list is a palindrome string\n"
     ]
    }
   ],
   "source": [
    "\n",
    "\"\"\"\n",
    "The Second method is written in such a way that we can enter multiple palindrome string as a list and \n",
    "the program will provide o/p for all palindrome string present in a List.\n",
    " \n",
    " Below are the possible scenario where passing multiple string the o/p will be palindrome or NON Palindrome String based.\n",
    "# Case1: If passing multiple input as palindrome str then o/p is \"The string is palindrome\"\n",
    "# Case2: If passing multiple input as mixed string containing palindrome & Non Palindrome string \n",
    "# then output is \"The string is not a palindrome string\"\n",
    "#Case3: If passing multiple input as Non Palindrome string then o/p is \"The string is not a Palindrome String\"\n",
    "\n",
    "\"\"\"\n",
    "\n",
    "palindrome_str = [str(palindrome_str) for palindrome_str in input(\"Enter multiple value: \").split()] \n",
    "print(\"Number of list is: \", palindrome_str)\n",
    "\n",
    "print(palindrome_str)\n",
    "\n",
    "palindrome_str.reverse\n",
    "reverse_str = [x[::-1] for x in palindrome_str]\n",
    "\n",
    "\n",
    "if list(palindrome_str) == list(reverse_str):\n",
    "    print(\"All the strings in a list is a palindrome string\")\n",
    "    \n",
    "else:\n",
    "    print(\"The strings present in a list is not a plaindrome or it is a Mixed String\")\n",
    "    \n",
    "# Input Value\n",
    "# Case 1(Passing Palindrome Str) :Enter Multiple Value : mom civic noon radar rotor tenet\n",
    "# Case 2(Passing Mixed Str) :Enter Multiple Value : mom civic noon happy joy wish\n",
    "# Case 3(Passing Non Palindrome Str):Enter Multiple Value : Python Coding Assignments"
   ]
  },
  {
   "attachments": {
    "image.png": {
     "image/png": "[encoded data removed]"
    }
   },
   "cell_type": "markdown",
   "metadata": {},
   "source": [
    "## 14.Write a Python program to get the third side of right-angled triangle from two given sides.\n",
    "\n",
    "![image.png](attachment:image.png)\n"
   ]
  },
  {
   "cell_type": "raw",
   "metadata": {},
   "source": [
    " Hypotonous = c, Adjacent Side/Base = b & Opposite Side/Height = a\n",
    " Pythogoras Theorem Formula : [c(sqr)= a(sqr)+b(sqr)]"
   ]
  },
  {
   "cell_type": "code",
   "execution_count": 49,
   "metadata": {},
   "outputs": [
    {
     "data": {
      "text/plain": [
       "'Not a valid operation'"
      ]
     },
     "execution_count": 49,
     "metadata": {},
     "output_type": "execute_result"
    }
   ],
   "source": [
    "def sideoftriangle(operator,a,b,c):\n",
    "    return {\n",
    "        'opp' : lambda:(\"Opp = \" + str(((c**2) - (b**2))**0.5)),\n",
    "        'adj' : lambda:(\"Adj = \" + str(((c**2) - (a**2))**0.5)),\n",
    "        'hyp' : lambda:(\"Hyp = \" + str(((a**2) + (b**2))**0.5)),\n",
    "        \n",
    "    }.get(operator, lambda: 'Not a valid operation')()\n",
    "\n",
    "#sideoftriangle('hyp',3,4,'c')\n",
    "#sideoftriangle('adj',3,'b',5)\n",
    "#sideoftriangle('opp','a',4,5)\n",
    "sideoftriangle(3,4,5,8)"
   ]
  },
  {
   "cell_type": "code",
   "execution_count": 46,
   "metadata": {},
   "outputs": [
    {
     "data": {
      "text/plain": [
       "'Adj = 4.0'"
      ]
     },
     "execution_count": 46,
     "metadata": {},
     "output_type": "execute_result"
    }
   ],
   "source": [
    "sideoftriangle('adj',3,'b',5)"
   ]
  },
  {
   "cell_type": "code",
   "execution_count": 47,
   "metadata": {},
   "outputs": [
    {
     "data": {
      "text/plain": [
       "'Opp = 3.0'"
      ]
     },
     "execution_count": 47,
     "metadata": {},
     "output_type": "execute_result"
    }
   ],
   "source": [
    "sideoftriangle('opp','a',4,5)"
   ]
  },
  {
   "cell_type": "code",
   "execution_count": 48,
   "metadata": {},
   "outputs": [
    {
     "data": {
      "text/plain": [
       "'Hyp = 5.0'"
      ]
     },
     "execution_count": 48,
     "metadata": {},
     "output_type": "execute_result"
    }
   ],
   "source": [
    "sideoftriangle('hyp',3,4,'c')"
   ]
  },
  {
   "cell_type": "markdown",
   "metadata": {},
   "source": [
    "## 15. Write a python program to print the frequency of each of the characters present in a given string."
   ]
  },
  {
   "cell_type": "code",
   "execution_count": 19,
   "metadata": {},
   "outputs": [
    {
     "name": "stdout",
     "output_type": "stream",
     "text": [
      " Input a Text String: I Want to Know the Number of Frequency in Each Character\n",
      "Frequency of Each Char in 'I Want to Know the Number of Frequency in Each Character is :\n",
      " Counter({' ': 10, 'e': 5, 'a': 4, 'n': 4, 't': 4, 'r': 4, 'o': 3, 'h': 3, 'c': 3, 'u': 2, 'I': 1, 'W': 1, 'K': 1, 'w': 1, 'N': 1, 'm': 1, 'b': 1, 'f': 1, 'F': 1, 'q': 1, 'y': 1, 'i': 1, 'E': 1, 'C': 1})\n"
     ]
    }
   ],
   "source": [
    "\"\"\"\n",
    "I have used counter method to print the no of frequency of each characters present in a given string, Though there are various ways \n",
    "to develop this program but I feel comfortable to use counter method.\n",
    "\n",
    "\"\"\"\n",
    "from collections import Counter\n",
    "input_string = str(input(\" Input a Text String: \"))\n",
    "freq_per_char = Counter(input_string)\n",
    "\n",
    "print(\"Frequency of Each Char in '{} is :\\n {}\".format(input_string,str(freq_per_char)))"
   ]
  },
  {
   "cell_type": "code",
   "execution_count": null,
   "metadata": {},
   "outputs": [],
   "source": []
  }
 ],
 "metadata": {
  "kernelspec": {
   "display_name": "Python 3",
   "language": "python",
   "name": "python3"
  },
  "language_info": {
   "codemirror_mode": {
    "name": "ipython",
    "version": 3
   },
   "file_extension": ".py",
   "mimetype": "text/x-python",
   "name": "python",
   "nbconvert_exporter": "python",
   "pygments_lexer": "ipython3",
   "version": "3.6.4"
  }
 },
 "nbformat": 4,
 "nbformat_minor": 2
}
