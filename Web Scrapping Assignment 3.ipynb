{
 "cells": [
  {
   "cell_type": "markdown",
   "metadata": {},
   "source": [
    "# 1 Search Product at Amazon site."
   ]
  },
  {
   "cell_type": "code",
   "execution_count": 269,
   "metadata": {},
   "outputs": [],
   "source": [
    "import numpy as np\n",
    "import pandas as pd\n",
    "from time import sleep\n",
    "from random import randint\n",
    "from selenium import webdriver"
   ]
  },
  {
   "cell_type": "code",
   "execution_count": 270,
   "metadata": {},
   "outputs": [],
   "source": [
    "driver = webdriver.Chrome(r\"C:/Users/Lab/Desktop/FlipRobo Internship/chromedriver.exe\")"
   ]
  },
  {
   "cell_type": "code",
   "execution_count": 271,
   "metadata": {},
   "outputs": [],
   "source": [
    "driver.get(\"https://www.amazon.in\")"
   ]
  },
  {
   "cell_type": "code",
   "execution_count": 272,
   "metadata": {},
   "outputs": [],
   "source": [
    "search_job = driver.find_element_by_id('twotabsearchtextbox')\n",
    "search_job.send_keys(\"Guitar\")"
   ]
  },
  {
   "cell_type": "code",
   "execution_count": 273,
   "metadata": {},
   "outputs": [],
   "source": [
    "search_btn = driver.find_element_by_xpath(\"//input[@id='nav-search-submit-button']\")\n",
    "search_btn.click()"
   ]
  },
  {
   "cell_type": "code",
   "execution_count": 274,
   "metadata": {},
   "outputs": [],
   "source": [
    "driver.close()"
   ]
  },
  {
   "cell_type": "code",
   "execution_count": null,
   "metadata": {},
   "outputs": [],
   "source": []
  },
  {
   "cell_type": "markdown",
   "metadata": {},
   "source": [
    "# 2.Amazon Product Details"
   ]
  },
  {
   "cell_type": "code",
   "execution_count": 276,
   "metadata": {},
   "outputs": [],
   "source": [
    "import numpy as np\n",
    "import pandas as pd\n",
    "from time import sleep\n",
    "from random import randint\n",
    "from selenium import webdriver"
   ]
  },
  {
   "cell_type": "code",
   "execution_count": 277,
   "metadata": {},
   "outputs": [],
   "source": [
    "driver = webdriver.Chrome(r\"C:/Users/Lab/Desktop/FlipRobo Internship/chromedriver.exe\")"
   ]
  },
  {
   "cell_type": "code",
   "execution_count": 278,
   "metadata": {},
   "outputs": [],
   "source": [
    "driver.get(\"https://www.amazon.in\")"
   ]
  },
  {
   "cell_type": "code",
   "execution_count": 279,
   "metadata": {},
   "outputs": [],
   "source": [
    "search_job = driver.find_element_by_id('twotabsearchtextbox')\n",
    "search_job.send_keys(\"Guitar\")"
   ]
  },
  {
   "cell_type": "code",
   "execution_count": 280,
   "metadata": {},
   "outputs": [],
   "source": [
    "search_btn = driver.find_element_by_xpath(\"//input[@id='nav-search-submit-button']\")\n",
    "search_btn.click()"
   ]
  },
  {
   "cell_type": "code",
   "execution_count": 281,
   "metadata": {},
   "outputs": [],
   "source": [
    "driver.get(\"https://www.amazon.in/s?k=Guitar&ref=nb_sb_noss\")"
   ]
  },
  {
   "cell_type": "code",
   "execution_count": 286,
   "metadata": {},
   "outputs": [],
   "source": [
    "pages = np.arange(1,7,1)\n",
    "Brand_Name=[]\n",
    "Product_Name=[]\n",
    "Rating=[]\n",
    "No_of_Rating=[]\n",
    "Price=[]\n",
    "Return=[]\n",
    "Expected_Delivery=[]\n",
    "Availabilty=[]\n",
    "\n",
    "\n",
    "\n",
    "for page in pages:\n",
    "    \n",
    "    page=\"https://www.amazon.in/s?k=Guitar&ref=nb_sb_noss\" + str(page) \n",
    "    driver = webdriver.Chrome(r\"C:/Users/Lab/Desktop/FlipRobo Internship/chromedriver.exe\")\n",
    "    driver.get(page)  \n",
    "    sleep(randint(2,10))\n",
    "    #soup = BeautifulSoup(driver.page_source, 'html.parser')\n",
    "    brand_tags=driver.find_elements_by_xpath(\"//h2[@class='a-size-mini a-spacing-none a-color-base s-line-clamp-2']\")\n",
    "    price_tags=driver.find_elements_by_xpath(\"//span[@class='a-price']\")\n",
    "    delivery_tags=driver.find_elements_by_xpath(\"//span[@class='a-text-bold']\")\n",
    "    Availabilty_tags=driver.find_elements_by_xpath(\"//span[@class='a-size-base a-color-price']\")\n",
    "    \n",
    "\n",
    "    \n",
    "        \n",
    "    for i in brand_tags:\n",
    "        b=i.text\n",
    "        Brand_Name.append(b)\n",
    "    Brand_Name[0:10]\n",
    "    \n",
    "    \n",
    "    for i in price_tags:\n",
    "        r=i.text\n",
    "        Price.append(r)\n",
    "    Price[0:10]\n",
    "    \n",
    "    \n",
    "    for i in delivery_tags:\n",
    "        dy=i.text\n",
    "        Expected_Delivery.append(dy)\n",
    "    Expected_Delivery[0:10]\n",
    "\n",
    "    for i in Availabilty_tags:\n",
    "        a=i.text\n",
    "        Availabilty.append(a)\n",
    "    Availabilty[0:10]"
   ]
  },
  {
   "cell_type": "code",
   "execution_count": 287,
   "metadata": {},
   "outputs": [
    {
     "name": "stdout",
     "output_type": "stream",
     "text": [
      "193 382 355 9\n"
     ]
    }
   ],
   "source": [
    "print(len(Brand_Name),len(Price),len(Expected_Delivery),len(Availabilty))"
   ]
  },
  {
   "cell_type": "code",
   "execution_count": 288,
   "metadata": {},
   "outputs": [],
   "source": [
    "amazon=pd.DataFrame({})\n",
    "amazon['Brand_Name']=Brand_Name[0:9]\n",
    "amazon['Price']=Price[0:9]\n",
    "amazon['Expected_Delivery']=Expected_Delivery[0:9]\n",
    "amazon['Availabilty']=Availabilty[0:9]"
   ]
  },
  {
   "cell_type": "code",
   "execution_count": 289,
   "metadata": {},
   "outputs": [
    {
     "data": {
      "text/html": [
       "<div>\n",
       "<style scoped>\n",
       "    .dataframe tbody tr th:only-of-type {\n",
       "        vertical-align: middle;\n",
       "    }\n",
       "\n",
       "    .dataframe tbody tr th {\n",
       "        vertical-align: top;\n",
       "    }\n",
       "\n",
       "    .dataframe thead th {\n",
       "        text-align: right;\n",
       "    }\n",
       "</style>\n",
       "<table border=\"1\" class=\"dataframe\">\n",
       "  <thead>\n",
       "    <tr style=\"text-align: right;\">\n",
       "      <th></th>\n",
       "      <th>Brand_Name</th>\n",
       "      <th>Price</th>\n",
       "      <th>Expected_Delivery</th>\n",
       "      <th>Availabilty</th>\n",
       "    </tr>\n",
       "  </thead>\n",
       "  <tbody>\n",
       "    <tr>\n",
       "      <th>0</th>\n",
       "      <td>Ketostics Givson Venus Special Guitar Combo (R...</td>\n",
       "      <td>₹3,999</td>\n",
       "      <td>Friday, October 29</td>\n",
       "      <td>Only 2 left in stock.</td>\n",
       "    </tr>\n",
       "    <tr>\n",
       "      <th>1</th>\n",
       "      <td>Ketostics Givson Venus Special Guitar (RED) VS...</td>\n",
       "      <td>₹3,999</td>\n",
       "      <td>Friday, October 29</td>\n",
       "      <td>Only 2 left in stock.</td>\n",
       "    </tr>\n",
       "    <tr>\n",
       "      <th>2</th>\n",
       "      <td>Ketostics Givson Venus Special Guitar Combo (B...</td>\n",
       "      <td>₹4,199</td>\n",
       "      <td>Friday, October 29</td>\n",
       "      <td>Only 2 left in stock.</td>\n",
       "    </tr>\n",
       "    <tr>\n",
       "      <th>3</th>\n",
       "      <td>GUITAR BRO - COMBO (Black Acoustic Guitar for ...</td>\n",
       "      <td>₹6,499</td>\n",
       "      <td>Tuesday, October 26</td>\n",
       "      <td>Only 2 left in stock.</td>\n",
       "    </tr>\n",
       "    <tr>\n",
       "      <th>4</th>\n",
       "      <td>Juârez Acoustic Guitar, 38 Inch Cutaway, 038C ...</td>\n",
       "      <td>₹2,199</td>\n",
       "      <td>Friday, October 29</td>\n",
       "      <td>Only 2 left in stock.</td>\n",
       "    </tr>\n",
       "    <tr>\n",
       "      <th>5</th>\n",
       "      <td>Intern INT-38C Acoustic Guitar Kit, With Bag, ...</td>\n",
       "      <td>₹1,790</td>\n",
       "      <td>Tuesday, October 26</td>\n",
       "      <td>Only 2 left in stock.</td>\n",
       "    </tr>\n",
       "    <tr>\n",
       "      <th>6</th>\n",
       "      <td>Juarez Acoustic Guitar Kit, 38 Inch Cutaway, 3...</td>\n",
       "      <td>₹1,899</td>\n",
       "      <td>Thursday, October 28</td>\n",
       "      <td>Only 2 left in stock.</td>\n",
       "    </tr>\n",
       "    <tr>\n",
       "      <th>7</th>\n",
       "      <td>Juârez Acoustic Guitar, 38 Inch Cutaway, 038C ...</td>\n",
       "      <td>₹6,174</td>\n",
       "      <td>Thursday, October 28</td>\n",
       "      <td>Only 2 left in stock.</td>\n",
       "    </tr>\n",
       "    <tr>\n",
       "      <th>8</th>\n",
       "      <td>Intern INT-38C Acoustic Guitar Kit (Sunburst) ...</td>\n",
       "      <td>₹2,199</td>\n",
       "      <td>Saturday, October 30</td>\n",
       "      <td>Only 2 left in stock.</td>\n",
       "    </tr>\n",
       "  </tbody>\n",
       "</table>\n",
       "</div>"
      ],
      "text/plain": [
       "                                          Brand_Name   Price  \\\n",
       "0  Ketostics Givson Venus Special Guitar Combo (R...  ₹3,999   \n",
       "1  Ketostics Givson Venus Special Guitar (RED) VS...  ₹3,999   \n",
       "2  Ketostics Givson Venus Special Guitar Combo (B...  ₹4,199   \n",
       "3  GUITAR BRO - COMBO (Black Acoustic Guitar for ...  ₹6,499   \n",
       "4  Juârez Acoustic Guitar, 38 Inch Cutaway, 038C ...  ₹2,199   \n",
       "5  Intern INT-38C Acoustic Guitar Kit, With Bag, ...  ₹1,790   \n",
       "6  Juarez Acoustic Guitar Kit, 38 Inch Cutaway, 3...  ₹1,899   \n",
       "7  Juârez Acoustic Guitar, 38 Inch Cutaway, 038C ...  ₹6,174   \n",
       "8  Intern INT-38C Acoustic Guitar Kit (Sunburst) ...  ₹2,199   \n",
       "\n",
       "      Expected_Delivery            Availabilty  \n",
       "0    Friday, October 29  Only 2 left in stock.  \n",
       "1    Friday, October 29  Only 2 left in stock.  \n",
       "2    Friday, October 29  Only 2 left in stock.  \n",
       "3   Tuesday, October 26  Only 2 left in stock.  \n",
       "4    Friday, October 29  Only 2 left in stock.  \n",
       "5   Tuesday, October 26  Only 2 left in stock.  \n",
       "6  Thursday, October 28  Only 2 left in stock.  \n",
       "7  Thursday, October 28  Only 2 left in stock.  \n",
       "8  Saturday, October 30  Only 2 left in stock.  "
      ]
     },
     "execution_count": 289,
     "metadata": {},
     "output_type": "execute_result"
    }
   ],
   "source": [
    "amazon"
   ]
  },
  {
   "cell_type": "code",
   "execution_count": 290,
   "metadata": {},
   "outputs": [],
   "source": [
    "amazon.to_csv('amazon2.csv')"
   ]
  },
  {
   "cell_type": "markdown",
   "metadata": {},
   "source": [
    "# 4.Flipkart Smartphone details"
   ]
  },
  {
   "cell_type": "code",
   "execution_count": 252,
   "metadata": {},
   "outputs": [],
   "source": [
    "import numpy as np\n",
    "import pandas as pd\n",
    "from time import sleep\n",
    "from random import randint\n",
    "from selenium import webdriver"
   ]
  },
  {
   "cell_type": "code",
   "execution_count": 253,
   "metadata": {},
   "outputs": [],
   "source": [
    "driver = webdriver.Chrome(r\"C:/Users/Lab/Desktop/FlipRobo Internship/chromedriver.exe\")"
   ]
  },
  {
   "cell_type": "code",
   "execution_count": 254,
   "metadata": {},
   "outputs": [],
   "source": [
    "driver.get(\"https://www.flipkart.com\")"
   ]
  },
  {
   "cell_type": "code",
   "execution_count": 255,
   "metadata": {},
   "outputs": [],
   "source": [
    "search_job = driver.find_element_by_class_name('_3704LK')\n",
    "search_job.send_keys(\"smartphone\")"
   ]
  },
  {
   "cell_type": "code",
   "execution_count": 256,
   "metadata": {},
   "outputs": [],
   "source": [
    "search_btn = driver.find_element_by_class_name('L0Z3Pu')\n",
    "search_btn.click()"
   ]
  },
  {
   "cell_type": "code",
   "execution_count": 264,
   "metadata": {},
   "outputs": [],
   "source": [
    "pages = np.arange(1,3,1)\n",
    "brand=[]\n",
    "storage=[]\n",
    "display_size=[]\n",
    "camera=[]\n",
    "battery=[]\n",
    "processor=[]\n",
    "price=[]\n",
    "\n",
    "\n",
    "for page in pages:\n",
    "    \n",
    "    page=\"https://www.flipkart.com/search?q=smartphone&otracker=search&otracker1=search&marketplace=FLIPKART&as-show=on&as=off\" + str(page) \n",
    "    driver = webdriver.Chrome(r\"C:/Users/Lab/Desktop/FlipRobo Internship/chromedriver.exe\")\n",
    "    driver.get(page)  \n",
    "    sleep(randint(2,10))\n",
    "    #soup = BeautifulSoup(driver.page_source, 'html.parser')\n",
    "    brand_tags=driver.find_elements_by_xpath(\"//div[@class='_4rR01T']\")\n",
    "    storage_tags=driver.find_elements_by_xpath(\"//li[@class='rgWa7D']\")\n",
    "    display_size_tags=driver.find_elements_by_xpath(\"//li[@class='rgWa7D']\")\n",
    "    camera_tags=driver.find_elements_by_xpath(\"//li[@class='rgWa7D']\")\n",
    "    battery_tags=driver.find_elements_by_xpath(\"//li[@class='rgWa7D']\")\n",
    "    processor_tags=driver.find_elements_by_xpath(\"//li[@class='rgWa7D']\")\n",
    "    price_tags=driver.find_elements_by_xpath(\"//div[@class='_30jeq3 _1_WHN1']\")\n",
    "    \n",
    "\n",
    "    \n",
    "        \n",
    "    for i in brand_tags:\n",
    "        brnd=i.text\n",
    "        brand.append(brnd)\n",
    "    brand[0:100]\n",
    "    \n",
    "    \n",
    "    for i in storage_tags:\n",
    "        prdt=i.text\n",
    "        storage.append(prdt)\n",
    "    storage[0:100]\n",
    "    \n",
    "    \n",
    "     \n",
    "    for i in display_size_tags:\n",
    "        display=i.text\n",
    "        display_size.append(display)\n",
    "    display_size[0:100]\n",
    "    \n",
    "    \n",
    "     \n",
    "    for i in camera_tags:\n",
    "        cam=i.text\n",
    "        camera.append(cam)\n",
    "    camera[0:100]\n",
    "    \n",
    "    \n",
    "     \n",
    "    for i in battery_tags:\n",
    "        battry=i.text\n",
    "        battery.append(battry)\n",
    "    battery[0:100]\n",
    "    \n",
    "    \n",
    "     \n",
    "    for i in processor_tags:\n",
    "        proc=i.text\n",
    "        processor.append(proc)\n",
    "    processor[0:100]\n",
    "    \n",
    "    \n",
    "    \n",
    "    for i in price_tags:\n",
    "        prce=i.text\n",
    "        price.append(prce)\n",
    "    price[0:100]"
   ]
  },
  {
   "cell_type": "code",
   "execution_count": 265,
   "metadata": {},
   "outputs": [
    {
     "name": "stdout",
     "output_type": "stream",
     "text": [
      "48 302 302 302 302 302 48\n"
     ]
    }
   ],
   "source": [
    "print(len(brand),len(storage),len(display_size),len(camera),len(battery),len(processor),len(price))"
   ]
  },
  {
   "cell_type": "code",
   "execution_count": 266,
   "metadata": {},
   "outputs": [],
   "source": [
    "flipkart=pd.DataFrame({})\n",
    "flipkart['brand']=brand[0:40]\n",
    "flipkart['storage']=storage[0:40]\n",
    "flipkart['display_size']=display_size[0:40]\n",
    "flipkart['camera']=camera[0:40]\n",
    "flipkart['battery']=battery[0:40]\n",
    "flipkart['processor']=processor[0:40]\n",
    "flipkart['price']=price[0:40]"
   ]
  },
  {
   "cell_type": "code",
   "execution_count": 267,
   "metadata": {},
   "outputs": [
    {
     "data": {
      "text/html": [
       "<div>\n",
       "<style scoped>\n",
       "    .dataframe tbody tr th:only-of-type {\n",
       "        vertical-align: middle;\n",
       "    }\n",
       "\n",
       "    .dataframe tbody tr th {\n",
       "        vertical-align: top;\n",
       "    }\n",
       "\n",
       "    .dataframe thead th {\n",
       "        text-align: right;\n",
       "    }\n",
       "</style>\n",
       "<table border=\"1\" class=\"dataframe\">\n",
       "  <thead>\n",
       "    <tr style=\"text-align: right;\">\n",
       "      <th></th>\n",
       "      <th>brand</th>\n",
       "      <th>storage</th>\n",
       "      <th>display_size</th>\n",
       "      <th>camera</th>\n",
       "      <th>battery</th>\n",
       "      <th>processor</th>\n",
       "      <th>price</th>\n",
       "    </tr>\n",
       "  </thead>\n",
       "  <tbody>\n",
       "    <tr>\n",
       "      <th>0</th>\n",
       "      <td>realme C21Y (Cross Blue, 64 GB)</td>\n",
       "      <td>4 GB RAM | 64 GB ROM | Expandable Upto 256 GB</td>\n",
       "      <td>4 GB RAM | 64 GB ROM | Expandable Upto 256 GB</td>\n",
       "      <td>4 GB RAM | 64 GB ROM | Expandable Upto 256 GB</td>\n",
       "      <td>4 GB RAM | 64 GB ROM | Expandable Upto 256 GB</td>\n",
       "      <td>4 GB RAM | 64 GB ROM | Expandable Upto 256 GB</td>\n",
       "      <td>₹9,999</td>\n",
       "    </tr>\n",
       "    <tr>\n",
       "      <th>1</th>\n",
       "      <td>realme C21Y (Cross Blue, 32 GB)</td>\n",
       "      <td>16.51 cm (6.5 inch) HD+ Display</td>\n",
       "      <td>16.51 cm (6.5 inch) HD+ Display</td>\n",
       "      <td>16.51 cm (6.5 inch) HD+ Display</td>\n",
       "      <td>16.51 cm (6.5 inch) HD+ Display</td>\n",
       "      <td>16.51 cm (6.5 inch) HD+ Display</td>\n",
       "      <td>₹8,999</td>\n",
       "    </tr>\n",
       "    <tr>\n",
       "      <th>2</th>\n",
       "      <td>realme C21Y (Cross Black, 64 GB)</td>\n",
       "      <td>13MP + 2MP + 2MP | 5MP Front Camera</td>\n",
       "      <td>13MP + 2MP + 2MP | 5MP Front Camera</td>\n",
       "      <td>13MP + 2MP + 2MP | 5MP Front Camera</td>\n",
       "      <td>13MP + 2MP + 2MP | 5MP Front Camera</td>\n",
       "      <td>13MP + 2MP + 2MP | 5MP Front Camera</td>\n",
       "      <td>₹9,999</td>\n",
       "    </tr>\n",
       "    <tr>\n",
       "      <th>3</th>\n",
       "      <td>realme C11 2021 (Cool Grey, 32 GB)</td>\n",
       "      <td>5000 mAh Battery</td>\n",
       "      <td>5000 mAh Battery</td>\n",
       "      <td>5000 mAh Battery</td>\n",
       "      <td>5000 mAh Battery</td>\n",
       "      <td>5000 mAh Battery</td>\n",
       "      <td>₹7,299</td>\n",
       "    </tr>\n",
       "    <tr>\n",
       "      <th>4</th>\n",
       "      <td>realme C11 2021 (Cool Blue, 32 GB)</td>\n",
       "      <td>Unisoc T610 Processor</td>\n",
       "      <td>Unisoc T610 Processor</td>\n",
       "      <td>Unisoc T610 Processor</td>\n",
       "      <td>Unisoc T610 Processor</td>\n",
       "      <td>Unisoc T610 Processor</td>\n",
       "      <td>₹7,299</td>\n",
       "    </tr>\n",
       "    <tr>\n",
       "      <th>5</th>\n",
       "      <td>POCO M3 (Cool Blue, 64 GB)</td>\n",
       "      <td>1 Year Warranty for Mobile and 6 Months for Ac...</td>\n",
       "      <td>1 Year Warranty for Mobile and 6 Months for Ac...</td>\n",
       "      <td>1 Year Warranty for Mobile and 6 Months for Ac...</td>\n",
       "      <td>1 Year Warranty for Mobile and 6 Months for Ac...</td>\n",
       "      <td>1 Year Warranty for Mobile and 6 Months for Ac...</td>\n",
       "      <td>₹11,999</td>\n",
       "    </tr>\n",
       "    <tr>\n",
       "      <th>6</th>\n",
       "      <td>realme C11 2021 (Cool Grey, 64 GB)</td>\n",
       "      <td>3 GB RAM | 32 GB ROM | Expandable Upto 256 GB</td>\n",
       "      <td>3 GB RAM | 32 GB ROM | Expandable Upto 256 GB</td>\n",
       "      <td>3 GB RAM | 32 GB ROM | Expandable Upto 256 GB</td>\n",
       "      <td>3 GB RAM | 32 GB ROM | Expandable Upto 256 GB</td>\n",
       "      <td>3 GB RAM | 32 GB ROM | Expandable Upto 256 GB</td>\n",
       "      <td>₹8,799</td>\n",
       "    </tr>\n",
       "    <tr>\n",
       "      <th>7</th>\n",
       "      <td>realme Narzo 50A (Oxygen Blue, 64 GB)</td>\n",
       "      <td>16.51 cm (6.5 inch) HD+ Display</td>\n",
       "      <td>16.51 cm (6.5 inch) HD+ Display</td>\n",
       "      <td>16.51 cm (6.5 inch) HD+ Display</td>\n",
       "      <td>16.51 cm (6.5 inch) HD+ Display</td>\n",
       "      <td>16.51 cm (6.5 inch) HD+ Display</td>\n",
       "      <td>₹11,499</td>\n",
       "    </tr>\n",
       "    <tr>\n",
       "      <th>8</th>\n",
       "      <td>realme Narzo 50A (Oxygen Green, 64 GB)</td>\n",
       "      <td>13MP + 2MP + 2MP | 5MP Front Camera</td>\n",
       "      <td>13MP + 2MP + 2MP | 5MP Front Camera</td>\n",
       "      <td>13MP + 2MP + 2MP | 5MP Front Camera</td>\n",
       "      <td>13MP + 2MP + 2MP | 5MP Front Camera</td>\n",
       "      <td>13MP + 2MP + 2MP | 5MP Front Camera</td>\n",
       "      <td>₹11,499</td>\n",
       "    </tr>\n",
       "    <tr>\n",
       "      <th>9</th>\n",
       "      <td>realme Narzo 50A (Oxygen Blue, 128 GB)</td>\n",
       "      <td>5000 mAh Battery</td>\n",
       "      <td>5000 mAh Battery</td>\n",
       "      <td>5000 mAh Battery</td>\n",
       "      <td>5000 mAh Battery</td>\n",
       "      <td>5000 mAh Battery</td>\n",
       "      <td>₹12,499</td>\n",
       "    </tr>\n",
       "    <tr>\n",
       "      <th>10</th>\n",
       "      <td>realme Narzo 50A (Oxygen Green, 128 GB)</td>\n",
       "      <td>Unisoc T610 Processor</td>\n",
       "      <td>Unisoc T610 Processor</td>\n",
       "      <td>Unisoc T610 Processor</td>\n",
       "      <td>Unisoc T610 Processor</td>\n",
       "      <td>Unisoc T610 Processor</td>\n",
       "      <td>₹12,499</td>\n",
       "    </tr>\n",
       "    <tr>\n",
       "      <th>11</th>\n",
       "      <td>realme C11 2021 (Cool Blue, 64 GB)</td>\n",
       "      <td>1 Year Warranty for Mobile and 6 Months for Ac...</td>\n",
       "      <td>1 Year Warranty for Mobile and 6 Months for Ac...</td>\n",
       "      <td>1 Year Warranty for Mobile and 6 Months for Ac...</td>\n",
       "      <td>1 Year Warranty for Mobile and 6 Months for Ac...</td>\n",
       "      <td>1 Year Warranty for Mobile and 6 Months for Ac...</td>\n",
       "      <td>₹8,799</td>\n",
       "    </tr>\n",
       "    <tr>\n",
       "      <th>12</th>\n",
       "      <td>POCO C3 (Arctic Blue, 32 GB)</td>\n",
       "      <td>4 GB RAM | 64 GB ROM | Expandable Upto 256 GB</td>\n",
       "      <td>4 GB RAM | 64 GB ROM | Expandable Upto 256 GB</td>\n",
       "      <td>4 GB RAM | 64 GB ROM | Expandable Upto 256 GB</td>\n",
       "      <td>4 GB RAM | 64 GB ROM | Expandable Upto 256 GB</td>\n",
       "      <td>4 GB RAM | 64 GB ROM | Expandable Upto 256 GB</td>\n",
       "      <td>₹7,999</td>\n",
       "    </tr>\n",
       "    <tr>\n",
       "      <th>13</th>\n",
       "      <td>POCO X3 Pro (Steel Blue, 128 GB)</td>\n",
       "      <td>16.51 cm (6.5 inch) HD+ Display</td>\n",
       "      <td>16.51 cm (6.5 inch) HD+ Display</td>\n",
       "      <td>16.51 cm (6.5 inch) HD+ Display</td>\n",
       "      <td>16.51 cm (6.5 inch) HD+ Display</td>\n",
       "      <td>16.51 cm (6.5 inch) HD+ Display</td>\n",
       "      <td>₹18,999</td>\n",
       "    </tr>\n",
       "    <tr>\n",
       "      <th>14</th>\n",
       "      <td>realme C25Y (Glacier Blue, 128 GB)</td>\n",
       "      <td>13MP + 2MP + 2MP | 5MP Front Camera</td>\n",
       "      <td>13MP + 2MP + 2MP | 5MP Front Camera</td>\n",
       "      <td>13MP + 2MP + 2MP | 5MP Front Camera</td>\n",
       "      <td>13MP + 2MP + 2MP | 5MP Front Camera</td>\n",
       "      <td>13MP + 2MP + 2MP | 5MP Front Camera</td>\n",
       "      <td>₹11,999</td>\n",
       "    </tr>\n",
       "    <tr>\n",
       "      <th>15</th>\n",
       "      <td>realme C25Y (Metal Grey, 128 GB)</td>\n",
       "      <td>5000 mAh Battery</td>\n",
       "      <td>5000 mAh Battery</td>\n",
       "      <td>5000 mAh Battery</td>\n",
       "      <td>5000 mAh Battery</td>\n",
       "      <td>5000 mAh Battery</td>\n",
       "      <td>₹11,999</td>\n",
       "    </tr>\n",
       "    <tr>\n",
       "      <th>16</th>\n",
       "      <td>OPPO A33 (Moonlight Black, 32 GB)</td>\n",
       "      <td>Unisoc T610 Processor</td>\n",
       "      <td>Unisoc T610 Processor</td>\n",
       "      <td>Unisoc T610 Processor</td>\n",
       "      <td>Unisoc T610 Processor</td>\n",
       "      <td>Unisoc T610 Processor</td>\n",
       "      <td>₹10,490</td>\n",
       "    </tr>\n",
       "    <tr>\n",
       "      <th>17</th>\n",
       "      <td>Infinix Hot 10 Play (Obsidian Black, 32 GB)</td>\n",
       "      <td>1 Year Warranty for Mobile and 6 Months for Ac...</td>\n",
       "      <td>1 Year Warranty for Mobile and 6 Months for Ac...</td>\n",
       "      <td>1 Year Warranty for Mobile and 6 Months for Ac...</td>\n",
       "      <td>1 Year Warranty for Mobile and 6 Months for Ac...</td>\n",
       "      <td>1 Year Warranty for Mobile and 6 Months for Ac...</td>\n",
       "      <td>₹8,299</td>\n",
       "    </tr>\n",
       "    <tr>\n",
       "      <th>18</th>\n",
       "      <td>Infinix Hot 10 Play (7° Purple, 32 GB)</td>\n",
       "      <td>2 GB RAM | 32 GB ROM | Expandable Upto 256 GB</td>\n",
       "      <td>2 GB RAM | 32 GB ROM | Expandable Upto 256 GB</td>\n",
       "      <td>2 GB RAM | 32 GB ROM | Expandable Upto 256 GB</td>\n",
       "      <td>2 GB RAM | 32 GB ROM | Expandable Upto 256 GB</td>\n",
       "      <td>2 GB RAM | 32 GB ROM | Expandable Upto 256 GB</td>\n",
       "      <td>₹8,299</td>\n",
       "    </tr>\n",
       "    <tr>\n",
       "      <th>19</th>\n",
       "      <td>REDMI 9i Sport (Carbon Black, 64 GB)</td>\n",
       "      <td>16.51 cm (6.5 inch) HD+ Display</td>\n",
       "      <td>16.51 cm (6.5 inch) HD+ Display</td>\n",
       "      <td>16.51 cm (6.5 inch) HD+ Display</td>\n",
       "      <td>16.51 cm (6.5 inch) HD+ Display</td>\n",
       "      <td>16.51 cm (6.5 inch) HD+ Display</td>\n",
       "      <td>₹8,499</td>\n",
       "    </tr>\n",
       "    <tr>\n",
       "      <th>20</th>\n",
       "      <td>REDMI 9 Prime (Matte Black, 64 GB)</td>\n",
       "      <td>8MP Rear Camera | 5MP Front Camera</td>\n",
       "      <td>8MP Rear Camera | 5MP Front Camera</td>\n",
       "      <td>8MP Rear Camera | 5MP Front Camera</td>\n",
       "      <td>8MP Rear Camera | 5MP Front Camera</td>\n",
       "      <td>8MP Rear Camera | 5MP Front Camera</td>\n",
       "      <td>₹10,499</td>\n",
       "    </tr>\n",
       "    <tr>\n",
       "      <th>21</th>\n",
       "      <td>OPPO A33 (Mint Cream, 32 GB)</td>\n",
       "      <td>5000 mAh Battery</td>\n",
       "      <td>5000 mAh Battery</td>\n",
       "      <td>5000 mAh Battery</td>\n",
       "      <td>5000 mAh Battery</td>\n",
       "      <td>5000 mAh Battery</td>\n",
       "      <td>₹10,490</td>\n",
       "    </tr>\n",
       "    <tr>\n",
       "      <th>22</th>\n",
       "      <td>MOTOROLA G40 Fusion (Dynamic Gray, 128 GB)</td>\n",
       "      <td>Octa-core Processor</td>\n",
       "      <td>Octa-core Processor</td>\n",
       "      <td>Octa-core Processor</td>\n",
       "      <td>Octa-core Processor</td>\n",
       "      <td>Octa-core Processor</td>\n",
       "      <td>₹16,499</td>\n",
       "    </tr>\n",
       "    <tr>\n",
       "      <th>23</th>\n",
       "      <td>Infinix Hot 10 Play (Aegean Blue, 32 GB)</td>\n",
       "      <td>1 Year Warranty for Mobile and 6 Months for Ac...</td>\n",
       "      <td>1 Year Warranty for Mobile and 6 Months for Ac...</td>\n",
       "      <td>1 Year Warranty for Mobile and 6 Months for Ac...</td>\n",
       "      <td>1 Year Warranty for Mobile and 6 Months for Ac...</td>\n",
       "      <td>1 Year Warranty for Mobile and 6 Months for Ac...</td>\n",
       "      <td>₹8,299</td>\n",
       "    </tr>\n",
       "    <tr>\n",
       "      <th>24</th>\n",
       "      <td>realme C21Y (Cross Blue, 64 GB)</td>\n",
       "      <td>2 GB RAM | 32 GB ROM | Expandable Upto 256 GB</td>\n",
       "      <td>2 GB RAM | 32 GB ROM | Expandable Upto 256 GB</td>\n",
       "      <td>2 GB RAM | 32 GB ROM | Expandable Upto 256 GB</td>\n",
       "      <td>2 GB RAM | 32 GB ROM | Expandable Upto 256 GB</td>\n",
       "      <td>2 GB RAM | 32 GB ROM | Expandable Upto 256 GB</td>\n",
       "      <td>₹9,999</td>\n",
       "    </tr>\n",
       "    <tr>\n",
       "      <th>25</th>\n",
       "      <td>realme C21Y (Cross Blue, 32 GB)</td>\n",
       "      <td>16.51 cm (6.5 inch) HD+ Display</td>\n",
       "      <td>16.51 cm (6.5 inch) HD+ Display</td>\n",
       "      <td>16.51 cm (6.5 inch) HD+ Display</td>\n",
       "      <td>16.51 cm (6.5 inch) HD+ Display</td>\n",
       "      <td>16.51 cm (6.5 inch) HD+ Display</td>\n",
       "      <td>₹8,999</td>\n",
       "    </tr>\n",
       "    <tr>\n",
       "      <th>26</th>\n",
       "      <td>realme C21Y (Cross Black, 64 GB)</td>\n",
       "      <td>8MP Rear Camera | 5MP Front Camera</td>\n",
       "      <td>8MP Rear Camera | 5MP Front Camera</td>\n",
       "      <td>8MP Rear Camera | 5MP Front Camera</td>\n",
       "      <td>8MP Rear Camera | 5MP Front Camera</td>\n",
       "      <td>8MP Rear Camera | 5MP Front Camera</td>\n",
       "      <td>₹9,999</td>\n",
       "    </tr>\n",
       "    <tr>\n",
       "      <th>27</th>\n",
       "      <td>POCO M3 (Cool Blue, 64 GB)</td>\n",
       "      <td>5000 mAh Battery</td>\n",
       "      <td>5000 mAh Battery</td>\n",
       "      <td>5000 mAh Battery</td>\n",
       "      <td>5000 mAh Battery</td>\n",
       "      <td>5000 mAh Battery</td>\n",
       "      <td>₹11,999</td>\n",
       "    </tr>\n",
       "    <tr>\n",
       "      <th>28</th>\n",
       "      <td>realme C11 2021 (Cool Grey, 32 GB)</td>\n",
       "      <td>Octa-core Processor</td>\n",
       "      <td>Octa-core Processor</td>\n",
       "      <td>Octa-core Processor</td>\n",
       "      <td>Octa-core Processor</td>\n",
       "      <td>Octa-core Processor</td>\n",
       "      <td>₹7,299</td>\n",
       "    </tr>\n",
       "    <tr>\n",
       "      <th>29</th>\n",
       "      <td>realme C11 2021 (Cool Blue, 32 GB)</td>\n",
       "      <td>1 Year Warranty for Mobile and 6 Months for Ac...</td>\n",
       "      <td>1 Year Warranty for Mobile and 6 Months for Ac...</td>\n",
       "      <td>1 Year Warranty for Mobile and 6 Months for Ac...</td>\n",
       "      <td>1 Year Warranty for Mobile and 6 Months for Ac...</td>\n",
       "      <td>1 Year Warranty for Mobile and 6 Months for Ac...</td>\n",
       "      <td>₹7,299</td>\n",
       "    </tr>\n",
       "    <tr>\n",
       "      <th>30</th>\n",
       "      <td>realme C11 2021 (Cool Blue, 64 GB)</td>\n",
       "      <td>6 GB RAM | 64 GB ROM | Expandable Upto 512 GB</td>\n",
       "      <td>6 GB RAM | 64 GB ROM | Expandable Upto 512 GB</td>\n",
       "      <td>6 GB RAM | 64 GB ROM | Expandable Upto 512 GB</td>\n",
       "      <td>6 GB RAM | 64 GB ROM | Expandable Upto 512 GB</td>\n",
       "      <td>6 GB RAM | 64 GB ROM | Expandable Upto 512 GB</td>\n",
       "      <td>₹8,799</td>\n",
       "    </tr>\n",
       "    <tr>\n",
       "      <th>31</th>\n",
       "      <td>realme Narzo 50A (Oxygen Blue, 128 GB)</td>\n",
       "      <td>16.59 cm (6.53 inch) Full HD+ Display</td>\n",
       "      <td>16.59 cm (6.53 inch) Full HD+ Display</td>\n",
       "      <td>16.59 cm (6.53 inch) Full HD+ Display</td>\n",
       "      <td>16.59 cm (6.53 inch) Full HD+ Display</td>\n",
       "      <td>16.59 cm (6.53 inch) Full HD+ Display</td>\n",
       "      <td>₹12,499</td>\n",
       "    </tr>\n",
       "    <tr>\n",
       "      <th>32</th>\n",
       "      <td>realme Narzo 50A (Oxygen Green, 64 GB)</td>\n",
       "      <td>48MP + 2MP + 2MP | 8MP Front Camera</td>\n",
       "      <td>48MP + 2MP + 2MP | 8MP Front Camera</td>\n",
       "      <td>48MP + 2MP + 2MP | 8MP Front Camera</td>\n",
       "      <td>48MP + 2MP + 2MP | 8MP Front Camera</td>\n",
       "      <td>48MP + 2MP + 2MP | 8MP Front Camera</td>\n",
       "      <td>₹11,499</td>\n",
       "    </tr>\n",
       "    <tr>\n",
       "      <th>33</th>\n",
       "      <td>realme Narzo 50A (Oxygen Blue, 64 GB)</td>\n",
       "      <td>6000 mAh Lithium-ion Polymer Battery</td>\n",
       "      <td>6000 mAh Lithium-ion Polymer Battery</td>\n",
       "      <td>6000 mAh Lithium-ion Polymer Battery</td>\n",
       "      <td>6000 mAh Lithium-ion Polymer Battery</td>\n",
       "      <td>6000 mAh Lithium-ion Polymer Battery</td>\n",
       "      <td>₹11,499</td>\n",
       "    </tr>\n",
       "    <tr>\n",
       "      <th>34</th>\n",
       "      <td>realme C11 2021 (Cool Grey, 64 GB)</td>\n",
       "      <td>Qualcomm Snapdragon 662 Processor</td>\n",
       "      <td>Qualcomm Snapdragon 662 Processor</td>\n",
       "      <td>Qualcomm Snapdragon 662 Processor</td>\n",
       "      <td>Qualcomm Snapdragon 662 Processor</td>\n",
       "      <td>Qualcomm Snapdragon 662 Processor</td>\n",
       "      <td>₹8,799</td>\n",
       "    </tr>\n",
       "    <tr>\n",
       "      <th>35</th>\n",
       "      <td>realme Narzo 50A (Oxygen Green, 128 GB)</td>\n",
       "      <td>Multiple Hands-free Voice Assistant</td>\n",
       "      <td>Multiple Hands-free Voice Assistant</td>\n",
       "      <td>Multiple Hands-free Voice Assistant</td>\n",
       "      <td>Multiple Hands-free Voice Assistant</td>\n",
       "      <td>Multiple Hands-free Voice Assistant</td>\n",
       "      <td>₹12,499</td>\n",
       "    </tr>\n",
       "    <tr>\n",
       "      <th>36</th>\n",
       "      <td>POCO C3 (Arctic Blue, 32 GB)</td>\n",
       "      <td>One Year Warranty for Handset, 6 Months for Ac...</td>\n",
       "      <td>One Year Warranty for Handset, 6 Months for Ac...</td>\n",
       "      <td>One Year Warranty for Handset, 6 Months for Ac...</td>\n",
       "      <td>One Year Warranty for Handset, 6 Months for Ac...</td>\n",
       "      <td>One Year Warranty for Handset, 6 Months for Ac...</td>\n",
       "      <td>₹7,999</td>\n",
       "    </tr>\n",
       "    <tr>\n",
       "      <th>37</th>\n",
       "      <td>POCO X3 Pro (Steel Blue, 128 GB)</td>\n",
       "      <td>4 GB RAM | 64 GB ROM | Expandable Upto 256 GB</td>\n",
       "      <td>4 GB RAM | 64 GB ROM | Expandable Upto 256 GB</td>\n",
       "      <td>4 GB RAM | 64 GB ROM | Expandable Upto 256 GB</td>\n",
       "      <td>4 GB RAM | 64 GB ROM | Expandable Upto 256 GB</td>\n",
       "      <td>4 GB RAM | 64 GB ROM | Expandable Upto 256 GB</td>\n",
       "      <td>₹18,999</td>\n",
       "    </tr>\n",
       "    <tr>\n",
       "      <th>38</th>\n",
       "      <td>realme C25Y (Glacier Blue, 128 GB)</td>\n",
       "      <td>16.51 cm (6.5 inch) HD+ Display</td>\n",
       "      <td>16.51 cm (6.5 inch) HD+ Display</td>\n",
       "      <td>16.51 cm (6.5 inch) HD+ Display</td>\n",
       "      <td>16.51 cm (6.5 inch) HD+ Display</td>\n",
       "      <td>16.51 cm (6.5 inch) HD+ Display</td>\n",
       "      <td>₹11,999</td>\n",
       "    </tr>\n",
       "    <tr>\n",
       "      <th>39</th>\n",
       "      <td>realme C25Y (Metal Grey, 128 GB)</td>\n",
       "      <td>8MP Rear Camera | 5MP Front Camera</td>\n",
       "      <td>8MP Rear Camera | 5MP Front Camera</td>\n",
       "      <td>8MP Rear Camera | 5MP Front Camera</td>\n",
       "      <td>8MP Rear Camera | 5MP Front Camera</td>\n",
       "      <td>8MP Rear Camera | 5MP Front Camera</td>\n",
       "      <td>₹11,999</td>\n",
       "    </tr>\n",
       "  </tbody>\n",
       "</table>\n",
       "</div>"
      ],
      "text/plain": [
       "                                          brand  \\\n",
       "0               realme C21Y (Cross Blue, 64 GB)   \n",
       "1               realme C21Y (Cross Blue, 32 GB)   \n",
       "2              realme C21Y (Cross Black, 64 GB)   \n",
       "3            realme C11 2021 (Cool Grey, 32 GB)   \n",
       "4            realme C11 2021 (Cool Blue, 32 GB)   \n",
       "5                    POCO M3 (Cool Blue, 64 GB)   \n",
       "6            realme C11 2021 (Cool Grey, 64 GB)   \n",
       "7         realme Narzo 50A (Oxygen Blue, 64 GB)   \n",
       "8        realme Narzo 50A (Oxygen Green, 64 GB)   \n",
       "9        realme Narzo 50A (Oxygen Blue, 128 GB)   \n",
       "10      realme Narzo 50A (Oxygen Green, 128 GB)   \n",
       "11           realme C11 2021 (Cool Blue, 64 GB)   \n",
       "12                 POCO C3 (Arctic Blue, 32 GB)   \n",
       "13             POCO X3 Pro (Steel Blue, 128 GB)   \n",
       "14           realme C25Y (Glacier Blue, 128 GB)   \n",
       "15             realme C25Y (Metal Grey, 128 GB)   \n",
       "16            OPPO A33 (Moonlight Black, 32 GB)   \n",
       "17  Infinix Hot 10 Play (Obsidian Black, 32 GB)   \n",
       "18       Infinix Hot 10 Play (7° Purple, 32 GB)   \n",
       "19         REDMI 9i Sport (Carbon Black, 64 GB)   \n",
       "20           REDMI 9 Prime (Matte Black, 64 GB)   \n",
       "21                 OPPO A33 (Mint Cream, 32 GB)   \n",
       "22   MOTOROLA G40 Fusion (Dynamic Gray, 128 GB)   \n",
       "23     Infinix Hot 10 Play (Aegean Blue, 32 GB)   \n",
       "24              realme C21Y (Cross Blue, 64 GB)   \n",
       "25              realme C21Y (Cross Blue, 32 GB)   \n",
       "26             realme C21Y (Cross Black, 64 GB)   \n",
       "27                   POCO M3 (Cool Blue, 64 GB)   \n",
       "28           realme C11 2021 (Cool Grey, 32 GB)   \n",
       "29           realme C11 2021 (Cool Blue, 32 GB)   \n",
       "30           realme C11 2021 (Cool Blue, 64 GB)   \n",
       "31       realme Narzo 50A (Oxygen Blue, 128 GB)   \n",
       "32       realme Narzo 50A (Oxygen Green, 64 GB)   \n",
       "33        realme Narzo 50A (Oxygen Blue, 64 GB)   \n",
       "34           realme C11 2021 (Cool Grey, 64 GB)   \n",
       "35      realme Narzo 50A (Oxygen Green, 128 GB)   \n",
       "36                 POCO C3 (Arctic Blue, 32 GB)   \n",
       "37             POCO X3 Pro (Steel Blue, 128 GB)   \n",
       "38           realme C25Y (Glacier Blue, 128 GB)   \n",
       "39             realme C25Y (Metal Grey, 128 GB)   \n",
       "\n",
       "                                              storage  \\\n",
       "0       4 GB RAM | 64 GB ROM | Expandable Upto 256 GB   \n",
       "1                     16.51 cm (6.5 inch) HD+ Display   \n",
       "2                 13MP + 2MP + 2MP | 5MP Front Camera   \n",
       "3                                    5000 mAh Battery   \n",
       "4                               Unisoc T610 Processor   \n",
       "5   1 Year Warranty for Mobile and 6 Months for Ac...   \n",
       "6       3 GB RAM | 32 GB ROM | Expandable Upto 256 GB   \n",
       "7                     16.51 cm (6.5 inch) HD+ Display   \n",
       "8                 13MP + 2MP + 2MP | 5MP Front Camera   \n",
       "9                                    5000 mAh Battery   \n",
       "10                              Unisoc T610 Processor   \n",
       "11  1 Year Warranty for Mobile and 6 Months for Ac...   \n",
       "12      4 GB RAM | 64 GB ROM | Expandable Upto 256 GB   \n",
       "13                    16.51 cm (6.5 inch) HD+ Display   \n",
       "14                13MP + 2MP + 2MP | 5MP Front Camera   \n",
       "15                                   5000 mAh Battery   \n",
       "16                              Unisoc T610 Processor   \n",
       "17  1 Year Warranty for Mobile and 6 Months for Ac...   \n",
       "18      2 GB RAM | 32 GB ROM | Expandable Upto 256 GB   \n",
       "19                    16.51 cm (6.5 inch) HD+ Display   \n",
       "20                 8MP Rear Camera | 5MP Front Camera   \n",
       "21                                   5000 mAh Battery   \n",
       "22                                Octa-core Processor   \n",
       "23  1 Year Warranty for Mobile and 6 Months for Ac...   \n",
       "24      2 GB RAM | 32 GB ROM | Expandable Upto 256 GB   \n",
       "25                    16.51 cm (6.5 inch) HD+ Display   \n",
       "26                 8MP Rear Camera | 5MP Front Camera   \n",
       "27                                   5000 mAh Battery   \n",
       "28                                Octa-core Processor   \n",
       "29  1 Year Warranty for Mobile and 6 Months for Ac...   \n",
       "30      6 GB RAM | 64 GB ROM | Expandable Upto 512 GB   \n",
       "31              16.59 cm (6.53 inch) Full HD+ Display   \n",
       "32                48MP + 2MP + 2MP | 8MP Front Camera   \n",
       "33               6000 mAh Lithium-ion Polymer Battery   \n",
       "34                  Qualcomm Snapdragon 662 Processor   \n",
       "35                Multiple Hands-free Voice Assistant   \n",
       "36  One Year Warranty for Handset, 6 Months for Ac...   \n",
       "37      4 GB RAM | 64 GB ROM | Expandable Upto 256 GB   \n",
       "38                    16.51 cm (6.5 inch) HD+ Display   \n",
       "39                 8MP Rear Camera | 5MP Front Camera   \n",
       "\n",
       "                                         display_size  \\\n",
       "0       4 GB RAM | 64 GB ROM | Expandable Upto 256 GB   \n",
       "1                     16.51 cm (6.5 inch) HD+ Display   \n",
       "2                 13MP + 2MP + 2MP | 5MP Front Camera   \n",
       "3                                    5000 mAh Battery   \n",
       "4                               Unisoc T610 Processor   \n",
       "5   1 Year Warranty for Mobile and 6 Months for Ac...   \n",
       "6       3 GB RAM | 32 GB ROM | Expandable Upto 256 GB   \n",
       "7                     16.51 cm (6.5 inch) HD+ Display   \n",
       "8                 13MP + 2MP + 2MP | 5MP Front Camera   \n",
       "9                                    5000 mAh Battery   \n",
       "10                              Unisoc T610 Processor   \n",
       "11  1 Year Warranty for Mobile and 6 Months for Ac...   \n",
       "12      4 GB RAM | 64 GB ROM | Expandable Upto 256 GB   \n",
       "13                    16.51 cm (6.5 inch) HD+ Display   \n",
       "14                13MP + 2MP + 2MP | 5MP Front Camera   \n",
       "15                                   5000 mAh Battery   \n",
       "16                              Unisoc T610 Processor   \n",
       "17  1 Year Warranty for Mobile and 6 Months for Ac...   \n",
       "18      2 GB RAM | 32 GB ROM | Expandable Upto 256 GB   \n",
       "19                    16.51 cm (6.5 inch) HD+ Display   \n",
       "20                 8MP Rear Camera | 5MP Front Camera   \n",
       "21                                   5000 mAh Battery   \n",
       "22                                Octa-core Processor   \n",
       "23  1 Year Warranty for Mobile and 6 Months for Ac...   \n",
       "24      2 GB RAM | 32 GB ROM | Expandable Upto 256 GB   \n",
       "25                    16.51 cm (6.5 inch) HD+ Display   \n",
       "26                 8MP Rear Camera | 5MP Front Camera   \n",
       "27                                   5000 mAh Battery   \n",
       "28                                Octa-core Processor   \n",
       "29  1 Year Warranty for Mobile and 6 Months for Ac...   \n",
       "30      6 GB RAM | 64 GB ROM | Expandable Upto 512 GB   \n",
       "31              16.59 cm (6.53 inch) Full HD+ Display   \n",
       "32                48MP + 2MP + 2MP | 8MP Front Camera   \n",
       "33               6000 mAh Lithium-ion Polymer Battery   \n",
       "34                  Qualcomm Snapdragon 662 Processor   \n",
       "35                Multiple Hands-free Voice Assistant   \n",
       "36  One Year Warranty for Handset, 6 Months for Ac...   \n",
       "37      4 GB RAM | 64 GB ROM | Expandable Upto 256 GB   \n",
       "38                    16.51 cm (6.5 inch) HD+ Display   \n",
       "39                 8MP Rear Camera | 5MP Front Camera   \n",
       "\n",
       "                                               camera  \\\n",
       "0       4 GB RAM | 64 GB ROM | Expandable Upto 256 GB   \n",
       "1                     16.51 cm (6.5 inch) HD+ Display   \n",
       "2                 13MP + 2MP + 2MP | 5MP Front Camera   \n",
       "3                                    5000 mAh Battery   \n",
       "4                               Unisoc T610 Processor   \n",
       "5   1 Year Warranty for Mobile and 6 Months for Ac...   \n",
       "6       3 GB RAM | 32 GB ROM | Expandable Upto 256 GB   \n",
       "7                     16.51 cm (6.5 inch) HD+ Display   \n",
       "8                 13MP + 2MP + 2MP | 5MP Front Camera   \n",
       "9                                    5000 mAh Battery   \n",
       "10                              Unisoc T610 Processor   \n",
       "11  1 Year Warranty for Mobile and 6 Months for Ac...   \n",
       "12      4 GB RAM | 64 GB ROM | Expandable Upto 256 GB   \n",
       "13                    16.51 cm (6.5 inch) HD+ Display   \n",
       "14                13MP + 2MP + 2MP | 5MP Front Camera   \n",
       "15                                   5000 mAh Battery   \n",
       "16                              Unisoc T610 Processor   \n",
       "17  1 Year Warranty for Mobile and 6 Months for Ac...   \n",
       "18      2 GB RAM | 32 GB ROM | Expandable Upto 256 GB   \n",
       "19                    16.51 cm (6.5 inch) HD+ Display   \n",
       "20                 8MP Rear Camera | 5MP Front Camera   \n",
       "21                                   5000 mAh Battery   \n",
       "22                                Octa-core Processor   \n",
       "23  1 Year Warranty for Mobile and 6 Months for Ac...   \n",
       "24      2 GB RAM | 32 GB ROM | Expandable Upto 256 GB   \n",
       "25                    16.51 cm (6.5 inch) HD+ Display   \n",
       "26                 8MP Rear Camera | 5MP Front Camera   \n",
       "27                                   5000 mAh Battery   \n",
       "28                                Octa-core Processor   \n",
       "29  1 Year Warranty for Mobile and 6 Months for Ac...   \n",
       "30      6 GB RAM | 64 GB ROM | Expandable Upto 512 GB   \n",
       "31              16.59 cm (6.53 inch) Full HD+ Display   \n",
       "32                48MP + 2MP + 2MP | 8MP Front Camera   \n",
       "33               6000 mAh Lithium-ion Polymer Battery   \n",
       "34                  Qualcomm Snapdragon 662 Processor   \n",
       "35                Multiple Hands-free Voice Assistant   \n",
       "36  One Year Warranty for Handset, 6 Months for Ac...   \n",
       "37      4 GB RAM | 64 GB ROM | Expandable Upto 256 GB   \n",
       "38                    16.51 cm (6.5 inch) HD+ Display   \n",
       "39                 8MP Rear Camera | 5MP Front Camera   \n",
       "\n",
       "                                              battery  \\\n",
       "0       4 GB RAM | 64 GB ROM | Expandable Upto 256 GB   \n",
       "1                     16.51 cm (6.5 inch) HD+ Display   \n",
       "2                 13MP + 2MP + 2MP | 5MP Front Camera   \n",
       "3                                    5000 mAh Battery   \n",
       "4                               Unisoc T610 Processor   \n",
       "5   1 Year Warranty for Mobile and 6 Months for Ac...   \n",
       "6       3 GB RAM | 32 GB ROM | Expandable Upto 256 GB   \n",
       "7                     16.51 cm (6.5 inch) HD+ Display   \n",
       "8                 13MP + 2MP + 2MP | 5MP Front Camera   \n",
       "9                                    5000 mAh Battery   \n",
       "10                              Unisoc T610 Processor   \n",
       "11  1 Year Warranty for Mobile and 6 Months for Ac...   \n",
       "12      4 GB RAM | 64 GB ROM | Expandable Upto 256 GB   \n",
       "13                    16.51 cm (6.5 inch) HD+ Display   \n",
       "14                13MP + 2MP + 2MP | 5MP Front Camera   \n",
       "15                                   5000 mAh Battery   \n",
       "16                              Unisoc T610 Processor   \n",
       "17  1 Year Warranty for Mobile and 6 Months for Ac...   \n",
       "18      2 GB RAM | 32 GB ROM | Expandable Upto 256 GB   \n",
       "19                    16.51 cm (6.5 inch) HD+ Display   \n",
       "20                 8MP Rear Camera | 5MP Front Camera   \n",
       "21                                   5000 mAh Battery   \n",
       "22                                Octa-core Processor   \n",
       "23  1 Year Warranty for Mobile and 6 Months for Ac...   \n",
       "24      2 GB RAM | 32 GB ROM | Expandable Upto 256 GB   \n",
       "25                    16.51 cm (6.5 inch) HD+ Display   \n",
       "26                 8MP Rear Camera | 5MP Front Camera   \n",
       "27                                   5000 mAh Battery   \n",
       "28                                Octa-core Processor   \n",
       "29  1 Year Warranty for Mobile and 6 Months for Ac...   \n",
       "30      6 GB RAM | 64 GB ROM | Expandable Upto 512 GB   \n",
       "31              16.59 cm (6.53 inch) Full HD+ Display   \n",
       "32                48MP + 2MP + 2MP | 8MP Front Camera   \n",
       "33               6000 mAh Lithium-ion Polymer Battery   \n",
       "34                  Qualcomm Snapdragon 662 Processor   \n",
       "35                Multiple Hands-free Voice Assistant   \n",
       "36  One Year Warranty for Handset, 6 Months for Ac...   \n",
       "37      4 GB RAM | 64 GB ROM | Expandable Upto 256 GB   \n",
       "38                    16.51 cm (6.5 inch) HD+ Display   \n",
       "39                 8MP Rear Camera | 5MP Front Camera   \n",
       "\n",
       "                                            processor    price  \n",
       "0       4 GB RAM | 64 GB ROM | Expandable Upto 256 GB   ₹9,999  \n",
       "1                     16.51 cm (6.5 inch) HD+ Display   ₹8,999  \n",
       "2                 13MP + 2MP + 2MP | 5MP Front Camera   ₹9,999  \n",
       "3                                    5000 mAh Battery   ₹7,299  \n",
       "4                               Unisoc T610 Processor   ₹7,299  \n",
       "5   1 Year Warranty for Mobile and 6 Months for Ac...  ₹11,999  \n",
       "6       3 GB RAM | 32 GB ROM | Expandable Upto 256 GB   ₹8,799  \n",
       "7                     16.51 cm (6.5 inch) HD+ Display  ₹11,499  \n",
       "8                 13MP + 2MP + 2MP | 5MP Front Camera  ₹11,499  \n",
       "9                                    5000 mAh Battery  ₹12,499  \n",
       "10                              Unisoc T610 Processor  ₹12,499  \n",
       "11  1 Year Warranty for Mobile and 6 Months for Ac...   ₹8,799  \n",
       "12      4 GB RAM | 64 GB ROM | Expandable Upto 256 GB   ₹7,999  \n",
       "13                    16.51 cm (6.5 inch) HD+ Display  ₹18,999  \n",
       "14                13MP + 2MP + 2MP | 5MP Front Camera  ₹11,999  \n",
       "15                                   5000 mAh Battery  ₹11,999  \n",
       "16                              Unisoc T610 Processor  ₹10,490  \n",
       "17  1 Year Warranty for Mobile and 6 Months for Ac...   ₹8,299  \n",
       "18      2 GB RAM | 32 GB ROM | Expandable Upto 256 GB   ₹8,299  \n",
       "19                    16.51 cm (6.5 inch) HD+ Display   ₹8,499  \n",
       "20                 8MP Rear Camera | 5MP Front Camera  ₹10,499  \n",
       "21                                   5000 mAh Battery  ₹10,490  \n",
       "22                                Octa-core Processor  ₹16,499  \n",
       "23  1 Year Warranty for Mobile and 6 Months for Ac...   ₹8,299  \n",
       "24      2 GB RAM | 32 GB ROM | Expandable Upto 256 GB   ₹9,999  \n",
       "25                    16.51 cm (6.5 inch) HD+ Display   ₹8,999  \n",
       "26                 8MP Rear Camera | 5MP Front Camera   ₹9,999  \n",
       "27                                   5000 mAh Battery  ₹11,999  \n",
       "28                                Octa-core Processor   ₹7,299  \n",
       "29  1 Year Warranty for Mobile and 6 Months for Ac...   ₹7,299  \n",
       "30      6 GB RAM | 64 GB ROM | Expandable Upto 512 GB   ₹8,799  \n",
       "31              16.59 cm (6.53 inch) Full HD+ Display  ₹12,499  \n",
       "32                48MP + 2MP + 2MP | 8MP Front Camera  ₹11,499  \n",
       "33               6000 mAh Lithium-ion Polymer Battery  ₹11,499  \n",
       "34                  Qualcomm Snapdragon 662 Processor   ₹8,799  \n",
       "35                Multiple Hands-free Voice Assistant  ₹12,499  \n",
       "36  One Year Warranty for Handset, 6 Months for Ac...   ₹7,999  \n",
       "37      4 GB RAM | 64 GB ROM | Expandable Upto 256 GB  ₹18,999  \n",
       "38                    16.51 cm (6.5 inch) HD+ Display  ₹11,999  \n",
       "39                 8MP Rear Camera | 5MP Front Camera  ₹11,999  "
      ]
     },
     "execution_count": 267,
     "metadata": {},
     "output_type": "execute_result"
    }
   ],
   "source": [
    "flipkart"
   ]
  },
  {
   "cell_type": "code",
   "execution_count": 268,
   "metadata": {},
   "outputs": [],
   "source": [
    "flipkart.to_csv('flipkart2.csv')"
   ]
  },
  {
   "cell_type": "code",
   "execution_count": null,
   "metadata": {},
   "outputs": [],
   "source": []
  },
  {
   "cell_type": "markdown",
   "metadata": {},
   "source": [
    "# 7. Details of Best Gamming Laptop at digit.in"
   ]
  },
  {
   "cell_type": "code",
   "execution_count": 199,
   "metadata": {},
   "outputs": [],
   "source": [
    "import numpy as np\n",
    "import pandas as pd\n",
    "from time import sleep\n",
    "from random import randint\n",
    "from selenium import webdriver"
   ]
  },
  {
   "cell_type": "code",
   "execution_count": 200,
   "metadata": {},
   "outputs": [],
   "source": [
    "driver1 = webdriver.Chrome(r\"C:/Users/Lab/Desktop/FlipRobo Internship/chromedriver.exe\")"
   ]
  },
  {
   "cell_type": "code",
   "execution_count": 201,
   "metadata": {},
   "outputs": [],
   "source": [
    "driver2 = webdriver.Chrome(r\"C:/Users/Lab/Desktop/FlipRobo Internship/chromedriver.exe\")"
   ]
  },
  {
   "cell_type": "code",
   "execution_count": 202,
   "metadata": {},
   "outputs": [],
   "source": [
    "driver1.get(\"https://www.digit.in/laptops/hp-envy-dv6-7206tx-notebook-price-3097.html\")"
   ]
  },
  {
   "cell_type": "code",
   "execution_count": 203,
   "metadata": {},
   "outputs": [],
   "source": [
    "driver2.get(\"https://www.digit.in/laptops/hp-15-d008tu-notebook-price-3106.html\")"
   ]
  },
  {
   "cell_type": "raw",
   "metadata": {},
   "source": [
    "search_btn = driver.find_element_by_class_name('search')\n",
    "search_btn.click()"
   ]
  },
  {
   "cell_type": "raw",
   "metadata": {},
   "source": [
    "search_job = driver.find_element_by_id('globalPageSearchText')\n",
    "search_job.send_keys(\"best gamming laptops\")"
   ]
  },
  {
   "cell_type": "code",
   "execution_count": 204,
   "metadata": {},
   "outputs": [],
   "source": [
    "brand1=[]"
   ]
  },
  {
   "cell_type": "code",
   "execution_count": 205,
   "metadata": {},
   "outputs": [
    {
     "data": {
      "text/plain": [
       "[<selenium.webdriver.remote.webelement.WebElement (session=\"d6df2d1cda4ae0d83da6517676fcebc5\", element=\"5b4d4dd7-c800-426b-934e-686584d1eec8\")>]"
      ]
     },
     "execution_count": 205,
     "metadata": {},
     "output_type": "execute_result"
    }
   ],
   "source": [
    "brand1_tags=driver1.find_elements_by_xpath(\"//div[@class='heading-wraper']\")\n",
    "brand1_tags"
   ]
  },
  {
   "cell_type": "code",
   "execution_count": 206,
   "metadata": {},
   "outputs": [
    {
     "data": {
      "text/plain": [
       "['HP Envy dv6-7206tx notebook\\nहिन्दी >\\n+ COMPARE\\nBy Digit Desk | Updated on 09-Apr-2019']"
      ]
     },
     "execution_count": 206,
     "metadata": {},
     "output_type": "execute_result"
    }
   ],
   "source": [
    "for i in brand1_tags:\n",
    "    brnd=i.text\n",
    "    brand1.append(brnd)\n",
    "brand1[0:100]"
   ]
  },
  {
   "cell_type": "code",
   "execution_count": 207,
   "metadata": {},
   "outputs": [],
   "source": [
    "brand2=[]"
   ]
  },
  {
   "cell_type": "code",
   "execution_count": 208,
   "metadata": {},
   "outputs": [
    {
     "data": {
      "text/plain": [
       "[<selenium.webdriver.remote.webelement.WebElement (session=\"776fae3c0e1feca5a25b6f2dbc9e1869\", element=\"aedd21a7-4dff-4997-ab94-a8593ef02a92\")>]"
      ]
     },
     "execution_count": 208,
     "metadata": {},
     "output_type": "execute_result"
    }
   ],
   "source": [
    "brand2_tags=driver2.find_elements_by_xpath(\"//div[@class='heading-wraper']\")\n",
    "brand2_tags"
   ]
  },
  {
   "cell_type": "code",
   "execution_count": 209,
   "metadata": {},
   "outputs": [
    {
     "data": {
      "text/plain": [
       "['HP 15-d008TU notebook\\nहिन्दी >\\n+ COMPARE\\nBy Digit Desk | Updated on 03-Apr-2014']"
      ]
     },
     "execution_count": 209,
     "metadata": {},
     "output_type": "execute_result"
    }
   ],
   "source": [
    "for i in brand2_tags:\n",
    "    brnd2=i.text\n",
    "    brand2.append(brnd2)\n",
    "brand2[0:100]"
   ]
  },
  {
   "cell_type": "code",
   "execution_count": 210,
   "metadata": {},
   "outputs": [],
   "source": [
    "price1=[]"
   ]
  },
  {
   "cell_type": "code",
   "execution_count": 211,
   "metadata": {},
   "outputs": [
    {
     "data": {
      "text/plain": [
       "[<selenium.webdriver.remote.webelement.WebElement (session=\"d6df2d1cda4ae0d83da6517676fcebc5\", element=\"c487c3ec-5b6e-47f3-8221-8a801d22f191\")>]"
      ]
     },
     "execution_count": 211,
     "metadata": {},
     "output_type": "execute_result"
    }
   ],
   "source": [
    "price1_tags=driver1.find_elements_by_xpath(\"//div[@class='price_sec']\")\n",
    "price1_tags"
   ]
  },
  {
   "cell_type": "code",
   "execution_count": 212,
   "metadata": {},
   "outputs": [
    {
     "data": {
      "text/plain": [
       "['HP Envy dv6-7206tx notebook Price in India: ₹ 65,705\\nSet Price Drop Alert']"
      ]
     },
     "execution_count": 212,
     "metadata": {},
     "output_type": "execute_result"
    }
   ],
   "source": [
    "for i in price1_tags:\n",
    "    p1=i.text\n",
    "    price1.append(p1)\n",
    "price1[0:100]"
   ]
  },
  {
   "cell_type": "code",
   "execution_count": 213,
   "metadata": {},
   "outputs": [],
   "source": [
    "price2=[]"
   ]
  },
  {
   "cell_type": "code",
   "execution_count": 214,
   "metadata": {},
   "outputs": [
    {
     "data": {
      "text/plain": [
       "[<selenium.webdriver.remote.webelement.WebElement (session=\"776fae3c0e1feca5a25b6f2dbc9e1869\", element=\"08e7e6e6-aedf-4416-b417-c773f7b32f99\")>]"
      ]
     },
     "execution_count": 214,
     "metadata": {},
     "output_type": "execute_result"
    }
   ],
   "source": [
    "price2_tags=driver2.find_elements_by_xpath(\"//div[@class='price_sec']\")\n",
    "price2_tags"
   ]
  },
  {
   "cell_type": "code",
   "execution_count": 215,
   "metadata": {},
   "outputs": [
    {
     "data": {
      "text/plain": [
       "['HP 15-d008TU notebook Price in India: ₹ 25,190\\nSet Price Drop Alert']"
      ]
     },
     "execution_count": 215,
     "metadata": {},
     "output_type": "execute_result"
    }
   ],
   "source": [
    "for i in price2_tags:\n",
    "    p=i.text\n",
    "    price2.append(p)\n",
    "price2[0:100]"
   ]
  },
  {
   "cell_type": "code",
   "execution_count": 216,
   "metadata": {},
   "outputs": [],
   "source": [
    "specifications1=[]"
   ]
  },
  {
   "cell_type": "code",
   "execution_count": 217,
   "metadata": {},
   "outputs": [
    {
     "data": {
      "text/plain": [
       "[<selenium.webdriver.remote.webelement.WebElement (session=\"d6df2d1cda4ae0d83da6517676fcebc5\", element=\"ac6176a6-5c3f-411a-95a5-6c0d26e2271b\")>,\n",
       " <selenium.webdriver.remote.webelement.WebElement (session=\"d6df2d1cda4ae0d83da6517676fcebc5\", element=\"d674fe01-3024-480b-8a07-e90295cdf5b8\")>,\n",
       " <selenium.webdriver.remote.webelement.WebElement (session=\"d6df2d1cda4ae0d83da6517676fcebc5\", element=\"c78949a4-9b48-4768-a683-ee88c89379c8\")>,\n",
       " <selenium.webdriver.remote.webelement.WebElement (session=\"d6df2d1cda4ae0d83da6517676fcebc5\", element=\"1cedeeb2-691a-4d99-b2db-85b7f2ac735c\")>]"
      ]
     },
     "execution_count": 217,
     "metadata": {},
     "output_type": "execute_result"
    }
   ],
   "source": [
    "specification1_tags=driver1.find_elements_by_xpath(\"//div[@class='value']\")\n",
    "specification1_tags"
   ]
  },
  {
   "cell_type": "code",
   "execution_count": 218,
   "metadata": {},
   "outputs": [
    {
     "data": {
      "text/plain": [
       "['OS\\nWindows 8 64 Bit',\n",
       " 'Display\\n15.6\" (1366 X 768)',\n",
       " 'Processor\\nIntel Core I7 (3rd Generation) | 2.4 Ghz',\n",
       " 'Memory\\n1 TB SATA/8GB DDR3']"
      ]
     },
     "execution_count": 218,
     "metadata": {},
     "output_type": "execute_result"
    }
   ],
   "source": [
    "for i in specification1_tags:\n",
    "    s1=i.text\n",
    "    specifications1.append(s1)\n",
    "specifications1[0:100]"
   ]
  },
  {
   "cell_type": "code",
   "execution_count": 219,
   "metadata": {},
   "outputs": [],
   "source": [
    "specifications2=[]"
   ]
  },
  {
   "cell_type": "code",
   "execution_count": 220,
   "metadata": {},
   "outputs": [
    {
     "data": {
      "text/plain": [
       "[<selenium.webdriver.remote.webelement.WebElement (session=\"776fae3c0e1feca5a25b6f2dbc9e1869\", element=\"0fbbab7b-0b56-4c30-b4e7-005554680c18\")>,\n",
       " <selenium.webdriver.remote.webelement.WebElement (session=\"776fae3c0e1feca5a25b6f2dbc9e1869\", element=\"1354e0e8-9519-4bde-b73a-3ce37cbfe166\")>,\n",
       " <selenium.webdriver.remote.webelement.WebElement (session=\"776fae3c0e1feca5a25b6f2dbc9e1869\", element=\"5bbee017-9cff-4abb-a17b-1fa7cccbe103\")>,\n",
       " <selenium.webdriver.remote.webelement.WebElement (session=\"776fae3c0e1feca5a25b6f2dbc9e1869\", element=\"93d3add2-8906-4985-9f04-8bef699c0058\")>]"
      ]
     },
     "execution_count": 220,
     "metadata": {},
     "output_type": "execute_result"
    }
   ],
   "source": [
    "specification2_tags=driver2.find_elements_by_xpath(\"//div[@class='value']\")\n",
    "specification2_tags"
   ]
  },
  {
   "cell_type": "code",
   "execution_count": 221,
   "metadata": {},
   "outputs": [
    {
     "data": {
      "text/plain": [
       "['OS\\nWindows 8/Windows 8 Pro',\n",
       " 'Display\\n12.5\" (1366x768)',\n",
       " 'Processor\\nIntel Core I5 4200U | 2.6 GHz',\n",
       " 'Memory\\n320 GB SSD/4GB DDR3']"
      ]
     },
     "execution_count": 221,
     "metadata": {},
     "output_type": "execute_result"
    }
   ],
   "source": [
    "for i in specification2_tags:\n",
    "    s2=i.text\n",
    "    specifications2.append(s2)\n",
    "specifications2[0:100]"
   ]
  },
  {
   "cell_type": "code",
   "execution_count": 222,
   "metadata": {},
   "outputs": [],
   "source": [
    "ratings1_out_of_100=[]"
   ]
  },
  {
   "cell_type": "code",
   "execution_count": 223,
   "metadata": {},
   "outputs": [
    {
     "data": {
      "text/plain": [
       "[<selenium.webdriver.remote.webelement.WebElement (session=\"d6df2d1cda4ae0d83da6517676fcebc5\", element=\"c66bc73d-fa57-4e00-9b7d-eac58120a217\")>]"
      ]
     },
     "execution_count": 223,
     "metadata": {},
     "output_type": "execute_result"
    }
   ],
   "source": [
    "rating_tags1=driver1.find_elements_by_xpath(\"//div[@class='numeric_number greentext']\")\n",
    "rating_tags1"
   ]
  },
  {
   "cell_type": "code",
   "execution_count": 224,
   "metadata": {},
   "outputs": [
    {
     "data": {
      "text/plain": [
       "['90']"
      ]
     },
     "execution_count": 224,
     "metadata": {},
     "output_type": "execute_result"
    }
   ],
   "source": [
    "for i in rating_tags1:\n",
    "    r=i.text\n",
    "    ratings1_out_of_100.append(r)\n",
    "ratings1_out_of_100[0:100]"
   ]
  },
  {
   "cell_type": "code",
   "execution_count": 225,
   "metadata": {},
   "outputs": [],
   "source": [
    "ratings2_out_of_100=[]"
   ]
  },
  {
   "cell_type": "code",
   "execution_count": 226,
   "metadata": {},
   "outputs": [
    {
     "data": {
      "text/plain": [
       "[<selenium.webdriver.remote.webelement.WebElement (session=\"776fae3c0e1feca5a25b6f2dbc9e1869\", element=\"17f9c3cd-603c-4fa7-99bb-240dedbe6c91\")>]"
      ]
     },
     "execution_count": 226,
     "metadata": {},
     "output_type": "execute_result"
    }
   ],
   "source": [
    "rating2_tags=driver2.find_elements_by_xpath(\"//div[@class='numeric_number greentext']\")\n",
    "rating2_tags"
   ]
  },
  {
   "cell_type": "code",
   "execution_count": 227,
   "metadata": {},
   "outputs": [
    {
     "data": {
      "text/plain": [
       "['90']"
      ]
     },
     "execution_count": 227,
     "metadata": {},
     "output_type": "execute_result"
    }
   ],
   "source": [
    "for i in rating2_tags:\n",
    "    r=i.text\n",
    "    ratings2_out_of_100.append(r)\n",
    "ratings2_out_of_100[0:100]"
   ]
  },
  {
   "cell_type": "code",
   "execution_count": 228,
   "metadata": {},
   "outputs": [],
   "source": [
    "brand = brand1 + brand2"
   ]
  },
  {
   "cell_type": "code",
   "execution_count": 229,
   "metadata": {},
   "outputs": [],
   "source": [
    "price = price1 + price2"
   ]
  },
  {
   "cell_type": "code",
   "execution_count": 230,
   "metadata": {},
   "outputs": [],
   "source": [
    "specifications = specifications1 + specifications2"
   ]
  },
  {
   "cell_type": "code",
   "execution_count": 231,
   "metadata": {},
   "outputs": [],
   "source": [
    "ratings_out_of_100 = ratings1_out_of_100 + ratings2_out_of_100"
   ]
  },
  {
   "cell_type": "code",
   "execution_count": 232,
   "metadata": {},
   "outputs": [
    {
     "name": "stdout",
     "output_type": "stream",
     "text": [
      "2 2 8 2\n"
     ]
    }
   ],
   "source": [
    "print(len(brand),len(price),len(specifications),len(ratings_out_of_100))"
   ]
  },
  {
   "cell_type": "code",
   "execution_count": 233,
   "metadata": {},
   "outputs": [],
   "source": [
    "digit=pd.DataFrame({})\n",
    "digit['brand']=brand[0:2]\n",
    "digit['price']=price[0:2]\n",
    "digit['specifications']=specifications[0:2]\n",
    "digit['ratings_out_of_100']=ratings_out_of_100[0:2]"
   ]
  },
  {
   "cell_type": "code",
   "execution_count": 236,
   "metadata": {},
   "outputs": [
    {
     "data": {
      "text/html": [
       "<div>\n",
       "<style scoped>\n",
       "    .dataframe tbody tr th:only-of-type {\n",
       "        vertical-align: middle;\n",
       "    }\n",
       "\n",
       "    .dataframe tbody tr th {\n",
       "        vertical-align: top;\n",
       "    }\n",
       "\n",
       "    .dataframe thead th {\n",
       "        text-align: right;\n",
       "    }\n",
       "</style>\n",
       "<table border=\"1\" class=\"dataframe\">\n",
       "  <thead>\n",
       "    <tr style=\"text-align: right;\">\n",
       "      <th></th>\n",
       "      <th>brand</th>\n",
       "      <th>price</th>\n",
       "      <th>specifications</th>\n",
       "      <th>ratings_out_of_100</th>\n",
       "    </tr>\n",
       "  </thead>\n",
       "  <tbody>\n",
       "    <tr>\n",
       "      <th>0</th>\n",
       "      <td>HP Envy dv6-7206tx notebook\\nहिन्दी &gt;\\n+ COMPA...</td>\n",
       "      <td>HP Envy dv6-7206tx notebook Price in India: ₹ ...</td>\n",
       "      <td>OS\\nWindows 8 64 Bit</td>\n",
       "      <td>90</td>\n",
       "    </tr>\n",
       "    <tr>\n",
       "      <th>1</th>\n",
       "      <td>HP 15-d008TU notebook\\nहिन्दी &gt;\\n+ COMPARE\\nBy...</td>\n",
       "      <td>HP 15-d008TU notebook Price in India: ₹ 25,190...</td>\n",
       "      <td>Display\\n15.6\" (1366 X 768)</td>\n",
       "      <td>90</td>\n",
       "    </tr>\n",
       "  </tbody>\n",
       "</table>\n",
       "</div>"
      ],
      "text/plain": [
       "                                               brand  \\\n",
       "0  HP Envy dv6-7206tx notebook\\nहिन्दी >\\n+ COMPA...   \n",
       "1  HP 15-d008TU notebook\\nहिन्दी >\\n+ COMPARE\\nBy...   \n",
       "\n",
       "                                               price  \\\n",
       "0  HP Envy dv6-7206tx notebook Price in India: ₹ ...   \n",
       "1  HP 15-d008TU notebook Price in India: ₹ 25,190...   \n",
       "\n",
       "                specifications ratings_out_of_100  \n",
       "0         OS\\nWindows 8 64 Bit                 90  \n",
       "1  Display\\n15.6\" (1366 X 768)                 90  "
      ]
     },
     "execution_count": 236,
     "metadata": {},
     "output_type": "execute_result"
    }
   ],
   "source": [
    "digit"
   ]
  },
  {
   "cell_type": "code",
   "execution_count": 238,
   "metadata": {},
   "outputs": [],
   "source": [
    "digit.to_csv('digit1.csv')"
   ]
  },
  {
   "cell_type": "code",
   "execution_count": null,
   "metadata": {},
   "outputs": [],
   "source": []
  },
  {
   "cell_type": "markdown",
   "metadata": {},
   "source": [
    "# 10.Hostelworld.com"
   ]
  },
  {
   "cell_type": "code",
   "execution_count": 80,
   "metadata": {},
   "outputs": [],
   "source": [
    "# importing the libraries to use on the scraping\n",
    "from requests import get\n",
    "from bs4 import BeautifulSoup\n",
    "\n",
    "import pandas as pd\n",
    "import numpy as np\n",
    "\n",
    "import time\n",
    "\n",
    "import re"
   ]
  },
  {
   "cell_type": "code",
   "execution_count": 81,
   "metadata": {},
   "outputs": [],
   "source": [
    "# getting the html info to be used\n",
    "url = 'https://www.hostelworld.com/hostels/Berlin'\n",
    "response = get(url)\n",
    "\n",
    "# create soup\n",
    "soup = BeautifulSoup(response.text, 'html.parser')\n",
    "\n",
    "# creating individual containers, on each one there's information about one hostel.\n",
    "holstel_containers= soup.findAll(class_= 'fabresult rounded clearfix hwta-property')"
   ]
  },
  {
   "cell_type": "code",
   "execution_count": 82,
   "metadata": {},
   "outputs": [
    {
     "data": {
      "text/plain": [
       "3"
      ]
     },
     "execution_count": 82,
     "metadata": {},
     "output_type": "execute_result"
    }
   ],
   "source": [
    "# Figuring out how many pages with hostels do we have available. This information is important when iterating over pages.\n",
    "total_pages= soup.findAll(class_= \"pagination-page-number\")\n",
    "final_page= pd.to_numeric(total_pages[-1].text)\n",
    "final_page"
   ]
  },
  {
   "cell_type": "code",
   "execution_count": 83,
   "metadata": {},
   "outputs": [
    {
     "data": {
      "text/plain": [
       "30"
      ]
     },
     "execution_count": 83,
     "metadata": {},
     "output_type": "execute_result"
    }
   ],
   "source": [
    "# checking how many hostels we have on the first page\n",
    "len(holstel_containers)"
   ]
  },
  {
   "cell_type": "code",
   "execution_count": 84,
   "metadata": {},
   "outputs": [
    {
     "name": "stdout",
     "output_type": "stream",
     "text": [
      "<div class=\"fabresult rounded clearfix hwta-property\" data-id=\"6838\" data-name=\"a&amp;o Berlin Mitte\" id=\"searchResults_6838\" url=\"https://www.hostelworld.com/hosteldetails.php/a-and-o-Berlin-Mitte/Berlin/6838\">\n",
      " <div class=\"fab-carousel-skeleton carousel-skeleton\">\n",
      "  <div class=\"fab-carousel-container small-12 medium-5 large-3 columns rounded\" data-images=\"https://a.hwstatic.com/propertyimages/6/6838/dxderbywmneu6dkwzewl.jpg,https://a.hwstatic.com/propertyimages/6/6838/skrktqppcgv5kzqllfwr.jpg,https://a.hwstatic.com/propertyimages/6/6838/g7vojvulnyjgh0ljnlxv.jpg,https://a.hwstatic.com/propertyimages/6/6838/69.jpg,https://a.hwstatic.com/propertyimages/6/6838/qvj3tmxyimfrwymrgc2o.jpg,https://a.hwstatic.com/propertyimages/6/6838/mow8yxsv6zr11rlyshxi.jpg,https://a.hwstatic.com/propertyimages/6/6838/la0pwcet4qmka58hmlpn.jpg,https://a.hwstatic.com/propertyimages/6/6838/63.jpg,https://a.hwstatic.com/propertyimages/6/6838/68.jpg,https://a.hwstatic.com/propertyimages/6/6838/64.jpg,https://a.hwstatic.com/propertyimages/6/6838/54.jpg,https://a.hwstatic.com/propertyimages/6/6838/45.jpg,https://a.hwstatic.com/propertyimages/6/6838/smigw9gfh4yyovuudw1x.jpg,https://a.hwstatic.com/propertyimages/6/6838/omge0hgpis64hg1aywd7.jpg,https://a.hwstatic.com/propertyimages/6/6838/70.jpg,https://a.hwstatic.com/propertyimages/6/6838/57.jpg,https://a.hwstatic.com/propertyimages/6/6838/zdvk3ditmvtqnqed3cr1.jpg,https://a.hwstatic.com/propertyimages/6/6838/56.jpg,https://a.hwstatic.com/propertyimages/6/6838/55.jpg,https://a.hwstatic.com/propertyimages/6/6838/sk6ztattsswydwknwzzj.jpg,https://a.hwstatic.com/propertyimages/6/6838/yqrstszlgufkotfw3o8c.jpg,https://a.hwstatic.com/propertyimages/6/6838/50.jpg,https://a.hwstatic.com/propertyimages/6/6838/49.jpg,https://a.hwstatic.com/propertyimages/6/6838/48.jpg,https://a.hwstatic.com/propertyimages/6/6838/51.jpg,https://a.hwstatic.com/propertyimages/6/6838/43.jpg,https://a.hwstatic.com/propertyimages/6/6838/52.jpg,https://a.hwstatic.com/propertyimages/6/6838/66.jpg,https://a.hwstatic.com/propertyimages/6/6838/65.jpg,https://a.hwstatic.com/propertyimages/6/6838/20.jpg\" main-image=\"Array\">\n",
      "   <fab-carousel :images='[{\"prefix\":\"a.hwstatic.com\\/image\\/upload\\/f_auto,q_auto\",\"suffix\":\"\\/v1\\/propertyimages\\/6\\/6838\\/dxderbywmneu6dkwzewl\"},{\"prefix\":\"a.hwstatic.com\\/image\\/upload\\/f_auto,q_auto\",\"suffix\":\"\\/v1\\/propertyimages\\/6\\/6838\\/skrktqppcgv5kzqllfwr\"},{\"prefix\":\"a.hwstatic.com\\/image\\/upload\\/f_auto,q_auto\",\"suffix\":\"\\/v1\\/propertyimages\\/6\\/6838\\/g7vojvulnyjgh0ljnlxv\"},{\"prefix\":\"a.hwstatic.com\\/image\\/upload\\/f_auto,q_auto\",\"suffix\":\"\\/v1\\/propertyimages\\/6\\/6838\\/69.jpg\"},{\"prefix\":\"a.hwstatic.com\\/image\\/upload\\/f_auto,q_auto\",\"suffix\":\"\\/v1\\/propertyimages\\/6\\/6838\\/qvj3tmxyimfrwymrgc2o\"},{\"prefix\":\"a.hwstatic.com\\/image\\/upload\\/f_auto,q_auto\",\"suffix\":\"\\/v1\\/propertyimages\\/6\\/6838\\/mow8yxsv6zr11rlyshxi\"},{\"prefix\":\"a.hwstatic.com\\/image\\/upload\\/f_auto,q_auto\",\"suffix\":\"\\/v1\\/propertyimages\\/6\\/6838\\/la0pwcet4qmka58hmlpn\"},{\"prefix\":\"a.hwstatic.com\\/image\\/upload\\/f_auto,q_auto\",\"suffix\":\"\\/v1\\/propertyimages\\/6\\/6838\\/63.jpg\"},{\"prefix\":\"a.hwstatic.com\\/image\\/upload\\/f_auto,q_auto\",\"suffix\":\"\\/v1\\/propertyimages\\/6\\/6838\\/68.jpg\"},{\"prefix\":\"a.hwstatic.com\\/image\\/upload\\/f_auto,q_auto\",\"suffix\":\"\\/v1\\/propertyimages\\/6\\/6838\\/64.jpg\"},{\"prefix\":\"a.hwstatic.com\\/image\\/upload\\/f_auto,q_auto\",\"suffix\":\"\\/v1\\/propertyimages\\/6\\/6838\\/54.jpg\"},{\"prefix\":\"a.hwstatic.com\\/image\\/upload\\/f_auto,q_auto\",\"suffix\":\"\\/v1\\/propertyimages\\/6\\/6838\\/45.jpg\"},{\"prefix\":\"a.hwstatic.com\\/image\\/upload\\/f_auto,q_auto\",\"suffix\":\"\\/v1\\/propertyimages\\/6\\/6838\\/smigw9gfh4yyovuudw1x\"},{\"prefix\":\"a.hwstatic.com\\/image\\/upload\\/f_auto,q_auto\",\"suffix\":\"\\/v1\\/propertyimages\\/6\\/6838\\/omge0hgpis64hg1aywd7\"},{\"prefix\":\"a.hwstatic.com\\/image\\/upload\\/f_auto,q_auto\",\"suffix\":\"\\/v1\\/propertyimages\\/6\\/6838\\/70.jpg\"},{\"prefix\":\"a.hwstatic.com\\/image\\/upload\\/f_auto,q_auto\",\"suffix\":\"\\/v1\\/propertyimages\\/6\\/6838\\/57.jpg\"},{\"prefix\":\"a.hwstatic.com\\/image\\/upload\\/f_auto,q_auto\",\"suffix\":\"\\/v1\\/propertyimages\\/6\\/6838\\/zdvk3ditmvtqnqed3cr1\"},{\"prefix\":\"a.hwstatic.com\\/image\\/upload\\/f_auto,q_auto\",\"suffix\":\"\\/v1\\/propertyimages\\/6\\/6838\\/56.jpg\"},{\"prefix\":\"a.hwstatic.com\\/image\\/upload\\/f_auto,q_auto\",\"suffix\":\"\\/v1\\/propertyimages\\/6\\/6838\\/55.jpg\"},{\"prefix\":\"a.hwstatic.com\\/image\\/upload\\/f_auto,q_auto\",\"suffix\":\"\\/v1\\/propertyimages\\/6\\/6838\\/sk6ztattsswydwknwzzj\"},{\"prefix\":\"a.hwstatic.com\\/image\\/upload\\/f_auto,q_auto\",\"suffix\":\"\\/v1\\/propertyimages\\/6\\/6838\\/yqrstszlgufkotfw3o8c\"},{\"prefix\":\"a.hwstatic.com\\/image\\/upload\\/f_auto,q_auto\",\"suffix\":\"\\/v1\\/propertyimages\\/6\\/6838\\/50.jpg\"},{\"prefix\":\"a.hwstatic.com\\/image\\/upload\\/f_auto,q_auto\",\"suffix\":\"\\/v1\\/propertyimages\\/6\\/6838\\/49.jpg\"},{\"prefix\":\"a.hwstatic.com\\/image\\/upload\\/f_auto,q_auto\",\"suffix\":\"\\/v1\\/propertyimages\\/6\\/6838\\/48.jpg\"},{\"prefix\":\"a.hwstatic.com\\/image\\/upload\\/f_auto,q_auto\",\"suffix\":\"\\/v1\\/propertyimages\\/6\\/6838\\/51.jpg\"},{\"prefix\":\"a.hwstatic.com\\/image\\/upload\\/f_auto,q_auto\",\"suffix\":\"\\/v1\\/propertyimages\\/6\\/6838\\/43.jpg\"},{\"prefix\":\"a.hwstatic.com\\/image\\/upload\\/f_auto,q_auto\",\"suffix\":\"\\/v1\\/propertyimages\\/6\\/6838\\/52.jpg\"},{\"prefix\":\"a.hwstatic.com\\/image\\/upload\\/f_auto,q_auto\",\"suffix\":\"\\/v1\\/propertyimages\\/6\\/6838\\/66.jpg\"},{\"prefix\":\"a.hwstatic.com\\/image\\/upload\\/f_auto,q_auto\",\"suffix\":\"\\/v1\\/propertyimages\\/6\\/6838\\/65.jpg\"},{\"prefix\":\"a.hwstatic.com\\/image\\/upload\\/f_auto,q_auto\",\"suffix\":\"\\/v1\\/propertyimages\\/6\\/6838\\/20.jpg\"}]' :key=\"6838\" :property-id=\"6838\" :total-gallery-images=\"30\" v-if=\"displayCarousel\">\n",
      "   </fab-carousel>\n",
      "   <img alt=\"property-image\" class=\"mobile-main-image\" src=\"https://a.hwstatic.com/image/upload/f_auto,q_auto,c_fill,w_104,h_104/v1/propertyimages/6/6838/dxderbywmneu6dkwzewl\" v-show=\"!displayCarousel\"/>\n",
      "  </div>\n",
      " </div>\n",
      " <wish-list-trigger :key=\"6838\" :property-id=\"6838\" :property-rating=\"72\" :tooltip-saved=\"'Remove from wish list'\" :tooltip-unsaved=\"'Save to Wish List'\" class=\"fab-wish-list-trigger pull-right mt-1\" property-image=\"https://a.hwstatic.com/propertyimages/6/6838/dxderbywmneu6dkwzewl.jpg\" property-name=\"a&amp;o Berlin Mitte\">\n",
      " </wish-list-trigger>\n",
      " <div class=\"resultheader rounded clearfix small-12 medium-7 large-8 columns clearfix\">\n",
      "  <div class=\"proptype featureline\">\n",
      "   Hostel\n",
      "  </div>\n",
      "  <h2>\n",
      "   <a class=\"hwta-property-link\" href=\"https://www.hostelworld.com/hosteldetails.php/a-and-o-Berlin-Mitte/Berlin/6838\">\n",
      "    a&amp;o Berlin Mitte\n",
      "   </a>\n",
      "  </h2>\n",
      "  <div class=\"mobileproperty\">\n",
      "   Hostel\n",
      "  </div>\n",
      "  <div class=\"addressline\">\n",
      "   1.8km from city centre\n",
      "   <a @click=\"openMapModal(6838)\" class=\"open-map-modal\" v-if=\"displayShowMap\">\n",
      "    - Show on Map\n",
      "   </a>\n",
      "  </div>\n",
      "  <div class=\"fabresult-details-rating\">\n",
      "   <div class=\"hwta-rating-container\">\n",
      "    <div class=\"hwta-rating-summary\">\n",
      "     <a class=\"hwta-rating-score\" href=\"https://www.hostelworld.com/hosteldetails.php/a-and-o-Berlin-Mitte/Berlin/6838#reviews\">\n",
      "      7.2\n",
      "     </a>\n",
      "     <div class=\"hwta-rating-info\">\n",
      "      <span class=\"hwta-rating-text-score\">\n",
      "       Very good\n",
      "      </span>\n",
      "      <a class=\"hwta-rating-counter\" href=\"https://www.hostelworld.com/hosteldetails.php/a-and-o-Berlin-Mitte/Berlin/6838#reviews\">\n",
      "       <i class=\"fa fa-comment-o\">\n",
      "       </i>\n",
      "       1106\n",
      "      </a>\n",
      "     </div>\n",
      "    </div>\n",
      "   </div>\n",
      "   <div class=\"mobilefacilities\">\n",
      "    <div class=\"facility icon_freewifi\">\n",
      "     <i class=\"fa fa-wifi\">\n",
      "     </i>\n",
      "    </div>\n",
      "   </div>\n",
      "  </div>\n",
      "  <div class=\"icon_freewifi\">\n",
      "   <i class=\"fa fa-wifi\">\n",
      "   </i>\n",
      "   Free WiFi\n",
      "  </div>\n",
      "  <div class=\"mobileprice\">\n",
      "   <a class=\"hwta-property-link\" href=\"https://www.hostelworld.com/hosteldetails.php/a-and-o-Berlin-Mitte/Berlin/6838\">\n",
      "    <span class=\"price\">\n",
      "     INR823.27\n",
      "    </span>\n",
      "   </a>\n",
      "  </div>\n",
      "  <!-- result details -->\n",
      "  <div class=\"fabresult-details\">\n",
      "   <p class=\"show-for-medium-up\">\n",
      "    Renovated &amp; just right in the middle of things: the a&amp;o; Berlin Mitte is located in the heart of Berlin, adjacent to Kreuzberg &amp; Friedrichshain. Our highlight: the large sun terrace in the...\n",
      "    <a class=\"hwta-property-link\" href=\"https://www.hostelworld.com/hosteldetails.php/a-and-o-Berlin-Mitte/Berlin/6838\">\n",
      "     More...\n",
      "    </a>\n",
      "   </p>\n",
      "  </div>\n",
      "  <div class=\"fabresult-prices small-12\">\n",
      "   <ul class=\"pricing no-bullet\">\n",
      "    <li class=\"minprice clearfix\">\n",
      "     <span class=\"price\">\n",
      "      <a href=\"https://www.hostelworld.com/hosteldetails.php/a-and-o-Berlin-Mitte/Berlin/6838\">\n",
      "       INR823.27\n",
      "      </a>\n",
      "     </span>\n",
      "     <a class=\"hwta-property-link\" href=\"https://www.hostelworld.com/hosteldetails.php/a-and-o-Berlin-Mitte/Berlin/6838\">\n",
      "      Prices from:\n",
      "     </a>\n",
      "    </li>\n",
      "   </ul>\n",
      "  </div>\n",
      " </div>\n",
      " <a class=\"moreinfo button tiny radius hwta-property-link\" href=\"https://www.hostelworld.com/hosteldetails.php/a-and-o-Berlin-Mitte/Berlin/6838\">\n",
      "  View\n",
      " </a>\n",
      "</div>\n",
      "\n"
     ]
    }
   ],
   "source": [
    "first_hostel = holstel_containers[0]\n",
    "print(first_hostel.prettify())"
   ]
  },
  {
   "cell_type": "code",
   "execution_count": 85,
   "metadata": {},
   "outputs": [
    {
     "data": {
      "text/plain": [
       "'a&o Berlin Mitte'"
      ]
     },
     "execution_count": 85,
     "metadata": {},
     "output_type": "execute_result"
    }
   ],
   "source": [
    "# Hostel name\n",
    "first_hostel.h2.a.text"
   ]
  },
  {
   "cell_type": "code",
   "execution_count": 86,
   "metadata": {},
   "outputs": [
    {
     "data": {
      "text/plain": [
       "'https://www.hostelworld.com/hosteldetails.php/a-and-o-Berlin-Mitte/Berlin/6838'"
      ]
     },
     "execution_count": 86,
     "metadata": {},
     "output_type": "execute_result"
    }
   ],
   "source": [
    "# hostel link\n",
    "first_hostel.h2.a.get('href')"
   ]
  },
  {
   "cell_type": "code",
   "execution_count": 87,
   "metadata": {},
   "outputs": [
    {
     "data": {
      "text/plain": [
       "'1.8'"
      ]
     },
     "execution_count": 87,
     "metadata": {},
     "output_type": "execute_result"
    }
   ],
   "source": [
    "# distance from city centre in km\n",
    "first_hostel.find(class_= \"addressline\").text[12:18].replace('k','').replace('m','').strip()"
   ]
  },
  {
   "cell_type": "code",
   "execution_count": 88,
   "metadata": {},
   "outputs": [
    {
     "data": {
      "text/plain": [
       "'7.2'"
      ]
     },
     "execution_count": 88,
     "metadata": {},
     "output_type": "execute_result"
    }
   ],
   "source": [
    "# average rating\n",
    "first_hostel.find(class_='hwta-rating-score').text.replace('\\n', '').strip()"
   ]
  },
  {
   "cell_type": "code",
   "execution_count": 89,
   "metadata": {},
   "outputs": [
    {
     "data": {
      "text/plain": [
       "'1106'"
      ]
     },
     "execution_count": 89,
     "metadata": {},
     "output_type": "execute_result"
    }
   ],
   "source": [
    "# number of reviews\n",
    "first_hostel.find(class_=\"hwta-rating-counter\").text.replace('\\n', '').strip()"
   ]
  },
  {
   "cell_type": "code",
   "execution_count": 90,
   "metadata": {},
   "outputs": [
    {
     "data": {
      "text/plain": [
       "'823.27'"
      ]
     },
     "execution_count": 90,
     "metadata": {},
     "output_type": "execute_result"
    }
   ],
   "source": [
    "# average price per night in US$\n",
    "first_hostel.find(class_= \"price\").text.replace('\\n', '').strip()[3:]"
   ]
  },
  {
   "cell_type": "code",
   "execution_count": 91,
   "metadata": {},
   "outputs": [],
   "source": [
    "# first, create the empty lists\n",
    "hostel_names= []\n",
    "hostel_links= []\n",
    "hostel_distance= []\n",
    "hostel_ratings= []\n",
    "hostel_reviews= []\n",
    "hostel_prices= []\n",
    "\n",
    "for page in np.arange(1,final_page+1): # to iterate over the pages and create the conteiners, using the final_page data we've got at the begining\n",
    "  url = 'https://www.hostelworld.com/hostels/Berlin?page=' + str(page)\n",
    "  response = get(url)\n",
    "  soup = BeautifulSoup(response.text, 'html.parser')\n",
    "  holstel_containers= soup.findAll(class_= 'fabresult rounded clearfix hwta-property')\n",
    "\n",
    "  for item in range(len(holstel_containers)): # to iterate over the results on each page\n",
    "    hostel_names.append(holstel_containers[item].h2.a.text)\n",
    "    hostel_links.append(holstel_containers[item].h2.a.get('href'))\n",
    "    hostel_distance.append(holstel_containers[item].find(class_= \"addressline\").text[12:18].replace('k','').replace('m','').strip())\n",
    "    hostel_ratings.append(holstel_containers[item].find(class_='hwta-rating-score').text.replace('\\n', '').strip())\n",
    "    hostel_reviews.append(holstel_containers[item].find(class_=\"hwta-rating-counter\").text.replace('\\n', '').strip())\n",
    "    hostel_prices.append(holstel_containers[item].find(class_= \"price\").text.replace('\\n', '').strip()[3:])                          \n",
    "  time.sleep(2) # this is used to not push too hard on the website"
   ]
  },
  {
   "cell_type": "code",
   "execution_count": 92,
   "metadata": {},
   "outputs": [
    {
     "data": {
      "text/html": [
       "<div>\n",
       "<style scoped>\n",
       "    .dataframe tbody tr th:only-of-type {\n",
       "        vertical-align: middle;\n",
       "    }\n",
       "\n",
       "    .dataframe tbody tr th {\n",
       "        vertical-align: top;\n",
       "    }\n",
       "\n",
       "    .dataframe thead th {\n",
       "        text-align: right;\n",
       "    }\n",
       "</style>\n",
       "<table border=\"1\" class=\"dataframe\">\n",
       "  <thead>\n",
       "    <tr style=\"text-align: right;\">\n",
       "      <th></th>\n",
       "      <th>hostel_name</th>\n",
       "      <th>distance_centre_km</th>\n",
       "      <th>average_rating</th>\n",
       "      <th>number_reviews</th>\n",
       "      <th>average_price_usd</th>\n",
       "      <th>hw_link</th>\n",
       "    </tr>\n",
       "  </thead>\n",
       "  <tbody>\n",
       "    <tr>\n",
       "      <th>0</th>\n",
       "      <td>a&amp;o Berlin Mitte</td>\n",
       "      <td>1.8</td>\n",
       "      <td>7.2</td>\n",
       "      <td>1106</td>\n",
       "      <td>823.27</td>\n",
       "      <td>https://www.hostelworld.com/hosteldetails.php/...</td>\n",
       "    </tr>\n",
       "    <tr>\n",
       "      <th>1</th>\n",
       "      <td>ONE80º Hostel - Alexanderplatz</td>\n",
       "      <td>0.6</td>\n",
       "      <td>8.0</td>\n",
       "      <td>4460</td>\n",
       "      <td>1104.11</td>\n",
       "      <td>https://www.hostelworld.com/hosteldetails.php/...</td>\n",
       "    </tr>\n",
       "    <tr>\n",
       "      <th>2</th>\n",
       "      <td>Sunflower Hostel</td>\n",
       "      <td>2.9</td>\n",
       "      <td>8.6</td>\n",
       "      <td>2715</td>\n",
       "      <td>895.01</td>\n",
       "      <td>https://www.hostelworld.com/hosteldetails.php/...</td>\n",
       "    </tr>\n",
       "    <tr>\n",
       "      <th>3</th>\n",
       "      <td>PLUS Berlin</td>\n",
       "      <td>3.4</td>\n",
       "      <td>9.1</td>\n",
       "      <td>16960</td>\n",
       "      <td>997.37</td>\n",
       "      <td>https://www.hostelworld.com/hosteldetails.php/...</td>\n",
       "    </tr>\n",
       "    <tr>\n",
       "      <th>4</th>\n",
       "      <td>MEININGER Berlin Mitte Humboldthaus</td>\n",
       "      <td>1.2</td>\n",
       "      <td>9.1</td>\n",
       "      <td>2298</td>\n",
       "      <td>1049.87</td>\n",
       "      <td>https://www.hostelworld.com/hosteldetails.php/...</td>\n",
       "    </tr>\n",
       "  </tbody>\n",
       "</table>\n",
       "</div>"
      ],
      "text/plain": [
       "                           hostel_name distance_centre_km average_rating  \\\n",
       "0                     a&o Berlin Mitte                1.8            7.2   \n",
       "1       ONE80º Hostel - Alexanderplatz                0.6            8.0   \n",
       "2                     Sunflower Hostel                2.9            8.6   \n",
       "3                          PLUS Berlin                3.4            9.1   \n",
       "4  MEININGER Berlin Mitte Humboldthaus                1.2            9.1   \n",
       "\n",
       "  number_reviews average_price_usd  \\\n",
       "0           1106            823.27   \n",
       "1           4460           1104.11   \n",
       "2           2715            895.01   \n",
       "3          16960            997.37   \n",
       "4           2298           1049.87   \n",
       "\n",
       "                                             hw_link  \n",
       "0  https://www.hostelworld.com/hosteldetails.php/...  \n",
       "1  https://www.hostelworld.com/hosteldetails.php/...  \n",
       "2  https://www.hostelworld.com/hosteldetails.php/...  \n",
       "3  https://www.hostelworld.com/hosteldetails.php/...  \n",
       "4  https://www.hostelworld.com/hosteldetails.php/...  "
      ]
     },
     "execution_count": 92,
     "metadata": {},
     "output_type": "execute_result"
    }
   ],
   "source": [
    "# using the lists to create a brand new dataframe\n",
    "hw_berlin = pd.DataFrame({\n",
    "    'hostel_name': hostel_names,\n",
    "    'distance_centre_km': hostel_distance,\n",
    "    'average_rating': hostel_ratings,\n",
    "    'number_reviews': hostel_reviews,\n",
    "    'average_price_usd': hostel_prices,\n",
    "    'hw_link': hostel_links\n",
    "})\n",
    "\n",
    "hw_berlin.head()"
   ]
  },
  {
   "cell_type": "code",
   "execution_count": 93,
   "metadata": {},
   "outputs": [
    {
     "data": {
      "text/plain": [
       "0     1.8\n",
       "1     0.6\n",
       "2     2.9\n",
       "3     3.4\n",
       "4     1.2\n",
       "     ... \n",
       "56    2.3\n",
       "57    1.9\n",
       "58    1.4\n",
       "59    2.3\n",
       "60    1.2\n",
       "Name: distance_centre_km, Length: 61, dtype: object"
      ]
     },
     "execution_count": 93,
     "metadata": {},
     "output_type": "execute_result"
    }
   ],
   "source": [
    "# removing non numerical character on the column distance_centre_km\n",
    "\n",
    "hw_berlin.distance_centre_km = [re.sub('[^0-9.]','', x) for x in hw_berlin.distance_centre_km]\n",
    "\n",
    "hw_berlin.distance_centre_km.head(-5)"
   ]
  },
  {
   "cell_type": "code",
   "execution_count": 94,
   "metadata": {},
   "outputs": [
    {
     "name": "stdout",
     "output_type": "stream",
     "text": [
      "<class 'pandas.core.frame.DataFrame'>\n",
      "RangeIndex: 66 entries, 0 to 65\n",
      "Data columns (total 6 columns):\n",
      " #   Column              Non-Null Count  Dtype  \n",
      "---  ------              --------------  -----  \n",
      " 0   hostel_name         66 non-null     object \n",
      " 1   distance_centre_km  66 non-null     float64\n",
      " 2   average_rating      66 non-null     float64\n",
      " 3   number_reviews      66 non-null     int64  \n",
      " 4   average_price_usd   66 non-null     float64\n",
      " 5   hw_link             66 non-null     object \n",
      "dtypes: float64(3), int64(1), object(2)\n",
      "memory usage: 3.2+ KB\n"
     ]
    }
   ],
   "source": [
    "# converting numerical columns to proper format\n",
    "\n",
    "list_to_convert = ['distance_centre_km', 'average_rating', 'number_reviews', 'average_price_usd']\n",
    "\n",
    "for column in list_to_convert:\n",
    "  hw_berlin[column] = pd.to_numeric(hw_berlin[column], errors= 'coerce')\n",
    "\n",
    "hw_berlin.info()"
   ]
  },
  {
   "cell_type": "code",
   "execution_count": 95,
   "metadata": {},
   "outputs": [],
   "source": [
    "hw_berlin.to_csv('hw_berlin_basic_info.csv')"
   ]
  }
 ],
 "metadata": {
  "kernelspec": {
   "display_name": "Python 3",
   "language": "python",
   "name": "python3"
  },
  "language_info": {
   "codemirror_mode": {
    "name": "ipython",
    "version": 3
   },
   "file_extension": ".py",
   "mimetype": "text/x-python",
   "name": "python",
   "nbconvert_exporter": "python",
   "pygments_lexer": "ipython3",
   "version": "3.6.4"
  }
 },
 "nbformat": 4,
 "nbformat_minor": 2
}
