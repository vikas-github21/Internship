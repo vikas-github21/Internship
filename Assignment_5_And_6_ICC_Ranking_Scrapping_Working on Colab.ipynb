{
 "cells": [
  {
   "cell_type": "code",
   "execution_count": 12,
   "metadata": {
    "colab": {
     "base_uri": "https://localhost:8080/"
    },
    "id": "h6wYnkxRosqe",
    "outputId": "c7047732-d0e5-4c60-ebbd-29bbbd5d4717"
   },
   "outputs": [
    {
     "data": {
      "text/plain": [
       "200"
      ]
     },
     "execution_count": 12,
     "metadata": {},
     "output_type": "execute_result"
    }
   ],
   "source": [
    "\"\"\"\n",
    "Checking for Web Site Permission, Whether Website allows to perform web scrapping or Not.\n",
    "\"\"\"\n",
    "import requests\n",
    "from bs4 import BeautifulSoup \n",
    "r=requests.get(\" https://www.icc-cricket.com/rankings/mens/player-rankings/odi/batting\")\n",
    "r.status_code"
   ]
  },
  {
   "cell_type": "code",
   "execution_count": 13,
   "metadata": {
    "id": "XVeuf3NKKqPO"
   },
   "outputs": [],
   "source": [
    "# 5.\tWrite a python program to scrape cricket rankings from 'www.icc-cricket.com' . You have to scrape:\n",
    "# ii)\tTop 10 ODI Batsmen in men along with the records of their team and rating.\n",
    "# iii)\tTop 10 ODI bowlers along with the records of their team and rating\n"
   ]
  },
  {
   "cell_type": "code",
   "execution_count": 14,
   "metadata": {
    "colab": {
     "base_uri": "https://localhost:8080/"
    },
    "id": "Gu6uYsN75_38",
    "outputId": "c93e352a-1947-4570-c34f-a62af061435a"
   },
   "outputs": [
    {
     "name": "stdout",
     "output_type": "stream",
     "text": [
      "200 -> https://www.icc-cricket.com/rankings/mens/player-rankings/odi/batting\n",
      "200 -> https://www.icc-cricket.com/rankings/mens/player-rankings/odi/bowling\n"
     ]
    }
   ],
   "source": [
    "import requests\n",
    "from bs4 import BeautifulSoup\n",
    "import re\n",
    "import pandas as pd\n",
    "\n",
    "headers = {\n",
    "    \"User-Agent\": \"Mozilla/5.0 (X11; Linux x86_64) AppleWebKit/537.36 (KHTML, like Gecko) Chrome/75.0.3770.100 Safari/537.36\"\n",
    "    }\n",
    "\n",
    "urls = [\n",
    "\"https://www.icc-cricket.com/rankings/mens/player-rankings/odi/batting\",\n",
    "\"https://www.icc-cricket.com/rankings/mens/player-rankings/odi/bowling\",\n",
    "]\n",
    "\n",
    "final_result_file_name = \"All Ranking List.csv\"\n",
    "final_column_names = [\"Ranking Type\", \"Position\", \"Player Name\", \"Team Name\", \"Rating\"]\n",
    "pd.DataFrame(columns=final_column_names).to_csv(final_result_file_name, sep=\"\\t\", index=False, encoding=\"utf-8\")\n",
    "\n",
    "for url in urls:\n",
    "    request_object = requests.get(url, headers=headers)\n",
    "    html_content = request_object.text\n",
    "    print(request_object.status_code, \"->\", url)\n",
    "    soup_object = BeautifulSoup(html_content, \"lxml\")\n",
    "    for element in soup_object.select('[class=\"ranking-pos up\"], [class=\"ranking-pos down\"]'):\n",
    "    element.replace_with(BeautifulSoup(\"<\" + element.name + \"></\" + element.name + \">\", \"html.parser\"))\n",
    "\n",
    "    ranking_type = soup_object.select_one(\".rankings-block__title-container > h4\").text\n",
    "\n",
    "    result_file_name = ranking_type + \".csv\"\n",
    "    column_names = [\"Position\", \"Player Name\", \"Team Name\", \"Rating\"]\n",
    "    pd.DataFrame(columns=column_names).to_csv(result_file_name, sep=\"\\t\", index=False, encoding=\"utf-8\")\n",
    "\n",
    "    for element in soup_object.select('table[class=\"table rankings-table\"] tr'):\n",
    "    if(element.find(\"th\")):\n",
    "    continue\n",
    "        data_dict = dict()\n",
    "\n",
    "        data_dict[\"Ranking Type\"] = ranking_type\n",
    "        if(element.select_one('[class*=\"position\"]')):\n",
    "            data_dict[\"Position\"] = element.select_one('[class*=\"position\"]').text\n",
    "        for player_name in (element.select('a[href*=\"/player-rankings\"]')):\n",
    "            if(player_name.text.strip()):\n",
    "                data_dict[\"Player Name\"] = player_name.text\n",
    "        if(element.select_one('[class^=\"flag-15\"]')):\n",
    "            data_dict[\"Team Name\"] = element.select_one('[class^=\"flag-15\"]')[\"class\"][-1]\n",
    "        if(element.select_one('[class$=\"rating\"]')):\n",
    "        data_dict[\"Rating\"] = element.select_one('[class$=\"rating\"]').text\n",
    "        if(element.select_one('td.u-hide-phablet')):\n",
    "            data_dict[\"Career Best Rating\"] = element.select_one('td.u-hide-phablet').text\n",
    "        for key in data_dict.keys():\n",
    "            data_dict[key] = re.sub(r\"\\s+\", \" \", data_dict[key])\n",
    "            data_dict[key] = data_dict[key].strip()\n",
    "        pd.DataFrame([data_dict], columns=column_names).to_csv(result_file_name, sep=\"\\t\", index=False, header=False, encoding=\"utf-8\", mode=\"a\")\n",
    "        pd.DataFrame([data_dict], columns=final_column_names).to_csv(final_result_file_name, sep=\"\\t\", index=False, header=False, encoding=\"utf-8\", mode=\"a\")"
   ]
  },
  {
   "cell_type": "code",
   "execution_count": 5,
   "metadata": {
    "colab": {
     "base_uri": "https://localhost:8080/",
     "height": 424
    },
    "id": "PC3wMqut2dN4",
    "outputId": "d82f75e6-83d1-4d95-b96a-4393411afe0a"
   },
   "outputs": [
    {
     "data": {
      "text/html": [
       "<div>\n",
       "<style scoped>\n",
       "    .dataframe tbody tr th:only-of-type {\n",
       "        vertical-align: middle;\n",
       "    }\n",
       "\n",
       "    .dataframe tbody tr th {\n",
       "        vertical-align: top;\n",
       "    }\n",
       "\n",
       "    .dataframe thead th {\n",
       "        text-align: right;\n",
       "    }\n",
       "</style>\n",
       "<table border=\"1\" class=\"dataframe\">\n",
       "  <thead>\n",
       "    <tr style=\"text-align: right;\">\n",
       "      <th></th>\n",
       "      <th>Position\\tPlayer Name\\tTeam Name\\tRating</th>\n",
       "    </tr>\n",
       "  </thead>\n",
       "  <tbody>\n",
       "    <tr>\n",
       "      <th>0</th>\n",
       "      <td>1\\tBabar Azam\\tPAK\\t873</td>\n",
       "    </tr>\n",
       "    <tr>\n",
       "      <th>1</th>\n",
       "      <td>2\\tVirat Kohli\\tIND\\t844</td>\n",
       "    </tr>\n",
       "    <tr>\n",
       "      <th>2</th>\n",
       "      <td>3\\tRohit Sharma\\tIND\\t813</td>\n",
       "    </tr>\n",
       "    <tr>\n",
       "      <th>3</th>\n",
       "      <td>4\\tRoss Taylor\\tNZ\\t801</td>\n",
       "    </tr>\n",
       "    <tr>\n",
       "      <th>4</th>\n",
       "      <td>5\\tAaron Finch\\tAUS\\t779</td>\n",
       "    </tr>\n",
       "    <tr>\n",
       "      <th>...</th>\n",
       "      <td>...</td>\n",
       "    </tr>\n",
       "    <tr>\n",
       "      <th>95</th>\n",
       "      <td>96\\tMoeen Ali\\tENG\\t404</td>\n",
       "    </tr>\n",
       "    <tr>\n",
       "      <th>96</th>\n",
       "      <td>97\\tChris Woakes\\tENG\\t403</td>\n",
       "    </tr>\n",
       "    <tr>\n",
       "      <th>97</th>\n",
       "      <td>98\\tMatthew Cross\\tSCO\\t398</td>\n",
       "    </tr>\n",
       "    <tr>\n",
       "      <th>98</th>\n",
       "      <td>99\\tWesley Madhevere\\tZIM\\t397</td>\n",
       "    </tr>\n",
       "    <tr>\n",
       "      <th>99</th>\n",
       "      <td>100\\tSam Billings\\tENG\\t396</td>\n",
       "    </tr>\n",
       "  </tbody>\n",
       "</table>\n",
       "<p>100 rows × 1 columns</p>\n",
       "</div>"
      ],
      "text/plain": [
       "   Position\\tPlayer Name\\tTeam Name\\tRating\n",
       "0                   1\\tBabar Azam\\tPAK\\t873\n",
       "1                  2\\tVirat Kohli\\tIND\\t844\n",
       "2                 3\\tRohit Sharma\\tIND\\t813\n",
       "3                   4\\tRoss Taylor\\tNZ\\t801\n",
       "4                  5\\tAaron Finch\\tAUS\\t779\n",
       "..                                      ...\n",
       "95                  96\\tMoeen Ali\\tENG\\t404\n",
       "96               97\\tChris Woakes\\tENG\\t403\n",
       "97              98\\tMatthew Cross\\tSCO\\t398\n",
       "98           99\\tWesley Madhevere\\tZIM\\t397\n",
       "99              100\\tSam Billings\\tENG\\t396\n",
       "\n",
       "[100 rows x 1 columns]"
      ]
     },
     "execution_count": 5,
     "metadata": {},
     "output_type": "execute_result"
    }
   ],
   "source": [
    "# I have renamed the saved file from \"Men's ODI Batting Rankings.csv\" to \"Men ODI Batting Rankings.csv\" ----\n",
    "#----- As I was getting error while loading.\n",
    "\n",
    "\n",
    "df = pd.read_csv('/content/Men ODI Batting Rankings.csv')\n",
    "df"
   ]
  },
  {
   "cell_type": "code",
   "execution_count": 6,
   "metadata": {
    "colab": {
     "base_uri": "https://localhost:8080/",
     "height": 424
    },
    "id": "CP7gH-9P8BVs",
    "outputId": "bbdab195-0e85-4fc0-8000-f7dd99376ee3"
   },
   "outputs": [
    {
     "data": {
      "text/html": [
       "<div>\n",
       "<style scoped>\n",
       "    .dataframe tbody tr th:only-of-type {\n",
       "        vertical-align: middle;\n",
       "    }\n",
       "\n",
       "    .dataframe tbody tr th {\n",
       "        vertical-align: top;\n",
       "    }\n",
       "\n",
       "    .dataframe thead th {\n",
       "        text-align: right;\n",
       "    }\n",
       "</style>\n",
       "<table border=\"1\" class=\"dataframe\">\n",
       "  <thead>\n",
       "    <tr style=\"text-align: right;\">\n",
       "      <th></th>\n",
       "      <th>Position\\tPlayer Name\\tTeam Name\\tRating</th>\n",
       "    </tr>\n",
       "  </thead>\n",
       "  <tbody>\n",
       "    <tr>\n",
       "      <th>0</th>\n",
       "      <td>1\\tTrent Boult\\tNZ\\t737</td>\n",
       "    </tr>\n",
       "    <tr>\n",
       "      <th>1</th>\n",
       "      <td>2\\tJosh Hazlewood\\tAUS\\t709</td>\n",
       "    </tr>\n",
       "    <tr>\n",
       "      <th>2</th>\n",
       "      <td>3\\tMujeeb Ur Rahman\\tAFG\\t708</td>\n",
       "    </tr>\n",
       "    <tr>\n",
       "      <th>3</th>\n",
       "      <td>4\\tChris Woakes\\tENG\\t700</td>\n",
       "    </tr>\n",
       "    <tr>\n",
       "      <th>4</th>\n",
       "      <td>5\\tMehedi Hasan\\tBAN\\t692</td>\n",
       "    </tr>\n",
       "    <tr>\n",
       "      <th>...</th>\n",
       "      <td>...</td>\n",
       "    </tr>\n",
       "    <tr>\n",
       "      <th>95</th>\n",
       "      <td>96\\tOshane Thomas\\tWI\\t355</td>\n",
       "    </tr>\n",
       "    <tr>\n",
       "      <th>96</th>\n",
       "      <td>97\\tKyle Jamieson\\tNZ\\t352</td>\n",
       "    </tr>\n",
       "    <tr>\n",
       "      <th>97</th>\n",
       "      <td>98\\tCharles Amini\\tPNG\\t351</td>\n",
       "    </tr>\n",
       "    <tr>\n",
       "      <th>98</th>\n",
       "      <td>\\tMichael Leask\\tSCO\\t351</td>\n",
       "    </tr>\n",
       "    <tr>\n",
       "      <th>99</th>\n",
       "      <td>100\\tSharafuddin Ashraf\\tAFG\\t347</td>\n",
       "    </tr>\n",
       "  </tbody>\n",
       "</table>\n",
       "<p>100 rows × 1 columns</p>\n",
       "</div>"
      ],
      "text/plain": [
       "   Position\\tPlayer Name\\tTeam Name\\tRating\n",
       "0                   1\\tTrent Boult\\tNZ\\t737\n",
       "1               2\\tJosh Hazlewood\\tAUS\\t709\n",
       "2             3\\tMujeeb Ur Rahman\\tAFG\\t708\n",
       "3                 4\\tChris Woakes\\tENG\\t700\n",
       "4                 5\\tMehedi Hasan\\tBAN\\t692\n",
       "..                                      ...\n",
       "95               96\\tOshane Thomas\\tWI\\t355\n",
       "96               97\\tKyle Jamieson\\tNZ\\t352\n",
       "97              98\\tCharles Amini\\tPNG\\t351\n",
       "98                \\tMichael Leask\\tSCO\\t351\n",
       "99        100\\tSharafuddin Ashraf\\tAFG\\t347\n",
       "\n",
       "[100 rows x 1 columns]"
      ]
     },
     "execution_count": 6,
     "metadata": {},
     "output_type": "execute_result"
    }
   ],
   "source": [
    "# I have renamed the saved file from \"Men's ODI Bowling Rankings.csv\" to \"Men ODI Bowling Rankings.csv\" ----\n",
    "#----- As I was getting error while loading.\n",
    "df = pd.read_csv('/content/Men ODI Bowling Rankings.csv')\n",
    "df"
   ]
  },
  {
   "cell_type": "code",
   "execution_count": 8,
   "metadata": {
    "id": "m2fVAohR8mcJ"
   },
   "outputs": [],
   "source": [
    "#6.\tWrite a python program to scrape cricket rankings from 'www.icc-cricket.com ' . You have to scrape:\n",
    "#ii)\tTop 10 women's ODI players along with the records of their team andrating.\n",
    "#iii)\tTop 10 women's ODI all-rounder along with the records of their team andrating.\n"
   ]
  },
  {
   "cell_type": "code",
   "execution_count": 9,
   "metadata": {
    "colab": {
     "base_uri": "https://localhost:8080/"
    },
    "id": "ru2pfo3a8Bo_",
    "outputId": "36e2662c-28f6-4aba-f71a-051b81c1d07c"
   },
   "outputs": [
    {
     "name": "stdout",
     "output_type": "stream",
     "text": [
      "200 -> https://www.icc-cricket.com/rankings/womens/player-rankings/odi/batting\n",
      "200 -> https://www.icc-cricket.com/rankings/womens/player-rankings/odi/bowling\n"
     ]
    }
   ],
   "source": [
    "\n",
    "import requests\n",
    "from bs4 import BeautifulSoup\n",
    "import re\n",
    "import pandas as pd\n",
    "\n",
    "headers = {\n",
    "    \"User-Agent\": \"Mozilla/5.0 (X11; Linux x86_64) AppleWebKit/537.36 (KHTML, like Gecko) Chrome/75.0.3770.100 Safari/537.36\"\n",
    "    }\n",
    "\n",
    "urls = [\n",
    "\"https://www.icc-cricket.com/rankings/womens/player-rankings/odi/batting\",\n",
    "\"https://www.icc-cricket.com/rankings/womens/player-rankings/odi/bowling\",\n",
    "\n",
    "]\n",
    "\n",
    "final_result_file_name = \"All Ranking List.csv\"\n",
    "final_column_names = [\"Ranking Type\", \"Position\", \"Player Name\", \"Team Name\", \"Rating\"]\n",
    "pd.DataFrame(columns=final_column_names).to_csv(final_result_file_name, sep=\"\\t\", index=False, encoding=\"utf-8\")\n",
    "\n",
    "for url in urls:\n",
    "    request_object = requests.get(url, headers=headers)\n",
    "    html_content = request_object.text\n",
    "    print(request_object.status_code, \"->\", url)\n",
    "    soup_object = BeautifulSoup(html_content, \"lxml\")\n",
    "    for element in soup_object.select('[class=\"ranking-pos up\"], [class=\"ranking-pos down\"]'):\n",
    "    element.replace_with(BeautifulSoup(\"<\" + element.name + \"></\" + element.name + \">\", \"html.parser\"))\n",
    "\n",
    "    ranking_type = soup_object.select_one(\".rankings-block__title-container > h4\").text\n",
    "\n",
    "    result_file_name = ranking_type + \".csv\"\n",
    "    column_names = [\"Position\", \"Player Name\", \"Team Name\", \"Rating\"]\n",
    "    pd.DataFrame(columns=column_names).to_csv(result_file_name, sep=\"\\t\", index=False, encoding=\"utf-8\")\n",
    "\n",
    "    for element in soup_object.select('table[class=\"table rankings-table\"] tr'):\n",
    "    if(element.find(\"th\")):\n",
    "    continue\n",
    "        data_dict = dict()\n",
    "\n",
    "        data_dict[\"Ranking Type\"] = ranking_type\n",
    "        if(element.select_one('[class*=\"position\"]')):\n",
    "            data_dict[\"Position\"] = element.select_one('[class*=\"position\"]').text\n",
    "        for player_name in (element.select('a[href*=\"/player-rankings\"]')):\n",
    "            if(player_name.text.strip()):\n",
    "                data_dict[\"Player Name\"] = player_name.text\n",
    "        if(element.select_one('[class^=\"flag-15\"]')):\n",
    "            data_dict[\"Team Name\"] = element.select_one('[class^=\"flag-15\"]')[\"class\"][-1]\n",
    "        if(element.select_one('[class$=\"rating\"]')):\n",
    "        data_dict[\"Rating\"] = element.select_one('[class$=\"rating\"]').text\n",
    "        if(element.select_one('td.u-hide-phablet')):\n",
    "            data_dict[\"Career Best Rating\"] = element.select_one('td.u-hide-phablet').text\n",
    "        for key in data_dict.keys():\n",
    "            data_dict[key] = re.sub(r\"\\s+\", \" \", data_dict[key])\n",
    "            data_dict[key] = data_dict[key].strip()\n",
    "        pd.DataFrame([data_dict], columns=column_names).to_csv(result_file_name, sep=\"\\t\", index=False, header=False, encoding=\"utf-8\", mode=\"a\")\n",
    "        pd.DataFrame([data_dict], columns=final_column_names).to_csv(final_result_file_name, sep=\"\\t\", index=False, header=False, encoding=\"utf-8\", mode=\"a\")"
   ]
  },
  {
   "cell_type": "code",
   "execution_count": 10,
   "metadata": {
    "colab": {
     "base_uri": "https://localhost:8080/",
     "height": 424
    },
    "id": "AjPILu1h8Gsu",
    "outputId": "808f172a-128d-493f-d134-16cc9096c283"
   },
   "outputs": [
    {
     "data": {
      "text/html": [
       "<div>\n",
       "<style scoped>\n",
       "    .dataframe tbody tr th:only-of-type {\n",
       "        vertical-align: middle;\n",
       "    }\n",
       "\n",
       "    .dataframe tbody tr th {\n",
       "        vertical-align: top;\n",
       "    }\n",
       "\n",
       "    .dataframe thead th {\n",
       "        text-align: right;\n",
       "    }\n",
       "</style>\n",
       "<table border=\"1\" class=\"dataframe\">\n",
       "  <thead>\n",
       "    <tr style=\"text-align: right;\">\n",
       "      <th></th>\n",
       "      <th>Position\\tPlayer Name\\tTeam Name\\tRating</th>\n",
       "    </tr>\n",
       "  </thead>\n",
       "  <tbody>\n",
       "    <tr>\n",
       "      <th>0</th>\n",
       "      <td>1\\tLizelle Lee\\tSA\\t761</td>\n",
       "    </tr>\n",
       "    <tr>\n",
       "      <th>1</th>\n",
       "      <td>2\\tAlyssa Healy\\tAUS\\t750</td>\n",
       "    </tr>\n",
       "    <tr>\n",
       "      <th>2</th>\n",
       "      <td>3\\tMithali Raj\\tIND\\t738</td>\n",
       "    </tr>\n",
       "    <tr>\n",
       "      <th>3</th>\n",
       "      <td>4\\tTammy Beaumont\\tENG\\t728</td>\n",
       "    </tr>\n",
       "    <tr>\n",
       "      <th>4</th>\n",
       "      <td>5\\tAmy Satterthwaite\\tNZ\\t717</td>\n",
       "    </tr>\n",
       "    <tr>\n",
       "      <th>...</th>\n",
       "      <td>...</td>\n",
       "    </tr>\n",
       "    <tr>\n",
       "      <th>95</th>\n",
       "      <td>96\\tNashra Sandhu\\tPAK\\t188</td>\n",
       "    </tr>\n",
       "    <tr>\n",
       "      <th>96</th>\n",
       "      <td>97\\tMegan Schutt\\tAUS\\t184</td>\n",
       "    </tr>\n",
       "    <tr>\n",
       "      <th>97</th>\n",
       "      <td>98\\tNatasha McLean\\tWI\\t183</td>\n",
       "    </tr>\n",
       "    <tr>\n",
       "      <th>98</th>\n",
       "      <td>99\\tSanjida Islam\\tBAN\\t181</td>\n",
       "    </tr>\n",
       "    <tr>\n",
       "      <th>99</th>\n",
       "      <td>100\\tShamilia Connell\\tWI\\t180</td>\n",
       "    </tr>\n",
       "  </tbody>\n",
       "</table>\n",
       "<p>100 rows × 1 columns</p>\n",
       "</div>"
      ],
      "text/plain": [
       "   Position\\tPlayer Name\\tTeam Name\\tRating\n",
       "0                   1\\tLizelle Lee\\tSA\\t761\n",
       "1                 2\\tAlyssa Healy\\tAUS\\t750\n",
       "2                  3\\tMithali Raj\\tIND\\t738\n",
       "3               4\\tTammy Beaumont\\tENG\\t728\n",
       "4             5\\tAmy Satterthwaite\\tNZ\\t717\n",
       "..                                      ...\n",
       "95              96\\tNashra Sandhu\\tPAK\\t188\n",
       "96               97\\tMegan Schutt\\tAUS\\t184\n",
       "97              98\\tNatasha McLean\\tWI\\t183\n",
       "98              99\\tSanjida Islam\\tBAN\\t181\n",
       "99           100\\tShamilia Connell\\tWI\\t180\n",
       "\n",
       "[100 rows x 1 columns]"
      ]
     },
     "execution_count": 10,
     "metadata": {},
     "output_type": "execute_result"
    }
   ],
   "source": [
    "# I have renamed the saved file from \"Women's ODI Batting Rankings.csv\" to \"Women ODI Batting Rankings.csv\" ----\n",
    "#----- As I was getting error while loading.\n",
    "df = pd.read_csv('/content/Women ODI Batting Rankings.csv')\n",
    "df"
   ]
  },
  {
   "cell_type": "code",
   "execution_count": 11,
   "metadata": {
    "colab": {
     "base_uri": "https://localhost:8080/",
     "height": 424
    },
    "id": "4NHtLaqw8G5d",
    "outputId": "abaf3d15-1886-4c2f-ff93-4f66619a55c6"
   },
   "outputs": [
    {
     "data": {
      "text/html": [
       "<div>\n",
       "<style scoped>\n",
       "    .dataframe tbody tr th:only-of-type {\n",
       "        vertical-align: middle;\n",
       "    }\n",
       "\n",
       "    .dataframe tbody tr th {\n",
       "        vertical-align: top;\n",
       "    }\n",
       "\n",
       "    .dataframe thead th {\n",
       "        text-align: right;\n",
       "    }\n",
       "</style>\n",
       "<table border=\"1\" class=\"dataframe\">\n",
       "  <thead>\n",
       "    <tr style=\"text-align: right;\">\n",
       "      <th></th>\n",
       "      <th>Position\\tPlayer Name\\tTeam Name\\tRating</th>\n",
       "    </tr>\n",
       "  </thead>\n",
       "  <tbody>\n",
       "    <tr>\n",
       "      <th>0</th>\n",
       "      <td>1\\tJess Jonassen\\tAUS\\t760</td>\n",
       "    </tr>\n",
       "    <tr>\n",
       "      <th>1</th>\n",
       "      <td>2\\tJhulan Goswami\\tIND\\t727</td>\n",
       "    </tr>\n",
       "    <tr>\n",
       "      <th>2</th>\n",
       "      <td>3\\tMegan Schutt\\tAUS\\t717</td>\n",
       "    </tr>\n",
       "    <tr>\n",
       "      <th>3</th>\n",
       "      <td>4\\tMarizanne Kapp\\tSA\\t715</td>\n",
       "    </tr>\n",
       "    <tr>\n",
       "      <th>4</th>\n",
       "      <td>5\\tSophie Ecclestone\\tENG\\t701</td>\n",
       "    </tr>\n",
       "    <tr>\n",
       "      <th>...</th>\n",
       "      <td>...</td>\n",
       "    </tr>\n",
       "    <tr>\n",
       "      <th>95</th>\n",
       "      <td>96\\tStella Campbell\\tAUS\\t104</td>\n",
       "    </tr>\n",
       "    <tr>\n",
       "      <th>96</th>\n",
       "      <td>97\\tAnne Bosch\\tSA\\t102</td>\n",
       "    </tr>\n",
       "    <tr>\n",
       "      <th>97</th>\n",
       "      <td>98\\tNilakshi Silva\\tSL\\t100</td>\n",
       "    </tr>\n",
       "    <tr>\n",
       "      <th>98</th>\n",
       "      <td>99\\tHansima Karunaratne\\tSL\\t95</td>\n",
       "    </tr>\n",
       "    <tr>\n",
       "      <th>99</th>\n",
       "      <td>\\tKainat Imtiaz\\tPAK\\t95</td>\n",
       "    </tr>\n",
       "  </tbody>\n",
       "</table>\n",
       "<p>100 rows × 1 columns</p>\n",
       "</div>"
      ],
      "text/plain": [
       "   Position\\tPlayer Name\\tTeam Name\\tRating\n",
       "0                1\\tJess Jonassen\\tAUS\\t760\n",
       "1               2\\tJhulan Goswami\\tIND\\t727\n",
       "2                 3\\tMegan Schutt\\tAUS\\t717\n",
       "3                4\\tMarizanne Kapp\\tSA\\t715\n",
       "4            5\\tSophie Ecclestone\\tENG\\t701\n",
       "..                                      ...\n",
       "95            96\\tStella Campbell\\tAUS\\t104\n",
       "96                  97\\tAnne Bosch\\tSA\\t102\n",
       "97              98\\tNilakshi Silva\\tSL\\t100\n",
       "98          99\\tHansima Karunaratne\\tSL\\t95\n",
       "99                 \\tKainat Imtiaz\\tPAK\\t95\n",
       "\n",
       "[100 rows x 1 columns]"
      ]
     },
     "execution_count": 11,
     "metadata": {},
     "output_type": "execute_result"
    }
   ],
   "source": [
    "# I have renamed the saved file from \"Women's ODI Bowling Rankings.csv\" to \"Women ODI Bowling Rankings.csv\" ----\n",
    "#----- As I was getting error while loading.\n",
    "df = pd.read_csv('/content/Women ODI Bowling Rankings.csv')\n",
    "df"
   ]
  }
 ],
 "metadata": {
  "accelerator": "GPU",
  "colab": {
   "collapsed_sections": [],
   "name": "Copy of Assignment 5 And 6 ICC Ranking Scrapping.ipynb",
   "provenance": []
  },
  "kernelspec": {
   "display_name": "Python 3",
   "language": "python",
   "name": "python3"
  },
  "language_info": {
   "codemirror_mode": {
    "name": "ipython",
    "version": 3
   },
   "file_extension": ".py",
   "mimetype": "text/x-python",
   "name": "python",
   "nbconvert_exporter": "python",
   "pygments_lexer": "ipython3",
   "version": "3.6.4"
  }
 },
 "nbformat": 4,
 "nbformat_minor": 1
}
