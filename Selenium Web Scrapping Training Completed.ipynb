{
 "cells": [
  {
   "cell_type": "markdown",
   "metadata": {},
   "source": [
    "#### Q1: Write a python program to scrape data for “Data Analyst” Job position in “Bangalore” location. You have to scrape the job-title, job-location, company_name,experience_required. You have to scrape first 10 jobs data."
   ]
  },
  {
   "cell_type": "code",
   "execution_count": null,
   "metadata": {
    "scrolled": true
   },
   "outputs": [],
   "source": [
    "#!pip install selenium"
   ]
  },
  {
   "cell_type": "code",
   "execution_count": 326,
   "metadata": {
    "scrolled": true
   },
   "outputs": [],
   "source": [
    "import selenium\n",
    "import pandas as pd\n",
    "from selenium import webdriver"
   ]
  },
  {
   "cell_type": "code",
   "execution_count": 327,
   "metadata": {
    "scrolled": true
   },
   "outputs": [],
   "source": [
    "driver = webdriver.Chrome(r\"C:/Users/Lab/Desktop/FlipRobo Internship/chromedriver.exe\")"
   ]
  },
  {
   "cell_type": "code",
   "execution_count": 328,
   "metadata": {
    "scrolled": true
   },
   "outputs": [],
   "source": [
    "driver.get(\"https://www.naukri.com\")"
   ]
  },
  {
   "cell_type": "code",
   "execution_count": 329,
   "metadata": {
    "scrolled": true
   },
   "outputs": [],
   "source": [
    "search_job = driver.find_element_by_id('qsb-keyword-sugg')\n",
    "search_job.send_keys(\"Data Analyst\")\n",
    "search_loc = driver.find_element_by_xpath(\"//input[@id='qsb-location-sugg']\")\n",
    "search_loc.send_keys(\"Bangalore\")"
   ]
  },
  {
   "cell_type": "code",
   "execution_count": 330,
   "metadata": {
    "scrolled": true
   },
   "outputs": [],
   "source": [
    "search_btn = driver.find_element_by_xpath(\"//div[@class='search-btn']/button\")\n",
    "search_btn.click()"
   ]
  },
  {
   "cell_type": "code",
   "execution_count": 331,
   "metadata": {
    "scrolled": true
   },
   "outputs": [],
   "source": [
    "url = \"https://www.naukri.com/data-analyst-jobs-in-bangalore?k=data%20analyst&l=bangalore\""
   ]
  },
  {
   "cell_type": "code",
   "execution_count": 332,
   "metadata": {
    "scrolled": true
   },
   "outputs": [],
   "source": [
    "driver.get(url)"
   ]
  },
  {
   "cell_type": "code",
   "execution_count": 333,
   "metadata": {
    "scrolled": true
   },
   "outputs": [],
   "source": [
    "job_titles=[]\n",
    "company_names=[]\n",
    "locations_list=[]\n",
    "experience_list=[]"
   ]
  },
  {
   "cell_type": "code",
   "execution_count": 334,
   "metadata": {
    "scrolled": true
   },
   "outputs": [],
   "source": [
    "titles_tags=driver.find_elements_by_xpath(\"//a[@class='title fw500 ellipsis']\")\n",
    "#titles_tags[0:10]"
   ]
  },
  {
   "cell_type": "code",
   "execution_count": 335,
   "metadata": {
    "scrolled": true
   },
   "outputs": [
    {
     "data": {
      "text/plain": [
       "['Associate Data Analyst',\n",
       " 'SQL Data Analyst',\n",
       " 'Data Analyst - Marketing',\n",
       " 'Business Data Analyst',\n",
       " 'Data Analyst',\n",
       " 'Openings For Data Analyst',\n",
       " 'Senior Data Analyst',\n",
       " 'Senior Data Analyst',\n",
       " 'Senior Data Analyst',\n",
       " 'Senior Data Analyst']"
      ]
     },
     "execution_count": 335,
     "metadata": {},
     "output_type": "execute_result"
    }
   ],
   "source": [
    "for i in titles_tags:\n",
    "    title=i.text\n",
    "    job_titles.append(title)\n",
    "job_titles[0:10]"
   ]
  },
  {
   "cell_type": "code",
   "execution_count": 336,
   "metadata": {
    "scrolled": true
   },
   "outputs": [],
   "source": [
    "companies_tags=driver.find_elements_by_xpath(\"//a[@class='subTitle ellipsis fleft']\")\n",
    "#companies_tags[0:10]"
   ]
  },
  {
   "cell_type": "code",
   "execution_count": 337,
   "metadata": {
    "scrolled": true
   },
   "outputs": [
    {
     "data": {
      "text/plain": [
       "['Integrated Digital Systems',\n",
       " 'NetApp',\n",
       " 'Byjus - Transforming Education using Technology',\n",
       " 'RANDSTAD INDIA PVT LTD',\n",
       " 'Amazon Development Centre (India) Pvt. Ltd.',\n",
       " 'Allegis Services India Pvt. Ltd.',\n",
       " 'Flipkart Internet Private Limited',\n",
       " 'Flipkart Internet Private Limited',\n",
       " 'Flipkart Internet Private Limited',\n",
       " 'Flipkart Internet Private Limited']"
      ]
     },
     "execution_count": 337,
     "metadata": {},
     "output_type": "execute_result"
    }
   ],
   "source": [
    "for i in companies_tags:\n",
    "    company_name=i.text\n",
    "    company_names.append(company_name)\n",
    "company_names[0:10]"
   ]
  },
  {
   "cell_type": "code",
   "execution_count": 338,
   "metadata": {
    "scrolled": true
   },
   "outputs": [],
   "source": [
    "locations_tags=driver.find_elements_by_xpath(\"//li[@class='fleft grey-text br2 placeHolderLi location']/span[1]\")\n",
    "#locations_tags[0:10]"
   ]
  },
  {
   "cell_type": "code",
   "execution_count": 339,
   "metadata": {
    "scrolled": true
   },
   "outputs": [
    {
     "data": {
      "text/plain": [
       "['Bangalore/Bengaluru',\n",
       " 'Bangalore/Bengaluru',\n",
       " 'Bangalore/Bengaluru',\n",
       " 'Bangalore/Bengaluru',\n",
       " 'Bangalore/Bengaluru',\n",
       " 'Bangalore/Bengaluru',\n",
       " 'Bangalore/Bengaluru',\n",
       " 'Bangalore/Bengaluru',\n",
       " 'Bangalore/Bengaluru',\n",
       " 'Bangalore/Bengaluru']"
      ]
     },
     "execution_count": 339,
     "metadata": {},
     "output_type": "execute_result"
    }
   ],
   "source": [
    "for i in locations_tags:\n",
    "    location=i.text\n",
    "    locations_list.append(location)\n",
    "locations_list[0:10]"
   ]
  },
  {
   "cell_type": "code",
   "execution_count": 340,
   "metadata": {
    "scrolled": true
   },
   "outputs": [],
   "source": [
    "experience_tags=driver.find_elements_by_xpath(\"//li[@class='fleft grey-text br2 placeHolderLi experience']\")\n",
    "#experience_tags[0:10]"
   ]
  },
  {
   "cell_type": "code",
   "execution_count": 341,
   "metadata": {
    "scrolled": true
   },
   "outputs": [
    {
     "data": {
      "text/plain": [
       "['0-2 Yrs',\n",
       " '3-7 Yrs',\n",
       " '0-2 Yrs',\n",
       " '8-12 Yrs',\n",
       " '2-4 Yrs',\n",
       " '0-3 Yrs',\n",
       " '2-5 Yrs',\n",
       " '3-7 Yrs',\n",
       " '3-7 Yrs',\n",
       " '3-7 Yrs']"
      ]
     },
     "execution_count": 341,
     "metadata": {},
     "output_type": "execute_result"
    }
   ],
   "source": [
    "for i in experience_tags:\n",
    "    experience=i.text\n",
    "    experience_list.append(experience)\n",
    "experience_list[0:10]"
   ]
  },
  {
   "cell_type": "code",
   "execution_count": 342,
   "metadata": {
    "scrolled": true
   },
   "outputs": [
    {
     "name": "stdout",
     "output_type": "stream",
     "text": [
      "20 20 20 20\n"
     ]
    }
   ],
   "source": [
    "print(len(job_titles),len(company_names),len(experience_list),len(locations_list))"
   ]
  },
  {
   "cell_type": "code",
   "execution_count": 343,
   "metadata": {
    "scrolled": true
   },
   "outputs": [],
   "source": [
    "jobs=pd.DataFrame({})\n",
    "jobs['title']=job_titles[0:10]\n",
    "jobs['company']=company_names[0:10]\n",
    "jobs['experience_required']=experience_list[0:10]\n",
    "jobs['location']=locations_list[0:10]"
   ]
  },
  {
   "cell_type": "code",
   "execution_count": 344,
   "metadata": {
    "scrolled": true
   },
   "outputs": [
    {
     "data": {
      "text/html": [
       "<div>\n",
       "<style scoped>\n",
       "    .dataframe tbody tr th:only-of-type {\n",
       "        vertical-align: middle;\n",
       "    }\n",
       "\n",
       "    .dataframe tbody tr th {\n",
       "        vertical-align: top;\n",
       "    }\n",
       "\n",
       "    .dataframe thead th {\n",
       "        text-align: right;\n",
       "    }\n",
       "</style>\n",
       "<table border=\"1\" class=\"dataframe\">\n",
       "  <thead>\n",
       "    <tr style=\"text-align: right;\">\n",
       "      <th></th>\n",
       "      <th>title</th>\n",
       "      <th>company</th>\n",
       "      <th>experience_required</th>\n",
       "      <th>location</th>\n",
       "    </tr>\n",
       "  </thead>\n",
       "  <tbody>\n",
       "    <tr>\n",
       "      <th>0</th>\n",
       "      <td>Associate Data Analyst</td>\n",
       "      <td>Integrated Digital Systems</td>\n",
       "      <td>0-2 Yrs</td>\n",
       "      <td>Bangalore/Bengaluru</td>\n",
       "    </tr>\n",
       "    <tr>\n",
       "      <th>1</th>\n",
       "      <td>SQL Data Analyst</td>\n",
       "      <td>NetApp</td>\n",
       "      <td>3-7 Yrs</td>\n",
       "      <td>Bangalore/Bengaluru</td>\n",
       "    </tr>\n",
       "    <tr>\n",
       "      <th>2</th>\n",
       "      <td>Data Analyst - Marketing</td>\n",
       "      <td>Byjus - Transforming Education using Technology</td>\n",
       "      <td>0-2 Yrs</td>\n",
       "      <td>Bangalore/Bengaluru</td>\n",
       "    </tr>\n",
       "    <tr>\n",
       "      <th>3</th>\n",
       "      <td>Business Data Analyst</td>\n",
       "      <td>RANDSTAD INDIA PVT LTD</td>\n",
       "      <td>8-12 Yrs</td>\n",
       "      <td>Bangalore/Bengaluru</td>\n",
       "    </tr>\n",
       "    <tr>\n",
       "      <th>4</th>\n",
       "      <td>Data Analyst</td>\n",
       "      <td>Amazon Development Centre (India) Pvt. Ltd.</td>\n",
       "      <td>2-4 Yrs</td>\n",
       "      <td>Bangalore/Bengaluru</td>\n",
       "    </tr>\n",
       "    <tr>\n",
       "      <th>5</th>\n",
       "      <td>Openings For Data Analyst</td>\n",
       "      <td>Allegis Services India Pvt. Ltd.</td>\n",
       "      <td>0-3 Yrs</td>\n",
       "      <td>Bangalore/Bengaluru</td>\n",
       "    </tr>\n",
       "    <tr>\n",
       "      <th>6</th>\n",
       "      <td>Senior Data Analyst</td>\n",
       "      <td>Flipkart Internet Private Limited</td>\n",
       "      <td>2-5 Yrs</td>\n",
       "      <td>Bangalore/Bengaluru</td>\n",
       "    </tr>\n",
       "    <tr>\n",
       "      <th>7</th>\n",
       "      <td>Senior Data Analyst</td>\n",
       "      <td>Flipkart Internet Private Limited</td>\n",
       "      <td>3-7 Yrs</td>\n",
       "      <td>Bangalore/Bengaluru</td>\n",
       "    </tr>\n",
       "    <tr>\n",
       "      <th>8</th>\n",
       "      <td>Senior Data Analyst</td>\n",
       "      <td>Flipkart Internet Private Limited</td>\n",
       "      <td>3-7 Yrs</td>\n",
       "      <td>Bangalore/Bengaluru</td>\n",
       "    </tr>\n",
       "    <tr>\n",
       "      <th>9</th>\n",
       "      <td>Senior Data Analyst</td>\n",
       "      <td>Flipkart Internet Private Limited</td>\n",
       "      <td>3-7 Yrs</td>\n",
       "      <td>Bangalore/Bengaluru</td>\n",
       "    </tr>\n",
       "  </tbody>\n",
       "</table>\n",
       "</div>"
      ],
      "text/plain": [
       "                       title                                          company  \\\n",
       "0     Associate Data Analyst                       Integrated Digital Systems   \n",
       "1           SQL Data Analyst                                           NetApp   \n",
       "2   Data Analyst - Marketing  Byjus - Transforming Education using Technology   \n",
       "3      Business Data Analyst                           RANDSTAD INDIA PVT LTD   \n",
       "4               Data Analyst      Amazon Development Centre (India) Pvt. Ltd.   \n",
       "5  Openings For Data Analyst                 Allegis Services India Pvt. Ltd.   \n",
       "6        Senior Data Analyst                Flipkart Internet Private Limited   \n",
       "7        Senior Data Analyst                Flipkart Internet Private Limited   \n",
       "8        Senior Data Analyst                Flipkart Internet Private Limited   \n",
       "9        Senior Data Analyst                Flipkart Internet Private Limited   \n",
       "\n",
       "  experience_required             location  \n",
       "0             0-2 Yrs  Bangalore/Bengaluru  \n",
       "1             3-7 Yrs  Bangalore/Bengaluru  \n",
       "2             0-2 Yrs  Bangalore/Bengaluru  \n",
       "3            8-12 Yrs  Bangalore/Bengaluru  \n",
       "4             2-4 Yrs  Bangalore/Bengaluru  \n",
       "5             0-3 Yrs  Bangalore/Bengaluru  \n",
       "6             2-5 Yrs  Bangalore/Bengaluru  \n",
       "7             3-7 Yrs  Bangalore/Bengaluru  \n",
       "8             3-7 Yrs  Bangalore/Bengaluru  \n",
       "9             3-7 Yrs  Bangalore/Bengaluru  "
      ]
     },
     "execution_count": 344,
     "metadata": {},
     "output_type": "execute_result"
    }
   ],
   "source": [
    "jobs"
   ]
  },
  {
   "cell_type": "markdown",
   "metadata": {},
   "source": [
    "#### Q2: Write a python program to scrape data for “Data Scientist” Job position in “Bangalore” location. You have to scrape the job-title, job-location,company_name, full job-description. You have to scrape first 10 jobs data."
   ]
  },
  {
   "cell_type": "code",
   "execution_count": null,
   "metadata": {
    "scrolled": true
   },
   "outputs": [],
   "source": [
    "#!pip install selenium"
   ]
  },
  {
   "cell_type": "code",
   "execution_count": 8,
   "metadata": {
    "scrolled": true
   },
   "outputs": [],
   "source": [
    "import selenium\n",
    "import pandas as pd\n",
    "from selenium import webdriver"
   ]
  },
  {
   "cell_type": "code",
   "execution_count": 9,
   "metadata": {
    "scrolled": false
   },
   "outputs": [],
   "source": [
    "driver = webdriver.Chrome(r\"C:/Users/Lab/Desktop/FlipRobo Internship/chromedriver.exe\")"
   ]
  },
  {
   "cell_type": "code",
   "execution_count": 10,
   "metadata": {
    "scrolled": true
   },
   "outputs": [],
   "source": [
    "driver.get(\"https://www.naukri.com\")"
   ]
  },
  {
   "cell_type": "code",
   "execution_count": 11,
   "metadata": {
    "scrolled": true
   },
   "outputs": [],
   "source": [
    "search_job = driver.find_element_by_id('qsb-keyword-sugg')\n",
    "search_job.send_keys(\"Data Scientist\")\n",
    "search_loc = driver.find_element_by_xpath(\"//input[@id='qsb-location-sugg']\")\n",
    "search_loc.send_keys(\"Bangalore\")"
   ]
  },
  {
   "cell_type": "code",
   "execution_count": 12,
   "metadata": {
    "scrolled": true
   },
   "outputs": [],
   "source": [
    "search_btn = driver.find_element_by_xpath(\"//div[@class='search-btn']/button\")\n",
    "search_btn.click()"
   ]
  },
  {
   "cell_type": "code",
   "execution_count": 13,
   "metadata": {
    "scrolled": true
   },
   "outputs": [],
   "source": [
    "url = \"https://www.naukri.com/data-scientist-jobs-in-bangalore?k=data%20scientist&l=bangalore\""
   ]
  },
  {
   "cell_type": "code",
   "execution_count": 14,
   "metadata": {
    "scrolled": true
   },
   "outputs": [],
   "source": [
    "driver.get(url)"
   ]
  },
  {
   "cell_type": "code",
   "execution_count": 15,
   "metadata": {
    "scrolled": true
   },
   "outputs": [],
   "source": [
    "job_titles=[]\n",
    "company_names=[]\n",
    "locations_list=[]\n",
    "experience_list=[]"
   ]
  },
  {
   "cell_type": "code",
   "execution_count": 16,
   "metadata": {
    "scrolled": true
   },
   "outputs": [],
   "source": [
    "titles_tags=driver.find_elements_by_xpath(\"//a[@class='title fw500 ellipsis']\")\n",
    "#titles_tags[0:10]"
   ]
  },
  {
   "cell_type": "code",
   "execution_count": 17,
   "metadata": {
    "scrolled": true
   },
   "outputs": [
    {
     "data": {
      "text/plain": [
       "['Sr. Data Scientist / Data Scientist For Bangalore & Kolkata Locations',\n",
       " 'Data Scientist',\n",
       " 'Senior Data Scientist',\n",
       " 'Senior Data Scientist - Python/Machine Learning Algorithms',\n",
       " 'Data Scientist/Senior Data Scientist - IT Services Firm',\n",
       " 'Lead Data Scientist',\n",
       " 'SDE2 Data Scientist',\n",
       " 'SDE1 Data Scientist',\n",
       " 'Data Scientist',\n",
       " 'Data Scientist']"
      ]
     },
     "execution_count": 17,
     "metadata": {},
     "output_type": "execute_result"
    }
   ],
   "source": [
    "for i in titles_tags:\n",
    "    title=i.text\n",
    "    job_titles.append(title)\n",
    "job_titles[0:10]"
   ]
  },
  {
   "cell_type": "code",
   "execution_count": 18,
   "metadata": {
    "scrolled": true
   },
   "outputs": [],
   "source": [
    "companies_tags=driver.find_elements_by_xpath(\"//a[@class='subTitle ellipsis fleft']\")\n",
    "#companies_tags[0:10]"
   ]
  },
  {
   "cell_type": "code",
   "execution_count": 19,
   "metadata": {
    "scrolled": true
   },
   "outputs": [
    {
     "data": {
      "text/plain": [
       "['mPokket',\n",
       " 'Amazon Development Centre (India) Pvt. Ltd.',\n",
       " 'InnovAccer',\n",
       " 'Altimax Business Solutions',\n",
       " 'Pylon Management Consulting Pvt Ltd',\n",
       " 'Huawei Technologies',\n",
       " 'Multi Recruit',\n",
       " 'Multi Recruit',\n",
       " 'epiFi Technologies',\n",
       " 'Nutanix India Technologies Private Limited']"
      ]
     },
     "execution_count": 19,
     "metadata": {},
     "output_type": "execute_result"
    }
   ],
   "source": [
    "for i in companies_tags:\n",
    "    company_name=i.text\n",
    "    company_names.append(company_name)\n",
    "company_names[0:10]"
   ]
  },
  {
   "cell_type": "code",
   "execution_count": 20,
   "metadata": {
    "scrolled": true
   },
   "outputs": [],
   "source": [
    "experience_tags=driver.find_elements_by_xpath(\"//li[@class='fleft grey-text br2 placeHolderLi experience']\")\n",
    "#experience_tags[0:10]"
   ]
  },
  {
   "cell_type": "code",
   "execution_count": 21,
   "metadata": {
    "scrolled": false
   },
   "outputs": [
    {
     "data": {
      "text/plain": [
       "['3-8 Yrs',\n",
       " '7-11 Yrs',\n",
       " '5-10 Yrs',\n",
       " '4-9 Yrs',\n",
       " '5-6 Yrs',\n",
       " '4-9 Yrs',\n",
       " '2-7 Yrs',\n",
       " '8-13 Yrs',\n",
       " '3-5 Yrs',\n",
       " '4-9 Yrs']"
      ]
     },
     "execution_count": 21,
     "metadata": {},
     "output_type": "execute_result"
    }
   ],
   "source": [
    "for i in experience_tags:\n",
    "    experience=i.text\n",
    "    experience_list.append(experience)\n",
    "experience_list[0:10]"
   ]
  },
  {
   "cell_type": "code",
   "execution_count": 22,
   "metadata": {
    "scrolled": true
   },
   "outputs": [],
   "source": [
    "locations_tags=driver.find_elements_by_xpath(\"//li[@class='fleft grey-text br2 placeHolderLi location']/span[1]\")\n",
    "#locations_tags[0:10]"
   ]
  },
  {
   "cell_type": "code",
   "execution_count": 23,
   "metadata": {
    "scrolled": true
   },
   "outputs": [
    {
     "data": {
      "text/plain": [
       "['Kolkata, Bangalore/Bengaluru',\n",
       " 'Hyderabad/Secunderabad, Pune, Bangalore/Bengaluru',\n",
       " 'Noida, Bangalore/Bengaluru',\n",
       " 'Mumbai, Hyderabad/Secunderabad, Pune, Bangalore/Bengaluru',\n",
       " 'Hyderabad/Secunderabad, Pune, Gurgaon/Gurugram, Bangalore/Bengaluru',\n",
       " 'Bangalore/Bengaluru',\n",
       " 'Bangalore/Bengaluru',\n",
       " 'Bangalore/Bengaluru',\n",
       " 'Bangalore/Bengaluru',\n",
       " 'Pune, Bangalore/Bengaluru']"
      ]
     },
     "execution_count": 23,
     "metadata": {},
     "output_type": "execute_result"
    }
   ],
   "source": [
    "for i in locations_tags:\n",
    "    location=i.text\n",
    "    locations_list.append(location)\n",
    "locations_list[0:10]"
   ]
  },
  {
   "cell_type": "code",
   "execution_count": 24,
   "metadata": {
    "scrolled": false
   },
   "outputs": [
    {
     "name": "stdout",
     "output_type": "stream",
     "text": [
      "20 20 20 20\n"
     ]
    }
   ],
   "source": [
    "print(len(job_titles),len(company_names),len(experience_list),len(locations_list))"
   ]
  },
  {
   "cell_type": "code",
   "execution_count": 25,
   "metadata": {
    "scrolled": true
   },
   "outputs": [],
   "source": [
    "jobs=pd.DataFrame({})\n",
    "jobs['title']=job_titles[0:10]\n",
    "jobs['company']=company_names[0:10]\n",
    "jobs['experience_required']=experience_list[0:10]\n",
    "jobs['location']=locations_list[0:10]"
   ]
  },
  {
   "cell_type": "code",
   "execution_count": 26,
   "metadata": {
    "scrolled": true
   },
   "outputs": [
    {
     "data": {
      "text/html": [
       "<div>\n",
       "<style scoped>\n",
       "    .dataframe tbody tr th:only-of-type {\n",
       "        vertical-align: middle;\n",
       "    }\n",
       "\n",
       "    .dataframe tbody tr th {\n",
       "        vertical-align: top;\n",
       "    }\n",
       "\n",
       "    .dataframe thead th {\n",
       "        text-align: right;\n",
       "    }\n",
       "</style>\n",
       "<table border=\"1\" class=\"dataframe\">\n",
       "  <thead>\n",
       "    <tr style=\"text-align: right;\">\n",
       "      <th></th>\n",
       "      <th>title</th>\n",
       "      <th>company</th>\n",
       "      <th>experience_required</th>\n",
       "      <th>location</th>\n",
       "    </tr>\n",
       "  </thead>\n",
       "  <tbody>\n",
       "    <tr>\n",
       "      <th>0</th>\n",
       "      <td>Sr. Data Scientist / Data Scientist For Bangal...</td>\n",
       "      <td>mPokket</td>\n",
       "      <td>3-8 Yrs</td>\n",
       "      <td>Kolkata, Bangalore/Bengaluru</td>\n",
       "    </tr>\n",
       "    <tr>\n",
       "      <th>1</th>\n",
       "      <td>Data Scientist</td>\n",
       "      <td>Amazon Development Centre (India) Pvt. Ltd.</td>\n",
       "      <td>7-11 Yrs</td>\n",
       "      <td>Hyderabad/Secunderabad, Pune, Bangalore/Bengaluru</td>\n",
       "    </tr>\n",
       "    <tr>\n",
       "      <th>2</th>\n",
       "      <td>Senior Data Scientist</td>\n",
       "      <td>InnovAccer</td>\n",
       "      <td>5-10 Yrs</td>\n",
       "      <td>Noida, Bangalore/Bengaluru</td>\n",
       "    </tr>\n",
       "    <tr>\n",
       "      <th>3</th>\n",
       "      <td>Senior Data Scientist - Python/Machine Learnin...</td>\n",
       "      <td>Altimax Business Solutions</td>\n",
       "      <td>4-9 Yrs</td>\n",
       "      <td>Mumbai, Hyderabad/Secunderabad, Pune, Bangalor...</td>\n",
       "    </tr>\n",
       "    <tr>\n",
       "      <th>4</th>\n",
       "      <td>Data Scientist/Senior Data Scientist - IT Serv...</td>\n",
       "      <td>Pylon Management Consulting Pvt Ltd</td>\n",
       "      <td>5-6 Yrs</td>\n",
       "      <td>Hyderabad/Secunderabad, Pune, Gurgaon/Gurugram...</td>\n",
       "    </tr>\n",
       "    <tr>\n",
       "      <th>5</th>\n",
       "      <td>Lead Data Scientist</td>\n",
       "      <td>Huawei Technologies</td>\n",
       "      <td>4-9 Yrs</td>\n",
       "      <td>Bangalore/Bengaluru</td>\n",
       "    </tr>\n",
       "    <tr>\n",
       "      <th>6</th>\n",
       "      <td>SDE2 Data Scientist</td>\n",
       "      <td>Multi Recruit</td>\n",
       "      <td>2-7 Yrs</td>\n",
       "      <td>Bangalore/Bengaluru</td>\n",
       "    </tr>\n",
       "    <tr>\n",
       "      <th>7</th>\n",
       "      <td>SDE1 Data Scientist</td>\n",
       "      <td>Multi Recruit</td>\n",
       "      <td>8-13 Yrs</td>\n",
       "      <td>Bangalore/Bengaluru</td>\n",
       "    </tr>\n",
       "    <tr>\n",
       "      <th>8</th>\n",
       "      <td>Data Scientist</td>\n",
       "      <td>epiFi Technologies</td>\n",
       "      <td>3-5 Yrs</td>\n",
       "      <td>Bangalore/Bengaluru</td>\n",
       "    </tr>\n",
       "    <tr>\n",
       "      <th>9</th>\n",
       "      <td>Data Scientist</td>\n",
       "      <td>Nutanix India Technologies Private Limited</td>\n",
       "      <td>4-9 Yrs</td>\n",
       "      <td>Pune, Bangalore/Bengaluru</td>\n",
       "    </tr>\n",
       "  </tbody>\n",
       "</table>\n",
       "</div>"
      ],
      "text/plain": [
       "                                               title  \\\n",
       "0  Sr. Data Scientist / Data Scientist For Bangal...   \n",
       "1                                     Data Scientist   \n",
       "2                              Senior Data Scientist   \n",
       "3  Senior Data Scientist - Python/Machine Learnin...   \n",
       "4  Data Scientist/Senior Data Scientist - IT Serv...   \n",
       "5                                Lead Data Scientist   \n",
       "6                                SDE2 Data Scientist   \n",
       "7                                SDE1 Data Scientist   \n",
       "8                                     Data Scientist   \n",
       "9                                     Data Scientist   \n",
       "\n",
       "                                       company experience_required  \\\n",
       "0                                      mPokket             3-8 Yrs   \n",
       "1  Amazon Development Centre (India) Pvt. Ltd.            7-11 Yrs   \n",
       "2                                   InnovAccer            5-10 Yrs   \n",
       "3                   Altimax Business Solutions             4-9 Yrs   \n",
       "4          Pylon Management Consulting Pvt Ltd             5-6 Yrs   \n",
       "5                          Huawei Technologies             4-9 Yrs   \n",
       "6                                Multi Recruit             2-7 Yrs   \n",
       "7                                Multi Recruit            8-13 Yrs   \n",
       "8                           epiFi Technologies             3-5 Yrs   \n",
       "9   Nutanix India Technologies Private Limited             4-9 Yrs   \n",
       "\n",
       "                                            location  \n",
       "0                       Kolkata, Bangalore/Bengaluru  \n",
       "1  Hyderabad/Secunderabad, Pune, Bangalore/Bengaluru  \n",
       "2                         Noida, Bangalore/Bengaluru  \n",
       "3  Mumbai, Hyderabad/Secunderabad, Pune, Bangalor...  \n",
       "4  Hyderabad/Secunderabad, Pune, Gurgaon/Gurugram...  \n",
       "5                                Bangalore/Bengaluru  \n",
       "6                                Bangalore/Bengaluru  \n",
       "7                                Bangalore/Bengaluru  \n",
       "8                                Bangalore/Bengaluru  \n",
       "9                          Pune, Bangalore/Bengaluru  "
      ]
     },
     "execution_count": 26,
     "metadata": {},
     "output_type": "execute_result"
    }
   ],
   "source": [
    "jobs"
   ]
  },
  {
   "cell_type": "code",
   "execution_count": 27,
   "metadata": {},
   "outputs": [],
   "source": [
    "driver.close()"
   ]
  },
  {
   "cell_type": "markdown",
   "metadata": {},
   "source": [
    "### 3. scrape data for “Data Scientist” designation for first 10 job results. scrape the job-title, job-location, company_name,experience_required.The location filter to be used is “Delhi/NCR”The salary filter to be used is “3-6” lakhs"
   ]
  },
  {
   "cell_type": "code",
   "execution_count": 28,
   "metadata": {
    "scrolled": true
   },
   "outputs": [],
   "source": [
    "import selenium\n",
    "#import time\n",
    "#from time import sleep\n",
    "import pandas as pd\n",
    "from selenium import webdriver\n",
    "#from selenium.common.exceptions import StaleElementReferenceException"
   ]
  },
  {
   "cell_type": "code",
   "execution_count": 29,
   "metadata": {
    "scrolled": true
   },
   "outputs": [],
   "source": [
    "driver = webdriver.Chrome(r\"C:/Users/Lab/Desktop/FlipRobo Internship/chromedriver.exe\")"
   ]
  },
  {
   "cell_type": "code",
   "execution_count": 30,
   "metadata": {
    "scrolled": true
   },
   "outputs": [],
   "source": [
    "driver.get(\"https://www.naukri.com\")"
   ]
  },
  {
   "cell_type": "code",
   "execution_count": 31,
   "metadata": {
    "scrolled": true
   },
   "outputs": [],
   "source": [
    "search_job = driver.find_element_by_id('qsb-keyword-sugg')\n",
    "search_job.send_keys(\"Data Scientist\")\n",
    "search_loc = driver.find_element_by_xpath(\"//input[@id='qsb-location-sugg']\")\n",
    "search_loc.send_keys(\"delhi\")"
   ]
  },
  {
   "cell_type": "code",
   "execution_count": 32,
   "metadata": {
    "scrolled": true
   },
   "outputs": [],
   "source": [
    "search_btn = driver.find_element_by_xpath(\"//div[@class='search-btn']/button\")\n",
    "search_btn.click()"
   ]
  },
  {
   "cell_type": "code",
   "execution_count": 33,
   "metadata": {},
   "outputs": [],
   "source": [
    "url = \"https://www.naukri.com/data-scientist-jobs-in-delhi?k=data%20scientist&l=delhi&cityTypeGid=9508&ctcFilter=3to6\""
   ]
  },
  {
   "cell_type": "code",
   "execution_count": 34,
   "metadata": {},
   "outputs": [],
   "source": [
    "driver.get(url)"
   ]
  },
  {
   "cell_type": "code",
   "execution_count": 35,
   "metadata": {
    "scrolled": true
   },
   "outputs": [],
   "source": [
    "job_titles=[]\n",
    "locations_list=[]\n",
    "company_names=[]\n",
    "experience_list=[]"
   ]
  },
  {
   "cell_type": "code",
   "execution_count": 36,
   "metadata": {
    "scrolled": true
   },
   "outputs": [],
   "source": [
    "titles_tags=driver.find_elements_by_xpath(\"//a[@class='title fw500 ellipsis']\")\n",
    "#titles_tags[0:10]"
   ]
  },
  {
   "cell_type": "code",
   "execution_count": 37,
   "metadata": {
    "scrolled": true
   },
   "outputs": [
    {
     "data": {
      "text/plain": [
       "['Data Scientist',\n",
       " 'Job Opportunity || Data Scientist || HCL Technologies',\n",
       " 'Data Scientist',\n",
       " 'Data Scientist',\n",
       " 'Data Scientist I/II/III',\n",
       " 'Academic Counsellor - Data Scientist',\n",
       " 'Associate Data Scientist',\n",
       " 'Data Scientist',\n",
       " 'Data Scientist',\n",
       " 'Data Scientist']"
      ]
     },
     "execution_count": 37,
     "metadata": {},
     "output_type": "execute_result"
    }
   ],
   "source": [
    "for i in titles_tags:\n",
    "    title=i.text\n",
    "    job_titles.append(title)\n",
    "job_titles[0:10]"
   ]
  },
  {
   "cell_type": "code",
   "execution_count": 38,
   "metadata": {
    "scrolled": true
   },
   "outputs": [],
   "source": [
    "locations_tags=driver.find_elements_by_xpath(\"//li[@class='fleft grey-text br2 placeHolderLi location']/span[1]\")\n",
    "#locations_tags[0:10]"
   ]
  },
  {
   "cell_type": "code",
   "execution_count": 39,
   "metadata": {
    "scrolled": true
   },
   "outputs": [
    {
     "data": {
      "text/plain": [
       "['Gurgaon/Gurugram, Bangalore/Bengaluru',\n",
       " 'Delhi / NCR',\n",
       " 'Noida',\n",
       " 'Gurgaon/Gurugram, Bangalore/Bengaluru',\n",
       " 'Gurgaon/Gurugram',\n",
       " 'Gurgaon/Gurugram, Bangalore/Bengaluru',\n",
       " 'Noida',\n",
       " 'Noida, Gurgaon/Gurugram',\n",
       " 'Gurgaon/Gurugram',\n",
       " 'Mumbai, Delhi / NCR']"
      ]
     },
     "execution_count": 39,
     "metadata": {},
     "output_type": "execute_result"
    }
   ],
   "source": [
    "for i in locations_tags:\n",
    "    location=i.text\n",
    "    locations_list.append(location)\n",
    "locations_list[0:10]"
   ]
  },
  {
   "cell_type": "code",
   "execution_count": 40,
   "metadata": {
    "scrolled": true
   },
   "outputs": [],
   "source": [
    "companies_tags=driver.find_elements_by_xpath(\"//a[@class='subTitle ellipsis fleft']\")\n",
    "#companies_tags[0:10]"
   ]
  },
  {
   "cell_type": "code",
   "execution_count": 41,
   "metadata": {
    "scrolled": true
   },
   "outputs": [
    {
     "data": {
      "text/plain": [
       "['EXL Services.com ( I ) Pvt. Ltd.',\n",
       " 'HCL Technologies',\n",
       " 'Newgen Software Technologies Ltd.',\n",
       " 'Hexagon Geosystems Services India P.Ltd.',\n",
       " 'OLX India Pvt Ltd',\n",
       " 'GreatLearning',\n",
       " 'Optum Global Solutions (India) Private Limited',\n",
       " 'Optum Global Solutions (India) Private Limited',\n",
       " 'Milliman India Pvt Ltd',\n",
       " 'lericon infomatics pvt.ltd']"
      ]
     },
     "execution_count": 41,
     "metadata": {},
     "output_type": "execute_result"
    }
   ],
   "source": [
    "for i in companies_tags:\n",
    "    company_name=i.text\n",
    "    company_names.append(company_name)\n",
    "company_names[0:10]"
   ]
  },
  {
   "cell_type": "code",
   "execution_count": 42,
   "metadata": {
    "scrolled": true
   },
   "outputs": [],
   "source": [
    "experience_tags=driver.find_elements_by_xpath(\"//li[@class='fleft grey-text br2 placeHolderLi experience']\")\n",
    "#experience_tags[0:10]"
   ]
  },
  {
   "cell_type": "code",
   "execution_count": 43,
   "metadata": {
    "scrolled": true
   },
   "outputs": [
    {
     "data": {
      "text/plain": [
       "['3-5 Yrs',\n",
       " '4-7 Yrs',\n",
       " '2-5 Yrs',\n",
       " '6-11 Yrs',\n",
       " '3-6 Yrs',\n",
       " '1-4 Yrs',\n",
       " '2-7 Yrs',\n",
       " '2-6 Yrs',\n",
       " '2-5 Yrs',\n",
       " '3-5 Yrs']"
      ]
     },
     "execution_count": 43,
     "metadata": {},
     "output_type": "execute_result"
    }
   ],
   "source": [
    "for i in experience_tags:\n",
    "    experience=i.text\n",
    "    experience_list.append(experience)\n",
    "experience_list[0:10]\n"
   ]
  },
  {
   "cell_type": "code",
   "execution_count": 44,
   "metadata": {
    "scrolled": false
   },
   "outputs": [
    {
     "name": "stdout",
     "output_type": "stream",
     "text": [
      "20 20 20 20\n"
     ]
    }
   ],
   "source": [
    "print(len(job_titles),len(company_names),len(experience_list),len(locations_list))"
   ]
  },
  {
   "cell_type": "code",
   "execution_count": 45,
   "metadata": {
    "scrolled": true
   },
   "outputs": [],
   "source": [
    "jobs=pd.DataFrame({})\n",
    "jobs['title']=job_titles[0:10]\n",
    "jobs['company']=company_names[0:10]\n",
    "jobs['experience_required']=experience_list[0:10]\n",
    "jobs['location']=locations_list[0:10]"
   ]
  },
  {
   "cell_type": "code",
   "execution_count": 46,
   "metadata": {
    "scrolled": true
   },
   "outputs": [
    {
     "data": {
      "text/html": [
       "<div>\n",
       "<style scoped>\n",
       "    .dataframe tbody tr th:only-of-type {\n",
       "        vertical-align: middle;\n",
       "    }\n",
       "\n",
       "    .dataframe tbody tr th {\n",
       "        vertical-align: top;\n",
       "    }\n",
       "\n",
       "    .dataframe thead th {\n",
       "        text-align: right;\n",
       "    }\n",
       "</style>\n",
       "<table border=\"1\" class=\"dataframe\">\n",
       "  <thead>\n",
       "    <tr style=\"text-align: right;\">\n",
       "      <th></th>\n",
       "      <th>title</th>\n",
       "      <th>company</th>\n",
       "      <th>experience_required</th>\n",
       "      <th>location</th>\n",
       "    </tr>\n",
       "  </thead>\n",
       "  <tbody>\n",
       "    <tr>\n",
       "      <th>0</th>\n",
       "      <td>Data Scientist</td>\n",
       "      <td>EXL Services.com ( I ) Pvt. Ltd.</td>\n",
       "      <td>3-5 Yrs</td>\n",
       "      <td>Gurgaon/Gurugram, Bangalore/Bengaluru</td>\n",
       "    </tr>\n",
       "    <tr>\n",
       "      <th>1</th>\n",
       "      <td>Job Opportunity || Data Scientist || HCL Techn...</td>\n",
       "      <td>HCL Technologies</td>\n",
       "      <td>4-7 Yrs</td>\n",
       "      <td>Delhi / NCR</td>\n",
       "    </tr>\n",
       "    <tr>\n",
       "      <th>2</th>\n",
       "      <td>Data Scientist</td>\n",
       "      <td>Newgen Software Technologies Ltd.</td>\n",
       "      <td>2-5 Yrs</td>\n",
       "      <td>Noida</td>\n",
       "    </tr>\n",
       "    <tr>\n",
       "      <th>3</th>\n",
       "      <td>Data Scientist</td>\n",
       "      <td>Hexagon Geosystems Services India P.Ltd.</td>\n",
       "      <td>6-11 Yrs</td>\n",
       "      <td>Gurgaon/Gurugram, Bangalore/Bengaluru</td>\n",
       "    </tr>\n",
       "    <tr>\n",
       "      <th>4</th>\n",
       "      <td>Data Scientist I/II/III</td>\n",
       "      <td>OLX India Pvt Ltd</td>\n",
       "      <td>3-6 Yrs</td>\n",
       "      <td>Gurgaon/Gurugram</td>\n",
       "    </tr>\n",
       "    <tr>\n",
       "      <th>5</th>\n",
       "      <td>Academic Counsellor - Data Scientist</td>\n",
       "      <td>GreatLearning</td>\n",
       "      <td>1-4 Yrs</td>\n",
       "      <td>Gurgaon/Gurugram, Bangalore/Bengaluru</td>\n",
       "    </tr>\n",
       "    <tr>\n",
       "      <th>6</th>\n",
       "      <td>Associate Data Scientist</td>\n",
       "      <td>Optum Global Solutions (India) Private Limited</td>\n",
       "      <td>2-7 Yrs</td>\n",
       "      <td>Noida</td>\n",
       "    </tr>\n",
       "    <tr>\n",
       "      <th>7</th>\n",
       "      <td>Data Scientist</td>\n",
       "      <td>Optum Global Solutions (India) Private Limited</td>\n",
       "      <td>2-6 Yrs</td>\n",
       "      <td>Noida, Gurgaon/Gurugram</td>\n",
       "    </tr>\n",
       "    <tr>\n",
       "      <th>8</th>\n",
       "      <td>Data Scientist</td>\n",
       "      <td>Milliman India Pvt Ltd</td>\n",
       "      <td>2-5 Yrs</td>\n",
       "      <td>Gurgaon/Gurugram</td>\n",
       "    </tr>\n",
       "    <tr>\n",
       "      <th>9</th>\n",
       "      <td>Data Scientist</td>\n",
       "      <td>lericon infomatics pvt.ltd</td>\n",
       "      <td>3-5 Yrs</td>\n",
       "      <td>Mumbai, Delhi / NCR</td>\n",
       "    </tr>\n",
       "  </tbody>\n",
       "</table>\n",
       "</div>"
      ],
      "text/plain": [
       "                                               title  \\\n",
       "0                                     Data Scientist   \n",
       "1  Job Opportunity || Data Scientist || HCL Techn...   \n",
       "2                                     Data Scientist   \n",
       "3                                     Data Scientist   \n",
       "4                            Data Scientist I/II/III   \n",
       "5               Academic Counsellor - Data Scientist   \n",
       "6                           Associate Data Scientist   \n",
       "7                                     Data Scientist   \n",
       "8                                     Data Scientist   \n",
       "9                                     Data Scientist   \n",
       "\n",
       "                                          company experience_required  \\\n",
       "0                EXL Services.com ( I ) Pvt. Ltd.             3-5 Yrs   \n",
       "1                                HCL Technologies             4-7 Yrs   \n",
       "2               Newgen Software Technologies Ltd.             2-5 Yrs   \n",
       "3        Hexagon Geosystems Services India P.Ltd.            6-11 Yrs   \n",
       "4                               OLX India Pvt Ltd             3-6 Yrs   \n",
       "5                                   GreatLearning             1-4 Yrs   \n",
       "6  Optum Global Solutions (India) Private Limited             2-7 Yrs   \n",
       "7  Optum Global Solutions (India) Private Limited             2-6 Yrs   \n",
       "8                          Milliman India Pvt Ltd             2-5 Yrs   \n",
       "9                      lericon infomatics pvt.ltd             3-5 Yrs   \n",
       "\n",
       "                                location  \n",
       "0  Gurgaon/Gurugram, Bangalore/Bengaluru  \n",
       "1                            Delhi / NCR  \n",
       "2                                  Noida  \n",
       "3  Gurgaon/Gurugram, Bangalore/Bengaluru  \n",
       "4                       Gurgaon/Gurugram  \n",
       "5  Gurgaon/Gurugram, Bangalore/Bengaluru  \n",
       "6                                  Noida  \n",
       "7                Noida, Gurgaon/Gurugram  \n",
       "8                       Gurgaon/Gurugram  \n",
       "9                    Mumbai, Delhi / NCR  "
      ]
     },
     "execution_count": 46,
     "metadata": {},
     "output_type": "execute_result"
    }
   ],
   "source": [
    "jobs"
   ]
  },
  {
   "cell_type": "code",
   "execution_count": 47,
   "metadata": {},
   "outputs": [],
   "source": [
    "driver.close()"
   ]
  },
  {
   "cell_type": "markdown",
   "metadata": {},
   "source": [
    "#### Q4: Write a python program to scrape data for first 10 job results for Data scientistDesignation in Noida location. You have to scrape company_name, No. of daysago when job was posted, Rating of the company.https://www.glassdoor.co.in/index.htm"
   ]
  },
  {
   "cell_type": "code",
   "execution_count": 3,
   "metadata": {},
   "outputs": [],
   "source": [
    "from selenium.common.exceptions import NoSuchElementException, ElementClickInterceptedException\n",
    "import numpy as np\n",
    "import pandas as pd\n",
    "from time import sleep\n",
    "from random import randint\n",
    "from selenium import webdriver"
   ]
  },
  {
   "cell_type": "code",
   "execution_count": 4,
   "metadata": {},
   "outputs": [],
   "source": [
    "driver = webdriver.Chrome(r\"C:/Users/Lab/Desktop/FlipRobo Internship/chromedriver.exe\")"
   ]
  },
  {
   "cell_type": "code",
   "execution_count": 5,
   "metadata": {},
   "outputs": [],
   "source": [
    "driver.get(\"https://www.glassdoor.co.in/index.htm\")"
   ]
  },
  {
   "cell_type": "code",
   "execution_count": 6,
   "metadata": {},
   "outputs": [],
   "source": [
    "search_job = driver.find_element_by_id(\"sc.keyword\")\n",
    "search_job.send_keys(\"Data Scientist\")\n",
    "search_loc = driver.find_element_by_id(\"sc.location\") \n",
    "search_loc.send_keys(\"Noida\")"
   ]
  },
  {
   "cell_type": "code",
   "execution_count": 7,
   "metadata": {},
   "outputs": [],
   "source": [
    "search_btn = driver.find_element_by_xpath(\"//span[@class='css-8zxfjs']\")\n",
    "search_btn.click()"
   ]
  },
  {
   "cell_type": "code",
   "execution_count": 8,
   "metadata": {},
   "outputs": [],
   "source": [
    "url = \"https://www.glassdoor.co.in/Job/noida-data-scientist-jobs-SRCH_IL.0,5_IC4477468_KO6,20.htm\""
   ]
  },
  {
   "cell_type": "code",
   "execution_count": 9,
   "metadata": {},
   "outputs": [],
   "source": [
    "driver.get(url)"
   ]
  },
  {
   "cell_type": "code",
   "execution_count": 10,
   "metadata": {},
   "outputs": [],
   "source": [
    "days_ago=[]"
   ]
  },
  {
   "cell_type": "code",
   "execution_count": 11,
   "metadata": {},
   "outputs": [
    {
     "data": {
      "text/plain": [
       "[<selenium.webdriver.remote.webelement.WebElement (session=\"1645d6dd794592d54c8a953dba4b9c98\", element=\"74d06ab9-2301-4b51-986a-44282f38b9b3\")>,\n",
       " <selenium.webdriver.remote.webelement.WebElement (session=\"1645d6dd794592d54c8a953dba4b9c98\", element=\"2216ad28-27eb-42a4-93b4-9960b1308bea\")>,\n",
       " <selenium.webdriver.remote.webelement.WebElement (session=\"1645d6dd794592d54c8a953dba4b9c98\", element=\"0392627f-f913-43d0-b741-2f77e9f54599\")>,\n",
       " <selenium.webdriver.remote.webelement.WebElement (session=\"1645d6dd794592d54c8a953dba4b9c98\", element=\"62a82faa-b07f-4307-9c73-d4a92dfb8986\")>,\n",
       " <selenium.webdriver.remote.webelement.WebElement (session=\"1645d6dd794592d54c8a953dba4b9c98\", element=\"3947f617-4e6a-4770-bb34-b32a092d2024\")>,\n",
       " <selenium.webdriver.remote.webelement.WebElement (session=\"1645d6dd794592d54c8a953dba4b9c98\", element=\"866b53e3-42a4-4486-8367-10c5f5328c9f\")>,\n",
       " <selenium.webdriver.remote.webelement.WebElement (session=\"1645d6dd794592d54c8a953dba4b9c98\", element=\"7cc11374-55b0-4f2c-8b4d-a71ff224bc7d\")>,\n",
       " <selenium.webdriver.remote.webelement.WebElement (session=\"1645d6dd794592d54c8a953dba4b9c98\", element=\"80166ce6-2298-4c81-b82c-f1142cbca6a8\")>,\n",
       " <selenium.webdriver.remote.webelement.WebElement (session=\"1645d6dd794592d54c8a953dba4b9c98\", element=\"9175f29e-831a-4886-b92f-cfb769c48d7a\")>,\n",
       " <selenium.webdriver.remote.webelement.WebElement (session=\"1645d6dd794592d54c8a953dba4b9c98\", element=\"df9a475d-9065-4395-8442-3272ddc3a975\")>]"
      ]
     },
     "execution_count": 11,
     "metadata": {},
     "output_type": "execute_result"
    }
   ],
   "source": [
    "daysago_tags=driver.find_elements_by_xpath(\"//div[@class='d-flex align-items-end pl-std css-17n8uzw']\")\n",
    "daysago_tags[0:10]"
   ]
  },
  {
   "cell_type": "code",
   "execution_count": 12,
   "metadata": {},
   "outputs": [
    {
     "data": {
      "text/plain": [
       "['30d+', '4d', '4d', '5d', '30d+', '30d+', '14d', '8d', '30d+', '18d']"
      ]
     },
     "execution_count": 12,
     "metadata": {},
     "output_type": "execute_result"
    }
   ],
   "source": [
    "for i in daysago_tags:\n",
    "    ago=i.text\n",
    "    days_ago.append(ago)\n",
    "days_ago[0:10]"
   ]
  },
  {
   "cell_type": "code",
   "execution_count": 13,
   "metadata": {},
   "outputs": [],
   "source": [
    "company_names=[]"
   ]
  },
  {
   "cell_type": "code",
   "execution_count": 14,
   "metadata": {},
   "outputs": [
    {
     "data": {
      "text/plain": [
       "[<selenium.webdriver.remote.webelement.WebElement (session=\"1645d6dd794592d54c8a953dba4b9c98\", element=\"c1bd05a4-8894-4632-b280-25dd3cdb9e8a\")>,\n",
       " <selenium.webdriver.remote.webelement.WebElement (session=\"1645d6dd794592d54c8a953dba4b9c98\", element=\"5cd09929-1a88-415f-9e67-a61cbaf9d504\")>,\n",
       " <selenium.webdriver.remote.webelement.WebElement (session=\"1645d6dd794592d54c8a953dba4b9c98\", element=\"2c9b55bb-69cb-47eb-85b2-32aa7eb56a3b\")>,\n",
       " <selenium.webdriver.remote.webelement.WebElement (session=\"1645d6dd794592d54c8a953dba4b9c98\", element=\"445adfa4-dcb4-4618-8354-0461d079d507\")>,\n",
       " <selenium.webdriver.remote.webelement.WebElement (session=\"1645d6dd794592d54c8a953dba4b9c98\", element=\"cbf94dc9-3052-42d3-b86e-ec59de6daf59\")>,\n",
       " <selenium.webdriver.remote.webelement.WebElement (session=\"1645d6dd794592d54c8a953dba4b9c98\", element=\"04d68f10-5040-43fd-bb7a-2f7ecee6e2f6\")>,\n",
       " <selenium.webdriver.remote.webelement.WebElement (session=\"1645d6dd794592d54c8a953dba4b9c98\", element=\"72c3d344-7757-4c5c-8597-c599ce9d733b\")>,\n",
       " <selenium.webdriver.remote.webelement.WebElement (session=\"1645d6dd794592d54c8a953dba4b9c98\", element=\"2f3a0c49-f2aa-4184-a23c-8344f554f603\")>,\n",
       " <selenium.webdriver.remote.webelement.WebElement (session=\"1645d6dd794592d54c8a953dba4b9c98\", element=\"8e4ad923-56ca-4368-a995-c7c3ab9bcee2\")>,\n",
       " <selenium.webdriver.remote.webelement.WebElement (session=\"1645d6dd794592d54c8a953dba4b9c98\", element=\"aabe03d3-3c26-474f-bdf4-78f4741e63ff\")>]"
      ]
     },
     "execution_count": 14,
     "metadata": {},
     "output_type": "execute_result"
    }
   ],
   "source": [
    "companies_tags=driver.find_elements_by_xpath(\"//div[@class='d-flex justify-content-between align-items-start']\")\n",
    "companies_tags[0:10]"
   ]
  },
  {
   "cell_type": "code",
   "execution_count": 15,
   "metadata": {},
   "outputs": [
    {
     "data": {
      "text/plain": [
       "['Instrovate Technologies',\n",
       " 'Pixel Vision',\n",
       " 'Innovacer',\n",
       " '',\n",
       " 'Salasar New Age Technologies',\n",
       " 'AlgoScale Technologies Private Limited',\n",
       " 'Crowe',\n",
       " 'UnitedHealth Group',\n",
       " 'Techlive',\n",
       " 'CODEC Networks Pvt ltd']"
      ]
     },
     "execution_count": 15,
     "metadata": {},
     "output_type": "execute_result"
    }
   ],
   "source": [
    "for i in companies_tags:\n",
    "    company=i.text\n",
    "    company_names.append(company)\n",
    "company_names[0:10]"
   ]
  },
  {
   "cell_type": "code",
   "execution_count": 16,
   "metadata": {},
   "outputs": [],
   "source": [
    "company_rating=[]"
   ]
  },
  {
   "cell_type": "code",
   "execution_count": 17,
   "metadata": {},
   "outputs": [
    {
     "data": {
      "text/plain": [
       "[<selenium.webdriver.remote.webelement.WebElement (session=\"1645d6dd794592d54c8a953dba4b9c98\", element=\"1423ce5d-738a-4f6f-a83c-3343a3d14f03\")>,\n",
       " <selenium.webdriver.remote.webelement.WebElement (session=\"1645d6dd794592d54c8a953dba4b9c98\", element=\"82d498ad-2bcc-43d8-b2f8-54eb617f5299\")>,\n",
       " <selenium.webdriver.remote.webelement.WebElement (session=\"1645d6dd794592d54c8a953dba4b9c98\", element=\"cc526cc9-bd38-4081-821d-7a2591f8d1d2\")>,\n",
       " <selenium.webdriver.remote.webelement.WebElement (session=\"1645d6dd794592d54c8a953dba4b9c98\", element=\"179af12a-aebf-4c7e-af1a-5a3f344db84c\")>,\n",
       " <selenium.webdriver.remote.webelement.WebElement (session=\"1645d6dd794592d54c8a953dba4b9c98\", element=\"5cd35e29-cbf4-4aaa-9fc4-e14aa4fc5ef0\")>,\n",
       " <selenium.webdriver.remote.webelement.WebElement (session=\"1645d6dd794592d54c8a953dba4b9c98\", element=\"732611c7-7b65-4cf0-beae-4bc83ea166cf\")>,\n",
       " <selenium.webdriver.remote.webelement.WebElement (session=\"1645d6dd794592d54c8a953dba4b9c98\", element=\"6b835f2a-36b1-445c-8c3e-cc952edaa398\")>,\n",
       " <selenium.webdriver.remote.webelement.WebElement (session=\"1645d6dd794592d54c8a953dba4b9c98\", element=\"6f9b1eaa-7044-48ea-8c39-db8c731e76be\")>,\n",
       " <selenium.webdriver.remote.webelement.WebElement (session=\"1645d6dd794592d54c8a953dba4b9c98\", element=\"b887ea9b-5188-407c-bea2-47945db7d3f6\")>,\n",
       " <selenium.webdriver.remote.webelement.WebElement (session=\"1645d6dd794592d54c8a953dba4b9c98\", element=\"d86fdd69-1052-4d33-9dde-e7dc251aa139\")>]"
      ]
     },
     "execution_count": 17,
     "metadata": {},
     "output_type": "execute_result"
    }
   ],
   "source": [
    "companyratings_tags=driver.find_elements_by_xpath(\"//span[@class=' job-search-key-srfzj0 e1cjmv6j0']\")\n",
    "companyratings_tags[0:10]"
   ]
  },
  {
   "cell_type": "code",
   "execution_count": 18,
   "metadata": {},
   "outputs": [
    {
     "data": {
      "text/plain": [
       "['3.8', '3.7', '4.0', '3.8', '3.7', '5.0', '3.1', '4.5', '4.0', '4.3']"
      ]
     },
     "execution_count": 18,
     "metadata": {},
     "output_type": "execute_result"
    }
   ],
   "source": [
    "for i in companyratings_tags:\n",
    "    cmpnyrtng=i.text\n",
    "    company_rating.append(cmpnyrtng)\n",
    "company_rating[0:10]"
   ]
  },
  {
   "cell_type": "code",
   "execution_count": 19,
   "metadata": {},
   "outputs": [
    {
     "name": "stdout",
     "output_type": "stream",
     "text": [
      "30 30 21\n"
     ]
    }
   ],
   "source": [
    "print(len(days_ago),len(company_names),len(company_rating))"
   ]
  },
  {
   "cell_type": "code",
   "execution_count": 20,
   "metadata": {},
   "outputs": [],
   "source": [
    "glassdoor=pd.DataFrame({})\n",
    "glassdoor['days_ago']=days_ago[0:10]\n",
    "glassdoor['company_names']=company_names[0:10]\n",
    "glassdoor['company_rating']=company_rating[0:10]"
   ]
  },
  {
   "cell_type": "code",
   "execution_count": 21,
   "metadata": {},
   "outputs": [
    {
     "data": {
      "text/html": [
       "<div>\n",
       "<style scoped>\n",
       "    .dataframe tbody tr th:only-of-type {\n",
       "        vertical-align: middle;\n",
       "    }\n",
       "\n",
       "    .dataframe tbody tr th {\n",
       "        vertical-align: top;\n",
       "    }\n",
       "\n",
       "    .dataframe thead th {\n",
       "        text-align: right;\n",
       "    }\n",
       "</style>\n",
       "<table border=\"1\" class=\"dataframe\">\n",
       "  <thead>\n",
       "    <tr style=\"text-align: right;\">\n",
       "      <th></th>\n",
       "      <th>days_ago</th>\n",
       "      <th>company_names</th>\n",
       "      <th>company_rating</th>\n",
       "    </tr>\n",
       "  </thead>\n",
       "  <tbody>\n",
       "    <tr>\n",
       "      <th>0</th>\n",
       "      <td>30d+</td>\n",
       "      <td>Instrovate Technologies</td>\n",
       "      <td>3.8</td>\n",
       "    </tr>\n",
       "    <tr>\n",
       "      <th>1</th>\n",
       "      <td>4d</td>\n",
       "      <td>Pixel Vision</td>\n",
       "      <td>3.7</td>\n",
       "    </tr>\n",
       "    <tr>\n",
       "      <th>2</th>\n",
       "      <td>4d</td>\n",
       "      <td>Innovacer</td>\n",
       "      <td>4.0</td>\n",
       "    </tr>\n",
       "    <tr>\n",
       "      <th>3</th>\n",
       "      <td>5d</td>\n",
       "      <td></td>\n",
       "      <td>3.8</td>\n",
       "    </tr>\n",
       "    <tr>\n",
       "      <th>4</th>\n",
       "      <td>30d+</td>\n",
       "      <td>Salasar New Age Technologies</td>\n",
       "      <td>3.7</td>\n",
       "    </tr>\n",
       "    <tr>\n",
       "      <th>5</th>\n",
       "      <td>30d+</td>\n",
       "      <td>AlgoScale Technologies Private Limited</td>\n",
       "      <td>5.0</td>\n",
       "    </tr>\n",
       "    <tr>\n",
       "      <th>6</th>\n",
       "      <td>14d</td>\n",
       "      <td>Crowe</td>\n",
       "      <td>3.1</td>\n",
       "    </tr>\n",
       "    <tr>\n",
       "      <th>7</th>\n",
       "      <td>8d</td>\n",
       "      <td>UnitedHealth Group</td>\n",
       "      <td>4.5</td>\n",
       "    </tr>\n",
       "    <tr>\n",
       "      <th>8</th>\n",
       "      <td>30d+</td>\n",
       "      <td>Techlive</td>\n",
       "      <td>4.0</td>\n",
       "    </tr>\n",
       "    <tr>\n",
       "      <th>9</th>\n",
       "      <td>18d</td>\n",
       "      <td>CODEC Networks Pvt ltd</td>\n",
       "      <td>4.3</td>\n",
       "    </tr>\n",
       "  </tbody>\n",
       "</table>\n",
       "</div>"
      ],
      "text/plain": [
       "  days_ago                           company_names company_rating\n",
       "0     30d+                 Instrovate Technologies            3.8\n",
       "1       4d                            Pixel Vision            3.7\n",
       "2       4d                               Innovacer            4.0\n",
       "3       5d                                                    3.8\n",
       "4     30d+            Salasar New Age Technologies            3.7\n",
       "5     30d+  AlgoScale Technologies Private Limited            5.0\n",
       "6      14d                                   Crowe            3.1\n",
       "7       8d                      UnitedHealth Group            4.5\n",
       "8     30d+                                Techlive            4.0\n",
       "9      18d                  CODEC Networks Pvt ltd            4.3"
      ]
     },
     "execution_count": 21,
     "metadata": {},
     "output_type": "execute_result"
    }
   ],
   "source": [
    "glassdoor"
   ]
  },
  {
   "cell_type": "code",
   "execution_count": 22,
   "metadata": {},
   "outputs": [],
   "source": [
    "driver.close()"
   ]
  },
  {
   "cell_type": "markdown",
   "metadata": {},
   "source": [
    "# 5. Scrape data for first 10 companies. Scrape the min salary, max salary, company name, Average salary and rating of the company."
   ]
  },
  {
   "cell_type": "code",
   "execution_count": 23,
   "metadata": {},
   "outputs": [],
   "source": [
    "from selenium.common.exceptions import NoSuchElementException, ElementClickInterceptedException\n",
    "import numpy as np\n",
    "import pandas as pd\n",
    "from time import sleep\n",
    "from random import randint\n",
    "from selenium import webdriver"
   ]
  },
  {
   "cell_type": "code",
   "execution_count": 24,
   "metadata": {},
   "outputs": [],
   "source": [
    "driver = webdriver.Chrome(r\"C:/Users/Lab/Desktop/FlipRobo Internship/chromedriver.exe\")"
   ]
  },
  {
   "cell_type": "code",
   "execution_count": 25,
   "metadata": {},
   "outputs": [],
   "source": [
    "driver.get(\"https://www.glassdoor.co.in/Salaries/index.htm\")"
   ]
  },
  {
   "cell_type": "code",
   "execution_count": 26,
   "metadata": {},
   "outputs": [],
   "source": [
    "search_job = driver.find_element_by_class_name(\"keyword\")\n",
    "search_job.send_keys(\"Data Scientist\")\n",
    "search_loc = driver.find_element_by_class_name(\"loc\") \n",
    "search_loc.send_keys(\"Noida\")"
   ]
  },
  {
   "cell_type": "code",
   "execution_count": 27,
   "metadata": {},
   "outputs": [],
   "source": [
    "search_btn = driver.find_element_by_xpath(\"//button[@id='HeroSearchButton']\")\n",
    "search_btn.click()"
   ]
  },
  {
   "cell_type": "code",
   "execution_count": 40,
   "metadata": {},
   "outputs": [],
   "source": [
    "url = \"https://www.glassdoor.co.in/Salaries/new-delhi-data-scientist-salary-SRCH_IL.0,9_IM1083_KO10,24.htm?clickSource=searchBtn\""
   ]
  },
  {
   "cell_type": "code",
   "execution_count": 41,
   "metadata": {},
   "outputs": [],
   "source": [
    "driver.get(url)"
   ]
  },
  {
   "cell_type": "code",
   "execution_count": 42,
   "metadata": {},
   "outputs": [],
   "source": [
    "avg_salary=[]"
   ]
  },
  {
   "cell_type": "code",
   "execution_count": 43,
   "metadata": {},
   "outputs": [
    {
     "data": {
      "text/plain": [
       "[<selenium.webdriver.remote.webelement.WebElement (session=\"b58fac2b86f12d18c12688aa8b2c78ea\", element=\"009c49af-fad7-41e2-88a8-c3b11ba860e2\")>,\n",
       " <selenium.webdriver.remote.webelement.WebElement (session=\"b58fac2b86f12d18c12688aa8b2c78ea\", element=\"ee04f74a-999e-4aba-85af-ad095eaffa34\")>,\n",
       " <selenium.webdriver.remote.webelement.WebElement (session=\"b58fac2b86f12d18c12688aa8b2c78ea\", element=\"dcfdbbd2-0b8e-4280-b72b-5e886e678576\")>,\n",
       " <selenium.webdriver.remote.webelement.WebElement (session=\"b58fac2b86f12d18c12688aa8b2c78ea\", element=\"620fcce7-c134-41b8-b8d9-69f60c6063bd\")>,\n",
       " <selenium.webdriver.remote.webelement.WebElement (session=\"b58fac2b86f12d18c12688aa8b2c78ea\", element=\"ae3fad90-258e-4d2c-ab9c-8164699d6c67\")>,\n",
       " <selenium.webdriver.remote.webelement.WebElement (session=\"b58fac2b86f12d18c12688aa8b2c78ea\", element=\"5b6b61d4-cce5-4767-a8d8-98448b132769\")>,\n",
       " <selenium.webdriver.remote.webelement.WebElement (session=\"b58fac2b86f12d18c12688aa8b2c78ea\", element=\"84a32d94-8885-4885-9ca8-ab6a533d39f9\")>,\n",
       " <selenium.webdriver.remote.webelement.WebElement (session=\"b58fac2b86f12d18c12688aa8b2c78ea\", element=\"2babe7f3-6143-4a77-bece-072d3d3a709d\")>,\n",
       " <selenium.webdriver.remote.webelement.WebElement (session=\"b58fac2b86f12d18c12688aa8b2c78ea\", element=\"9ade7dbe-5199-457a-befe-4df96f093d76\")>,\n",
       " <selenium.webdriver.remote.webelement.WebElement (session=\"b58fac2b86f12d18c12688aa8b2c78ea\", element=\"5f15c567-e22f-4da1-a3d2-dd7ed16f8264\")>]"
      ]
     },
     "execution_count": 43,
     "metadata": {},
     "output_type": "execute_result"
    }
   ],
   "source": [
    "avgsalry_tags=driver.find_elements_by_xpath(\"//div[@class='col-12 col-lg-4 px-lg-0 d-flex align-items-baseline']\")\n",
    "avgsalry_tags[0:10]"
   ]
  },
  {
   "cell_type": "code",
   "execution_count": 44,
   "metadata": {},
   "outputs": [
    {
     "data": {
      "text/plain": [
       "['₹6,31,184\\n /yr',\n",
       " '₹9,08,246\\n /yr',\n",
       " '₹12,13,338\\n /yr',\n",
       " '₹7,61,766\\n /yr',\n",
       " '₹12,49,716\\n /yr',\n",
       " '₹12,80,000\\n /yr',\n",
       " '₹12,42,519\\n /yr',\n",
       " '₹12,70,000\\n /yr',\n",
       " '₹11,71,868\\n /yr',\n",
       " '₹14,55,430\\n /yr']"
      ]
     },
     "execution_count": 44,
     "metadata": {},
     "output_type": "execute_result"
    }
   ],
   "source": [
    "for i in avgsalry_tags:\n",
    "    avgslry=i.text\n",
    "    avg_salary.append(avgslry)\n",
    "avg_salary[0:10]"
   ]
  },
  {
   "cell_type": "code",
   "execution_count": 79,
   "metadata": {},
   "outputs": [],
   "source": [
    "min_max_salary=[]"
   ]
  },
  {
   "cell_type": "code",
   "execution_count": 80,
   "metadata": {},
   "outputs": [
    {
     "data": {
      "text/plain": [
       "[<selenium.webdriver.remote.webelement.WebElement (session=\"b58fac2b86f12d18c12688aa8b2c78ea\", element=\"e643c3a0-d4ae-4cc0-befd-d51375bf4f9b\")>,\n",
       " <selenium.webdriver.remote.webelement.WebElement (session=\"b58fac2b86f12d18c12688aa8b2c78ea\", element=\"dbaa9f5e-cf0e-4191-8ddf-23a819dd7d8c\")>,\n",
       " <selenium.webdriver.remote.webelement.WebElement (session=\"b58fac2b86f12d18c12688aa8b2c78ea\", element=\"3e44250c-0999-4766-82e1-39da538345d5\")>,\n",
       " <selenium.webdriver.remote.webelement.WebElement (session=\"b58fac2b86f12d18c12688aa8b2c78ea\", element=\"ef0f59ad-4d23-4008-a853-9d0c50e1a921\")>,\n",
       " <selenium.webdriver.remote.webelement.WebElement (session=\"b58fac2b86f12d18c12688aa8b2c78ea\", element=\"b9c4de66-4712-4f7f-aab8-74669b568d17\")>,\n",
       " <selenium.webdriver.remote.webelement.WebElement (session=\"b58fac2b86f12d18c12688aa8b2c78ea\", element=\"b5b6280b-ec21-4b86-9fcf-4f2b70c188a2\")>,\n",
       " <selenium.webdriver.remote.webelement.WebElement (session=\"b58fac2b86f12d18c12688aa8b2c78ea\", element=\"55acc220-56f2-4763-b7a1-34051b1f6c86\")>,\n",
       " <selenium.webdriver.remote.webelement.WebElement (session=\"b58fac2b86f12d18c12688aa8b2c78ea\", element=\"d215005e-16f6-4251-8f91-8756dda39322\")>,\n",
       " <selenium.webdriver.remote.webelement.WebElement (session=\"b58fac2b86f12d18c12688aa8b2c78ea\", element=\"b2a4e792-646e-4819-a1f7-c2159c7e128c\")>,\n",
       " <selenium.webdriver.remote.webelement.WebElement (session=\"b58fac2b86f12d18c12688aa8b2c78ea\", element=\"c95f2abd-74eb-4a42-b2b4-6c598b02245b\")>]"
      ]
     },
     "execution_count": 80,
     "metadata": {},
     "output_type": "execute_result"
    }
   ],
   "source": [
    "#minmaxsalry_tags=driver.find_elements_by_xpath(\"//span[@class='d-block d-lg-none m-0 css-1b6bxoo']\")\n",
    "minmaxsalry_tags=driver.find_elements_by_xpath(\"//div[@class='d-none d-lg-block']\")\n",
    "minmaxsalry_tags[0:10]"
   ]
  },
  {
   "cell_type": "code",
   "execution_count": 81,
   "metadata": {},
   "outputs": [
    {
     "data": {
      "text/plain": [
       "['₹4L\\n₹13L',\n",
       " '₹1L\\n₹28L',\n",
       " '₹6L\\n₹23L',\n",
       " '₹4L\\n₹17L',\n",
       " '₹5L\\n₹1Cr',\n",
       " '₹8L\\n₹16L',\n",
       " '₹6L\\n₹20L',\n",
       " '₹8L\\n₹20L',\n",
       " '₹2L\\n₹22L',\n",
       " '₹10L\\n₹18L']"
      ]
     },
     "execution_count": 81,
     "metadata": {},
     "output_type": "execute_result"
    }
   ],
   "source": [
    "for i in minmaxsalry_tags:\n",
    "    mnmxslry=i.text\n",
    "    min_max_salary.append( mnmxslry)\n",
    "min_max_salary[0:10]"
   ]
  },
  {
   "cell_type": "code",
   "execution_count": 82,
   "metadata": {},
   "outputs": [],
   "source": [
    "cmpny_name=[]"
   ]
  },
  {
   "cell_type": "code",
   "execution_count": 83,
   "metadata": {
    "scrolled": false
   },
   "outputs": [
    {
     "data": {
      "text/plain": [
       "[<selenium.webdriver.remote.webelement.WebElement (session=\"b58fac2b86f12d18c12688aa8b2c78ea\", element=\"cdbe3372-ef74-4834-ac17-87e8086838df\")>,\n",
       " <selenium.webdriver.remote.webelement.WebElement (session=\"b58fac2b86f12d18c12688aa8b2c78ea\", element=\"b8638877-8e4b-43f7-8ebf-29a03fd0ddda\")>,\n",
       " <selenium.webdriver.remote.webelement.WebElement (session=\"b58fac2b86f12d18c12688aa8b2c78ea\", element=\"44b4b299-681f-4ae9-bb5e-31843182c772\")>,\n",
       " <selenium.webdriver.remote.webelement.WebElement (session=\"b58fac2b86f12d18c12688aa8b2c78ea\", element=\"95d2ba3e-f68e-45ec-b99b-0346757affac\")>,\n",
       " <selenium.webdriver.remote.webelement.WebElement (session=\"b58fac2b86f12d18c12688aa8b2c78ea\", element=\"62d96d06-3273-4ac5-94f0-a6f819ed4769\")>,\n",
       " <selenium.webdriver.remote.webelement.WebElement (session=\"b58fac2b86f12d18c12688aa8b2c78ea\", element=\"ad44c6dc-612e-473d-8ead-4a88f084e9f5\")>,\n",
       " <selenium.webdriver.remote.webelement.WebElement (session=\"b58fac2b86f12d18c12688aa8b2c78ea\", element=\"9509a2f8-6401-42ca-8451-2e94ef544c4f\")>,\n",
       " <selenium.webdriver.remote.webelement.WebElement (session=\"b58fac2b86f12d18c12688aa8b2c78ea\", element=\"7391d244-8a86-4f1e-8d50-87ecf37fd36a\")>,\n",
       " <selenium.webdriver.remote.webelement.WebElement (session=\"b58fac2b86f12d18c12688aa8b2c78ea\", element=\"2dab5d4f-880c-4fd1-aa32-2fb49b9677e0\")>,\n",
       " <selenium.webdriver.remote.webelement.WebElement (session=\"b58fac2b86f12d18c12688aa8b2c78ea\", element=\"a3a6b64a-adce-492a-b65a-ad95f0ba3a24\")>]"
      ]
     },
     "execution_count": 83,
     "metadata": {},
     "output_type": "execute_result"
    }
   ],
   "source": [
    "companyName_tags=driver.find_elements_by_xpath(\"//a[@class='css-f3vw95 e1aj7ssy3']\")\n",
    "companyName_tags[0:10]"
   ]
  },
  {
   "cell_type": "code",
   "execution_count": 84,
   "metadata": {},
   "outputs": [
    {
     "data": {
      "text/plain": [
       "['Tata Consultancy Services',\n",
       " 'IBM',\n",
       " 'Accenture',\n",
       " 'Ericsson-Worldwide',\n",
       " 'Delhivery',\n",
       " 'UnitedHealth Group',\n",
       " 'EXL Service',\n",
       " 'Optum',\n",
       " 'ZS Associates',\n",
       " 'Optum Global Solutions']"
      ]
     },
     "execution_count": 84,
     "metadata": {},
     "output_type": "execute_result"
    }
   ],
   "source": [
    "for i in companyName_tags:\n",
    "    name=i.text\n",
    "    cmpny_name.append(name)\n",
    "cmpny_name[0:10]"
   ]
  },
  {
   "cell_type": "code",
   "execution_count": 85,
   "metadata": {},
   "outputs": [],
   "source": [
    "company_rating=[]"
   ]
  },
  {
   "cell_type": "code",
   "execution_count": 86,
   "metadata": {},
   "outputs": [
    {
     "data": {
      "text/plain": [
       "[<selenium.webdriver.remote.webelement.WebElement (session=\"b58fac2b86f12d18c12688aa8b2c78ea\", element=\"7ad6bee0-fedb-44d4-9b6b-83da9e7bc105\")>,\n",
       " <selenium.webdriver.remote.webelement.WebElement (session=\"b58fac2b86f12d18c12688aa8b2c78ea\", element=\"68f0b147-b76f-4f9d-aa40-d7adf3a9d48f\")>,\n",
       " <selenium.webdriver.remote.webelement.WebElement (session=\"b58fac2b86f12d18c12688aa8b2c78ea\", element=\"c2cf962a-a7b6-4211-8747-c203c60ca83d\")>,\n",
       " <selenium.webdriver.remote.webelement.WebElement (session=\"b58fac2b86f12d18c12688aa8b2c78ea\", element=\"2194cf45-6b6a-4ebb-a0a8-0b5fcf084b47\")>,\n",
       " <selenium.webdriver.remote.webelement.WebElement (session=\"b58fac2b86f12d18c12688aa8b2c78ea\", element=\"836d3423-e7c2-4542-9e80-66a1144979d3\")>,\n",
       " <selenium.webdriver.remote.webelement.WebElement (session=\"b58fac2b86f12d18c12688aa8b2c78ea\", element=\"4afcdfcc-21b3-4b6f-aec8-9980f7916cff\")>,\n",
       " <selenium.webdriver.remote.webelement.WebElement (session=\"b58fac2b86f12d18c12688aa8b2c78ea\", element=\"737e8f75-9876-4fb2-a245-79bfed716fe6\")>,\n",
       " <selenium.webdriver.remote.webelement.WebElement (session=\"b58fac2b86f12d18c12688aa8b2c78ea\", element=\"b5f56f1d-4ed4-4c54-94b1-996c51aaef95\")>,\n",
       " <selenium.webdriver.remote.webelement.WebElement (session=\"b58fac2b86f12d18c12688aa8b2c78ea\", element=\"9d2e01c8-5360-419c-a682-792722531a3a\")>,\n",
       " <selenium.webdriver.remote.webelement.WebElement (session=\"b58fac2b86f12d18c12688aa8b2c78ea\", element=\"38b6f0d1-772e-4567-a981-d3a573b0cfef\")>]"
      ]
     },
     "execution_count": 86,
     "metadata": {},
     "output_type": "execute_result"
    }
   ],
   "source": [
    "rtng_tags=driver.find_elements_by_xpath(\"//span[@class='m-0 css-kyx745']\")\n",
    "rtng_tags[0:10]"
   ]
  },
  {
   "cell_type": "code",
   "execution_count": 87,
   "metadata": {},
   "outputs": [
    {
     "data": {
      "text/plain": [
       "['3.9', '3.9', '4.1', '4', '3.7', '3.7', '3.6', '3.7', '4', '3.9']"
      ]
     },
     "execution_count": 87,
     "metadata": {},
     "output_type": "execute_result"
    }
   ],
   "source": [
    "for i in rtng_tags:\n",
    "    rating=i.text\n",
    "    company_rating.append(rating)\n",
    "company_rating[0:10]"
   ]
  },
  {
   "cell_type": "code",
   "execution_count": 88,
   "metadata": {},
   "outputs": [
    {
     "name": "stdout",
     "output_type": "stream",
     "text": [
      "20 20 20 20\n"
     ]
    }
   ],
   "source": [
    "print(len(avg_salary),len(min_max_salary),len(cmpny_name),len(company_rating))"
   ]
  },
  {
   "cell_type": "code",
   "execution_count": 89,
   "metadata": {},
   "outputs": [],
   "source": [
    "glassdoor5=pd.DataFrame({})\n",
    "glassdoor5['avg_salary']=avg_salary[0:10]\n",
    "glassdoor5['min_max_salary']=min_max_salary[0:10]\n",
    "glassdoor5['cmpny_name']=cmpny_name[0:10]\n",
    "glassdoor5['company_rating']=company_rating[0:10]"
   ]
  },
  {
   "cell_type": "code",
   "execution_count": 90,
   "metadata": {},
   "outputs": [
    {
     "data": {
      "text/html": [
       "<div>\n",
       "<style scoped>\n",
       "    .dataframe tbody tr th:only-of-type {\n",
       "        vertical-align: middle;\n",
       "    }\n",
       "\n",
       "    .dataframe tbody tr th {\n",
       "        vertical-align: top;\n",
       "    }\n",
       "\n",
       "    .dataframe thead th {\n",
       "        text-align: right;\n",
       "    }\n",
       "</style>\n",
       "<table border=\"1\" class=\"dataframe\">\n",
       "  <thead>\n",
       "    <tr style=\"text-align: right;\">\n",
       "      <th></th>\n",
       "      <th>avg_salary</th>\n",
       "      <th>min_max_salary</th>\n",
       "      <th>cmpny_name</th>\n",
       "      <th>company_rating</th>\n",
       "    </tr>\n",
       "  </thead>\n",
       "  <tbody>\n",
       "    <tr>\n",
       "      <th>0</th>\n",
       "      <td>₹6,31,184\\n /yr</td>\n",
       "      <td>₹4L\\n₹13L</td>\n",
       "      <td>Tata Consultancy Services</td>\n",
       "      <td>3.9</td>\n",
       "    </tr>\n",
       "    <tr>\n",
       "      <th>1</th>\n",
       "      <td>₹9,08,246\\n /yr</td>\n",
       "      <td>₹1L\\n₹28L</td>\n",
       "      <td>IBM</td>\n",
       "      <td>3.9</td>\n",
       "    </tr>\n",
       "    <tr>\n",
       "      <th>2</th>\n",
       "      <td>₹12,13,338\\n /yr</td>\n",
       "      <td>₹6L\\n₹23L</td>\n",
       "      <td>Accenture</td>\n",
       "      <td>4.1</td>\n",
       "    </tr>\n",
       "    <tr>\n",
       "      <th>3</th>\n",
       "      <td>₹7,61,766\\n /yr</td>\n",
       "      <td>₹4L\\n₹17L</td>\n",
       "      <td>Ericsson-Worldwide</td>\n",
       "      <td>4</td>\n",
       "    </tr>\n",
       "    <tr>\n",
       "      <th>4</th>\n",
       "      <td>₹12,49,716\\n /yr</td>\n",
       "      <td>₹5L\\n₹1Cr</td>\n",
       "      <td>Delhivery</td>\n",
       "      <td>3.7</td>\n",
       "    </tr>\n",
       "    <tr>\n",
       "      <th>5</th>\n",
       "      <td>₹12,80,000\\n /yr</td>\n",
       "      <td>₹8L\\n₹16L</td>\n",
       "      <td>UnitedHealth Group</td>\n",
       "      <td>3.7</td>\n",
       "    </tr>\n",
       "    <tr>\n",
       "      <th>6</th>\n",
       "      <td>₹12,42,519\\n /yr</td>\n",
       "      <td>₹6L\\n₹20L</td>\n",
       "      <td>EXL Service</td>\n",
       "      <td>3.6</td>\n",
       "    </tr>\n",
       "    <tr>\n",
       "      <th>7</th>\n",
       "      <td>₹12,70,000\\n /yr</td>\n",
       "      <td>₹8L\\n₹20L</td>\n",
       "      <td>Optum</td>\n",
       "      <td>3.7</td>\n",
       "    </tr>\n",
       "    <tr>\n",
       "      <th>8</th>\n",
       "      <td>₹11,71,868\\n /yr</td>\n",
       "      <td>₹2L\\n₹22L</td>\n",
       "      <td>ZS Associates</td>\n",
       "      <td>4</td>\n",
       "    </tr>\n",
       "    <tr>\n",
       "      <th>9</th>\n",
       "      <td>₹14,55,430\\n /yr</td>\n",
       "      <td>₹10L\\n₹18L</td>\n",
       "      <td>Optum Global Solutions</td>\n",
       "      <td>3.9</td>\n",
       "    </tr>\n",
       "  </tbody>\n",
       "</table>\n",
       "</div>"
      ],
      "text/plain": [
       "         avg_salary min_max_salary                 cmpny_name company_rating\n",
       "0   ₹6,31,184\\n /yr      ₹4L\\n₹13L  Tata Consultancy Services            3.9\n",
       "1   ₹9,08,246\\n /yr      ₹1L\\n₹28L                        IBM            3.9\n",
       "2  ₹12,13,338\\n /yr      ₹6L\\n₹23L                  Accenture            4.1\n",
       "3   ₹7,61,766\\n /yr      ₹4L\\n₹17L         Ericsson-Worldwide              4\n",
       "4  ₹12,49,716\\n /yr      ₹5L\\n₹1Cr                  Delhivery            3.7\n",
       "5  ₹12,80,000\\n /yr      ₹8L\\n₹16L         UnitedHealth Group            3.7\n",
       "6  ₹12,42,519\\n /yr      ₹6L\\n₹20L                EXL Service            3.6\n",
       "7  ₹12,70,000\\n /yr      ₹8L\\n₹20L                      Optum            3.7\n",
       "8  ₹11,71,868\\n /yr      ₹2L\\n₹22L              ZS Associates              4\n",
       "9  ₹14,55,430\\n /yr     ₹10L\\n₹18L     Optum Global Solutions            3.9"
      ]
     },
     "execution_count": 90,
     "metadata": {},
     "output_type": "execute_result"
    }
   ],
   "source": [
    "glassdoor5"
   ]
  },
  {
   "cell_type": "markdown",
   "metadata": {},
   "source": [
    "### Q6 : Scrape data of first 100 sunglasses listings on flipkart.com. You have to scrape four attributes: 1. Brand, 2. Product Description, 3. Price, 4. Discount %"
   ]
  },
  {
   "cell_type": "code",
   "execution_count": 289,
   "metadata": {},
   "outputs": [],
   "source": [
    "import numpy as np\n",
    "import pandas as pd\n",
    "from time import sleep\n",
    "from random import randint\n",
    "from selenium import webdriver"
   ]
  },
  {
   "cell_type": "code",
   "execution_count": 290,
   "metadata": {},
   "outputs": [],
   "source": [
    "driver = webdriver.Chrome(r\"C:/Users/Lab/Desktop/FlipRobo Internship/chromedriver.exe\")"
   ]
  },
  {
   "cell_type": "code",
   "execution_count": 291,
   "metadata": {},
   "outputs": [],
   "source": [
    "driver.get(\"https://www.flipkart.com\")"
   ]
  },
  {
   "cell_type": "code",
   "execution_count": 293,
   "metadata": {},
   "outputs": [],
   "source": [
    "search_job = driver.find_element_by_class_name('_3704LK')\n",
    "search_job.send_keys(\"sunglasses\")\n",
    "    "
   ]
  },
  {
   "cell_type": "code",
   "execution_count": 294,
   "metadata": {},
   "outputs": [],
   "source": [
    "search_btn = driver.find_element_by_class_name('L0Z3Pu')\n",
    "search_btn.click()"
   ]
  },
  {
   "cell_type": "code",
   "execution_count": 295,
   "metadata": {},
   "outputs": [],
   "source": [
    "pages = np.arange(1,4,1)\n",
    "brand=[]\n",
    "product_desc=[]\n",
    "price=[]\n",
    "discount=[]\n",
    "\n",
    "\n",
    "for page in pages:\n",
    "    \n",
    "    page=\"https://www.flipkart.com/search?q=sunglasses&otracker=search&otracker1=search&marketplace=FLIPKART&as-show=on&as=off\" + str(page) \n",
    "    driver = webdriver.Chrome(r\"C:/Users/Lab/Desktop/FlipRobo Internship/chromedriver.exe\")\n",
    "    driver.get(page)  \n",
    "    sleep(randint(2,10))\n",
    "    #soup = BeautifulSoup(driver.page_source, 'html.parser')\n",
    "    brand_tags=driver.find_elements_by_xpath(\"//div[@class='_2WkVRV']\")\n",
    "    product_tags=driver.find_elements_by_xpath(\"//a[@class='IRpwTa']\")\n",
    "    price_tags=driver.find_elements_by_xpath(\"//div[@class='_30jeq3']\")\n",
    "    discount_tags=driver.find_elements_by_xpath(\"//div[@class='_3Ay6Sb']\")\n",
    "    \n",
    "\n",
    "    \n",
    "        \n",
    "    for i in brand_tags:\n",
    "        brnd=i.text\n",
    "        brand.append(brnd)\n",
    "    brand[0:100]\n",
    "    \n",
    "    \n",
    "    for i in product_tags:\n",
    "        prdt=i.text\n",
    "        product_desc.append(prdt)\n",
    "    product_desc[0:100]\n",
    "    \n",
    "    \n",
    "    for i in price_tags:\n",
    "        prce=i.text\n",
    "        price.append(prce)\n",
    "    price[0:100]\n",
    "\n",
    "    for i in discount_tags:\n",
    "        dcnt=i.text\n",
    "        discount.append(dcnt)\n",
    "    discount[0:100]\n",
    "        \n",
    "        "
   ]
  },
  {
   "cell_type": "code",
   "execution_count": 296,
   "metadata": {},
   "outputs": [
    {
     "name": "stdout",
     "output_type": "stream",
     "text": [
      "120 120 120 120\n"
     ]
    }
   ],
   "source": [
    "print(len(brand),len(product_desc),len(price),len(discount))"
   ]
  },
  {
   "cell_type": "code",
   "execution_count": 297,
   "metadata": {},
   "outputs": [],
   "source": [
    "flipkart=pd.DataFrame({})\n",
    "flipkart['brand']=brand[0:100]\n",
    "flipkart['product_desc']=product_desc[0:100]\n",
    "flipkart['price']=price[0:100]\n",
    "flipkart['discount']=discount[0:100]"
   ]
  },
  {
   "cell_type": "code",
   "execution_count": 298,
   "metadata": {},
   "outputs": [
    {
     "data": {
      "text/html": [
       "<div>\n",
       "<style scoped>\n",
       "    .dataframe tbody tr th:only-of-type {\n",
       "        vertical-align: middle;\n",
       "    }\n",
       "\n",
       "    .dataframe tbody tr th {\n",
       "        vertical-align: top;\n",
       "    }\n",
       "\n",
       "    .dataframe thead th {\n",
       "        text-align: right;\n",
       "    }\n",
       "</style>\n",
       "<table border=\"1\" class=\"dataframe\">\n",
       "  <thead>\n",
       "    <tr style=\"text-align: right;\">\n",
       "      <th></th>\n",
       "      <th>brand</th>\n",
       "      <th>product_desc</th>\n",
       "      <th>price</th>\n",
       "      <th>discount</th>\n",
       "    </tr>\n",
       "  </thead>\n",
       "  <tbody>\n",
       "    <tr>\n",
       "      <th>0</th>\n",
       "      <td>VINCENT CHASE</td>\n",
       "      <td>UV Protection Aviator Sunglasses (53)</td>\n",
       "      <td>₹999</td>\n",
       "      <td>50% off</td>\n",
       "    </tr>\n",
       "    <tr>\n",
       "      <th>1</th>\n",
       "      <td>VINCENT CHASE</td>\n",
       "      <td>Polarized, UV Protection Wayfarer Sunglasses (53)</td>\n",
       "      <td>₹799</td>\n",
       "      <td>60% off</td>\n",
       "    </tr>\n",
       "    <tr>\n",
       "      <th>2</th>\n",
       "      <td>Fastrack</td>\n",
       "      <td>UV Protection Wayfarer Sunglasses (Free Size)</td>\n",
       "      <td>₹758</td>\n",
       "      <td>15% off</td>\n",
       "    </tr>\n",
       "    <tr>\n",
       "      <th>3</th>\n",
       "      <td>PIRASO</td>\n",
       "      <td>UV Protection Aviator Sunglasses (54)</td>\n",
       "      <td>₹200</td>\n",
       "      <td>87% off</td>\n",
       "    </tr>\n",
       "    <tr>\n",
       "      <th>4</th>\n",
       "      <td>PIRASO</td>\n",
       "      <td>UV Protection Aviator Sunglasses (54)</td>\n",
       "      <td>₹200</td>\n",
       "      <td>87% off</td>\n",
       "    </tr>\n",
       "    <tr>\n",
       "      <th>...</th>\n",
       "      <td>...</td>\n",
       "      <td>...</td>\n",
       "      <td>...</td>\n",
       "      <td>...</td>\n",
       "    </tr>\n",
       "    <tr>\n",
       "      <th>95</th>\n",
       "      <td>VINCENT CHASE</td>\n",
       "      <td>UV Protection Aviator Sunglasses (Free Size)</td>\n",
       "      <td>₹999</td>\n",
       "      <td>50% off</td>\n",
       "    </tr>\n",
       "    <tr>\n",
       "      <th>96</th>\n",
       "      <td>Fastrack</td>\n",
       "      <td>UV Protection Aviator Sunglasses (Free Size)</td>\n",
       "      <td>₹546</td>\n",
       "      <td>31% off</td>\n",
       "    </tr>\n",
       "    <tr>\n",
       "      <th>97</th>\n",
       "      <td>Singco India</td>\n",
       "      <td>UV Protection, Riding Glasses, Others Aviator,...</td>\n",
       "      <td>₹229</td>\n",
       "      <td>67% off</td>\n",
       "    </tr>\n",
       "    <tr>\n",
       "      <th>98</th>\n",
       "      <td>GANSTA</td>\n",
       "      <td>UV Protection Aviator Sunglasses (57)</td>\n",
       "      <td>₹239</td>\n",
       "      <td>88% off</td>\n",
       "    </tr>\n",
       "    <tr>\n",
       "      <th>99</th>\n",
       "      <td>VINCENT CHASE</td>\n",
       "      <td>by Lenskart Polarized, UV Protection Round Sun...</td>\n",
       "      <td>₹1,344</td>\n",
       "      <td>32% off</td>\n",
       "    </tr>\n",
       "  </tbody>\n",
       "</table>\n",
       "<p>100 rows × 4 columns</p>\n",
       "</div>"
      ],
      "text/plain": [
       "            brand                                       product_desc   price  \\\n",
       "0   VINCENT CHASE              UV Protection Aviator Sunglasses (53)    ₹999   \n",
       "1   VINCENT CHASE  Polarized, UV Protection Wayfarer Sunglasses (53)    ₹799   \n",
       "2        Fastrack      UV Protection Wayfarer Sunglasses (Free Size)    ₹758   \n",
       "3          PIRASO              UV Protection Aviator Sunglasses (54)    ₹200   \n",
       "4          PIRASO              UV Protection Aviator Sunglasses (54)    ₹200   \n",
       "..            ...                                                ...     ...   \n",
       "95  VINCENT CHASE       UV Protection Aviator Sunglasses (Free Size)    ₹999   \n",
       "96       Fastrack       UV Protection Aviator Sunglasses (Free Size)    ₹546   \n",
       "97   Singco India  UV Protection, Riding Glasses, Others Aviator,...    ₹229   \n",
       "98         GANSTA              UV Protection Aviator Sunglasses (57)    ₹239   \n",
       "99  VINCENT CHASE  by Lenskart Polarized, UV Protection Round Sun...  ₹1,344   \n",
       "\n",
       "   discount  \n",
       "0   50% off  \n",
       "1   60% off  \n",
       "2   15% off  \n",
       "3   87% off  \n",
       "4   87% off  \n",
       "..      ...  \n",
       "95  50% off  \n",
       "96  31% off  \n",
       "97  67% off  \n",
       "98  88% off  \n",
       "99  32% off  \n",
       "\n",
       "[100 rows x 4 columns]"
      ]
     },
     "execution_count": 298,
     "metadata": {},
     "output_type": "execute_result"
    }
   ],
   "source": [
    "flipkart"
   ]
  },
  {
   "cell_type": "markdown",
   "metadata": {},
   "source": [
    "# Q7: Scrape 100 reviews data from flipkart.com for iphone11 phone."
   ]
  },
  {
   "cell_type": "code",
   "execution_count": 284,
   "metadata": {},
   "outputs": [],
   "source": [
    "import numpy as np\n",
    "import pandas as pd\n",
    "from time import sleep\n",
    "from random import randint\n",
    "from selenium import webdriver"
   ]
  },
  {
   "cell_type": "code",
   "execution_count": 285,
   "metadata": {},
   "outputs": [],
   "source": [
    "pages = np.arange(1,6,1)\n",
    "rating=[]\n",
    "review_summary=[]\n",
    "full_review=[]\n",
    "\n",
    "for page in pages:\n",
    "    \n",
    "    page=\"https://www.flipkart.com/apple-iphone-11-black-64-gb-includes-earpods-power-adapter/product-reviews/itm0f37c2240b217?pid=MOBFKCTSVZAXUHGR&lid=LSTMOBFKCTSVZAXUHGREPBFGI&marketplace=FLIPKART\" + str(page) \n",
    "    driver = webdriver.Chrome(r\"C:/Users/Lab/Desktop/FlipRobo Internship/chromedriver.exe\")\n",
    "    driver.get(page)  \n",
    "    sleep(randint(2,10))\n",
    "    \n",
    "    rating_tags=driver.find_elements_by_xpath(\"//div[@class='_3LWZlK _1BLPMq']\")\n",
    "    review_tags=driver.find_elements_by_xpath(\"//p[@class='_2-N8zT']\")\n",
    "    fullreview_tags=driver.find_elements_by_xpath(\"//div[@class='t-ZTKy']\")\n",
    "    \n",
    "\n",
    "    \n",
    "        \n",
    "    for i in rating_tags:\n",
    "        ratingt=i.text\n",
    "        rating.append(ratingt)\n",
    "    rating[0:100]\n",
    "    \n",
    "    \n",
    "    for i in review_tags:\n",
    "        reviewt=i.text\n",
    "        review_summary.append(reviewt)\n",
    "    review_summary[0:100]\n",
    "    \n",
    "    \n",
    "    for i in fullreview_tags:\n",
    "        fullreviewt=i.text\n",
    "        full_review.append(fullreviewt)\n",
    "    full_review[0:100]\n",
    "        \n",
    "        "
   ]
  },
  {
   "cell_type": "code",
   "execution_count": 286,
   "metadata": {},
   "outputs": [
    {
     "name": "stdout",
     "output_type": "stream",
     "text": [
      "50 50 50\n"
     ]
    }
   ],
   "source": [
    "print(len(rating),len(review_summary),len(full_review))"
   ]
  },
  {
   "cell_type": "code",
   "execution_count": 287,
   "metadata": {},
   "outputs": [],
   "source": [
    "flipkartr=pd.DataFrame({})\n",
    "flipkartr['rating']=rating[0:50]\n",
    "flipkartr['review_summary']=review_summary[0:50]\n",
    "flipkartr['full_review']=full_review[0:50]"
   ]
  },
  {
   "cell_type": "code",
   "execution_count": 288,
   "metadata": {},
   "outputs": [
    {
     "data": {
      "text/html": [
       "<div>\n",
       "<style scoped>\n",
       "    .dataframe tbody tr th:only-of-type {\n",
       "        vertical-align: middle;\n",
       "    }\n",
       "\n",
       "    .dataframe tbody tr th {\n",
       "        vertical-align: top;\n",
       "    }\n",
       "\n",
       "    .dataframe thead th {\n",
       "        text-align: right;\n",
       "    }\n",
       "</style>\n",
       "<table border=\"1\" class=\"dataframe\">\n",
       "  <thead>\n",
       "    <tr style=\"text-align: right;\">\n",
       "      <th></th>\n",
       "      <th>rating</th>\n",
       "      <th>review_summary</th>\n",
       "      <th>full_review</th>\n",
       "    </tr>\n",
       "  </thead>\n",
       "  <tbody>\n",
       "    <tr>\n",
       "      <th>0</th>\n",
       "      <td>5</td>\n",
       "      <td>Brilliant</td>\n",
       "      <td>The Best Phone for the Money\\n\\nThe iPhone 11 ...</td>\n",
       "    </tr>\n",
       "    <tr>\n",
       "      <th>1</th>\n",
       "      <td>5</td>\n",
       "      <td>Simply awesome</td>\n",
       "      <td>Really satisfied with the Product I received.....</td>\n",
       "    </tr>\n",
       "    <tr>\n",
       "      <th>2</th>\n",
       "      <td>5</td>\n",
       "      <td>Perfect product!</td>\n",
       "      <td>Amazing phone with great cameras and better ba...</td>\n",
       "    </tr>\n",
       "    <tr>\n",
       "      <th>3</th>\n",
       "      <td>5</td>\n",
       "      <td>Fabulous!</td>\n",
       "      <td>This is my first iOS phone. I am very happy wi...</td>\n",
       "    </tr>\n",
       "    <tr>\n",
       "      <th>4</th>\n",
       "      <td>5</td>\n",
       "      <td>Best in the market!</td>\n",
       "      <td>Great iPhone very snappy experience as apple k...</td>\n",
       "    </tr>\n",
       "    <tr>\n",
       "      <th>5</th>\n",
       "      <td>5</td>\n",
       "      <td>Worth every penny</td>\n",
       "      <td>Previously I was using one plus 3t it was a gr...</td>\n",
       "    </tr>\n",
       "    <tr>\n",
       "      <th>6</th>\n",
       "      <td>5</td>\n",
       "      <td>Great product</td>\n",
       "      <td>Amazing Powerful and Durable Gadget.\\n\\nI’m am...</td>\n",
       "    </tr>\n",
       "    <tr>\n",
       "      <th>7</th>\n",
       "      <td>4</td>\n",
       "      <td>Good choice</td>\n",
       "      <td>So far it’s been an AMAZING experience coming ...</td>\n",
       "    </tr>\n",
       "    <tr>\n",
       "      <th>8</th>\n",
       "      <td>5</td>\n",
       "      <td>Worth every penny</td>\n",
       "      <td>i11 is worthy to buy, too much happy with the ...</td>\n",
       "    </tr>\n",
       "    <tr>\n",
       "      <th>9</th>\n",
       "      <td>5</td>\n",
       "      <td>Highly recommended</td>\n",
       "      <td>What a camera .....just awesome ..you can feel...</td>\n",
       "    </tr>\n",
       "    <tr>\n",
       "      <th>10</th>\n",
       "      <td>5</td>\n",
       "      <td>Brilliant</td>\n",
       "      <td>The Best Phone for the Money\\n\\nThe iPhone 11 ...</td>\n",
       "    </tr>\n",
       "    <tr>\n",
       "      <th>11</th>\n",
       "      <td>5</td>\n",
       "      <td>Simply awesome</td>\n",
       "      <td>Really satisfied with the Product I received.....</td>\n",
       "    </tr>\n",
       "    <tr>\n",
       "      <th>12</th>\n",
       "      <td>5</td>\n",
       "      <td>Perfect product!</td>\n",
       "      <td>Amazing phone with great cameras and better ba...</td>\n",
       "    </tr>\n",
       "    <tr>\n",
       "      <th>13</th>\n",
       "      <td>5</td>\n",
       "      <td>Fabulous!</td>\n",
       "      <td>This is my first iOS phone. I am very happy wi...</td>\n",
       "    </tr>\n",
       "    <tr>\n",
       "      <th>14</th>\n",
       "      <td>5</td>\n",
       "      <td>Best in the market!</td>\n",
       "      <td>Great iPhone very snappy experience as apple k...</td>\n",
       "    </tr>\n",
       "    <tr>\n",
       "      <th>15</th>\n",
       "      <td>5</td>\n",
       "      <td>Worth every penny</td>\n",
       "      <td>Previously I was using one plus 3t it was a gr...</td>\n",
       "    </tr>\n",
       "    <tr>\n",
       "      <th>16</th>\n",
       "      <td>5</td>\n",
       "      <td>Great product</td>\n",
       "      <td>Amazing Powerful and Durable Gadget.\\n\\nI’m am...</td>\n",
       "    </tr>\n",
       "    <tr>\n",
       "      <th>17</th>\n",
       "      <td>4</td>\n",
       "      <td>Good choice</td>\n",
       "      <td>So far it’s been an AMAZING experience coming ...</td>\n",
       "    </tr>\n",
       "    <tr>\n",
       "      <th>18</th>\n",
       "      <td>5</td>\n",
       "      <td>Worth every penny</td>\n",
       "      <td>i11 is worthy to buy, too much happy with the ...</td>\n",
       "    </tr>\n",
       "    <tr>\n",
       "      <th>19</th>\n",
       "      <td>5</td>\n",
       "      <td>Highly recommended</td>\n",
       "      <td>What a camera .....just awesome ..you can feel...</td>\n",
       "    </tr>\n",
       "    <tr>\n",
       "      <th>20</th>\n",
       "      <td>5</td>\n",
       "      <td>Brilliant</td>\n",
       "      <td>The Best Phone for the Money\\n\\nThe iPhone 11 ...</td>\n",
       "    </tr>\n",
       "    <tr>\n",
       "      <th>21</th>\n",
       "      <td>5</td>\n",
       "      <td>Simply awesome</td>\n",
       "      <td>Really satisfied with the Product I received.....</td>\n",
       "    </tr>\n",
       "    <tr>\n",
       "      <th>22</th>\n",
       "      <td>5</td>\n",
       "      <td>Perfect product!</td>\n",
       "      <td>Amazing phone with great cameras and better ba...</td>\n",
       "    </tr>\n",
       "    <tr>\n",
       "      <th>23</th>\n",
       "      <td>5</td>\n",
       "      <td>Fabulous!</td>\n",
       "      <td>This is my first iOS phone. I am very happy wi...</td>\n",
       "    </tr>\n",
       "    <tr>\n",
       "      <th>24</th>\n",
       "      <td>5</td>\n",
       "      <td>Best in the market!</td>\n",
       "      <td>Great iPhone very snappy experience as apple k...</td>\n",
       "    </tr>\n",
       "    <tr>\n",
       "      <th>25</th>\n",
       "      <td>5</td>\n",
       "      <td>Worth every penny</td>\n",
       "      <td>Previously I was using one plus 3t it was a gr...</td>\n",
       "    </tr>\n",
       "    <tr>\n",
       "      <th>26</th>\n",
       "      <td>5</td>\n",
       "      <td>Great product</td>\n",
       "      <td>Amazing Powerful and Durable Gadget.\\n\\nI’m am...</td>\n",
       "    </tr>\n",
       "    <tr>\n",
       "      <th>27</th>\n",
       "      <td>4</td>\n",
       "      <td>Good choice</td>\n",
       "      <td>So far it’s been an AMAZING experience coming ...</td>\n",
       "    </tr>\n",
       "    <tr>\n",
       "      <th>28</th>\n",
       "      <td>5</td>\n",
       "      <td>Worth every penny</td>\n",
       "      <td>i11 is worthy to buy, too much happy with the ...</td>\n",
       "    </tr>\n",
       "    <tr>\n",
       "      <th>29</th>\n",
       "      <td>5</td>\n",
       "      <td>Highly recommended</td>\n",
       "      <td>What a camera .....just awesome ..you can feel...</td>\n",
       "    </tr>\n",
       "    <tr>\n",
       "      <th>30</th>\n",
       "      <td>5</td>\n",
       "      <td>Brilliant</td>\n",
       "      <td>The Best Phone for the Money\\n\\nThe iPhone 11 ...</td>\n",
       "    </tr>\n",
       "    <tr>\n",
       "      <th>31</th>\n",
       "      <td>5</td>\n",
       "      <td>Simply awesome</td>\n",
       "      <td>Really satisfied with the Product I received.....</td>\n",
       "    </tr>\n",
       "    <tr>\n",
       "      <th>32</th>\n",
       "      <td>5</td>\n",
       "      <td>Perfect product!</td>\n",
       "      <td>Amazing phone with great cameras and better ba...</td>\n",
       "    </tr>\n",
       "    <tr>\n",
       "      <th>33</th>\n",
       "      <td>5</td>\n",
       "      <td>Fabulous!</td>\n",
       "      <td>This is my first iOS phone. I am very happy wi...</td>\n",
       "    </tr>\n",
       "    <tr>\n",
       "      <th>34</th>\n",
       "      <td>5</td>\n",
       "      <td>Best in the market!</td>\n",
       "      <td>Great iPhone very snappy experience as apple k...</td>\n",
       "    </tr>\n",
       "    <tr>\n",
       "      <th>35</th>\n",
       "      <td>5</td>\n",
       "      <td>Worth every penny</td>\n",
       "      <td>Previously I was using one plus 3t it was a gr...</td>\n",
       "    </tr>\n",
       "    <tr>\n",
       "      <th>36</th>\n",
       "      <td>5</td>\n",
       "      <td>Great product</td>\n",
       "      <td>Amazing Powerful and Durable Gadget.\\n\\nI’m am...</td>\n",
       "    </tr>\n",
       "    <tr>\n",
       "      <th>37</th>\n",
       "      <td>4</td>\n",
       "      <td>Good choice</td>\n",
       "      <td>So far it’s been an AMAZING experience coming ...</td>\n",
       "    </tr>\n",
       "    <tr>\n",
       "      <th>38</th>\n",
       "      <td>5</td>\n",
       "      <td>Worth every penny</td>\n",
       "      <td>i11 is worthy to buy, too much happy with the ...</td>\n",
       "    </tr>\n",
       "    <tr>\n",
       "      <th>39</th>\n",
       "      <td>5</td>\n",
       "      <td>Highly recommended</td>\n",
       "      <td>What a camera .....just awesome ..you can feel...</td>\n",
       "    </tr>\n",
       "    <tr>\n",
       "      <th>40</th>\n",
       "      <td>5</td>\n",
       "      <td>Brilliant</td>\n",
       "      <td>The Best Phone for the Money\\n\\nThe iPhone 11 ...</td>\n",
       "    </tr>\n",
       "    <tr>\n",
       "      <th>41</th>\n",
       "      <td>5</td>\n",
       "      <td>Simply awesome</td>\n",
       "      <td>Really satisfied with the Product I received.....</td>\n",
       "    </tr>\n",
       "    <tr>\n",
       "      <th>42</th>\n",
       "      <td>5</td>\n",
       "      <td>Perfect product!</td>\n",
       "      <td>Amazing phone with great cameras and better ba...</td>\n",
       "    </tr>\n",
       "    <tr>\n",
       "      <th>43</th>\n",
       "      <td>5</td>\n",
       "      <td>Fabulous!</td>\n",
       "      <td>This is my first iOS phone. I am very happy wi...</td>\n",
       "    </tr>\n",
       "    <tr>\n",
       "      <th>44</th>\n",
       "      <td>5</td>\n",
       "      <td>Best in the market!</td>\n",
       "      <td>Great iPhone very snappy experience as apple k...</td>\n",
       "    </tr>\n",
       "    <tr>\n",
       "      <th>45</th>\n",
       "      <td>5</td>\n",
       "      <td>Worth every penny</td>\n",
       "      <td>Previously I was using one plus 3t it was a gr...</td>\n",
       "    </tr>\n",
       "    <tr>\n",
       "      <th>46</th>\n",
       "      <td>5</td>\n",
       "      <td>Great product</td>\n",
       "      <td>Amazing Powerful and Durable Gadget.\\n\\nI’m am...</td>\n",
       "    </tr>\n",
       "    <tr>\n",
       "      <th>47</th>\n",
       "      <td>4</td>\n",
       "      <td>Good choice</td>\n",
       "      <td>So far it’s been an AMAZING experience coming ...</td>\n",
       "    </tr>\n",
       "    <tr>\n",
       "      <th>48</th>\n",
       "      <td>5</td>\n",
       "      <td>Worth every penny</td>\n",
       "      <td>i11 is worthy to buy, too much happy with the ...</td>\n",
       "    </tr>\n",
       "    <tr>\n",
       "      <th>49</th>\n",
       "      <td>5</td>\n",
       "      <td>Highly recommended</td>\n",
       "      <td>What a camera .....just awesome ..you can feel...</td>\n",
       "    </tr>\n",
       "  </tbody>\n",
       "</table>\n",
       "</div>"
      ],
      "text/plain": [
       "   rating       review_summary  \\\n",
       "0       5            Brilliant   \n",
       "1       5       Simply awesome   \n",
       "2       5     Perfect product!   \n",
       "3       5            Fabulous!   \n",
       "4       5  Best in the market!   \n",
       "5       5    Worth every penny   \n",
       "6       5        Great product   \n",
       "7       4          Good choice   \n",
       "8       5    Worth every penny   \n",
       "9       5   Highly recommended   \n",
       "10      5            Brilliant   \n",
       "11      5       Simply awesome   \n",
       "12      5     Perfect product!   \n",
       "13      5            Fabulous!   \n",
       "14      5  Best in the market!   \n",
       "15      5    Worth every penny   \n",
       "16      5        Great product   \n",
       "17      4          Good choice   \n",
       "18      5    Worth every penny   \n",
       "19      5   Highly recommended   \n",
       "20      5            Brilliant   \n",
       "21      5       Simply awesome   \n",
       "22      5     Perfect product!   \n",
       "23      5            Fabulous!   \n",
       "24      5  Best in the market!   \n",
       "25      5    Worth every penny   \n",
       "26      5        Great product   \n",
       "27      4          Good choice   \n",
       "28      5    Worth every penny   \n",
       "29      5   Highly recommended   \n",
       "30      5            Brilliant   \n",
       "31      5       Simply awesome   \n",
       "32      5     Perfect product!   \n",
       "33      5            Fabulous!   \n",
       "34      5  Best in the market!   \n",
       "35      5    Worth every penny   \n",
       "36      5        Great product   \n",
       "37      4          Good choice   \n",
       "38      5    Worth every penny   \n",
       "39      5   Highly recommended   \n",
       "40      5            Brilliant   \n",
       "41      5       Simply awesome   \n",
       "42      5     Perfect product!   \n",
       "43      5            Fabulous!   \n",
       "44      5  Best in the market!   \n",
       "45      5    Worth every penny   \n",
       "46      5        Great product   \n",
       "47      4          Good choice   \n",
       "48      5    Worth every penny   \n",
       "49      5   Highly recommended   \n",
       "\n",
       "                                          full_review  \n",
       "0   The Best Phone for the Money\\n\\nThe iPhone 11 ...  \n",
       "1   Really satisfied with the Product I received.....  \n",
       "2   Amazing phone with great cameras and better ba...  \n",
       "3   This is my first iOS phone. I am very happy wi...  \n",
       "4   Great iPhone very snappy experience as apple k...  \n",
       "5   Previously I was using one plus 3t it was a gr...  \n",
       "6   Amazing Powerful and Durable Gadget.\\n\\nI’m am...  \n",
       "7   So far it’s been an AMAZING experience coming ...  \n",
       "8   i11 is worthy to buy, too much happy with the ...  \n",
       "9   What a camera .....just awesome ..you can feel...  \n",
       "10  The Best Phone for the Money\\n\\nThe iPhone 11 ...  \n",
       "11  Really satisfied with the Product I received.....  \n",
       "12  Amazing phone with great cameras and better ba...  \n",
       "13  This is my first iOS phone. I am very happy wi...  \n",
       "14  Great iPhone very snappy experience as apple k...  \n",
       "15  Previously I was using one plus 3t it was a gr...  \n",
       "16  Amazing Powerful and Durable Gadget.\\n\\nI’m am...  \n",
       "17  So far it’s been an AMAZING experience coming ...  \n",
       "18  i11 is worthy to buy, too much happy with the ...  \n",
       "19  What a camera .....just awesome ..you can feel...  \n",
       "20  The Best Phone for the Money\\n\\nThe iPhone 11 ...  \n",
       "21  Really satisfied with the Product I received.....  \n",
       "22  Amazing phone with great cameras and better ba...  \n",
       "23  This is my first iOS phone. I am very happy wi...  \n",
       "24  Great iPhone very snappy experience as apple k...  \n",
       "25  Previously I was using one plus 3t it was a gr...  \n",
       "26  Amazing Powerful and Durable Gadget.\\n\\nI’m am...  \n",
       "27  So far it’s been an AMAZING experience coming ...  \n",
       "28  i11 is worthy to buy, too much happy with the ...  \n",
       "29  What a camera .....just awesome ..you can feel...  \n",
       "30  The Best Phone for the Money\\n\\nThe iPhone 11 ...  \n",
       "31  Really satisfied with the Product I received.....  \n",
       "32  Amazing phone with great cameras and better ba...  \n",
       "33  This is my first iOS phone. I am very happy wi...  \n",
       "34  Great iPhone very snappy experience as apple k...  \n",
       "35  Previously I was using one plus 3t it was a gr...  \n",
       "36  Amazing Powerful and Durable Gadget.\\n\\nI’m am...  \n",
       "37  So far it’s been an AMAZING experience coming ...  \n",
       "38  i11 is worthy to buy, too much happy with the ...  \n",
       "39  What a camera .....just awesome ..you can feel...  \n",
       "40  The Best Phone for the Money\\n\\nThe iPhone 11 ...  \n",
       "41  Really satisfied with the Product I received.....  \n",
       "42  Amazing phone with great cameras and better ba...  \n",
       "43  This is my first iOS phone. I am very happy wi...  \n",
       "44  Great iPhone very snappy experience as apple k...  \n",
       "45  Previously I was using one plus 3t it was a gr...  \n",
       "46  Amazing Powerful and Durable Gadget.\\n\\nI’m am...  \n",
       "47  So far it’s been an AMAZING experience coming ...  \n",
       "48  i11 is worthy to buy, too much happy with the ...  \n",
       "49  What a camera .....just awesome ..you can feel...  "
      ]
     },
     "execution_count": 288,
     "metadata": {},
     "output_type": "execute_result"
    }
   ],
   "source": [
    "flipkartr"
   ]
  },
  {
   "cell_type": "markdown",
   "metadata": {},
   "source": [
    "## Q8: Scrape data for first 100 sneakers you find when you visit flipkart.com and search for “sneakers” in the search field."
   ]
  },
  {
   "cell_type": "code",
   "execution_count": 48,
   "metadata": {},
   "outputs": [],
   "source": [
    "import numpy as np\n",
    "import pandas as pd\n",
    "from time import sleep\n",
    "from random import randint\n",
    "from selenium import webdriver"
   ]
  },
  {
   "cell_type": "code",
   "execution_count": 49,
   "metadata": {},
   "outputs": [],
   "source": [
    "driver = webdriver.Chrome(r\"C:/Users/Lab/Desktop/FlipRobo Internship/chromedriver.exe\")"
   ]
  },
  {
   "cell_type": "code",
   "execution_count": 50,
   "metadata": {},
   "outputs": [],
   "source": [
    "driver.get(\"https://www.flipkart.com\")"
   ]
  },
  {
   "cell_type": "code",
   "execution_count": 51,
   "metadata": {},
   "outputs": [],
   "source": [
    "search_job = driver.find_element_by_class_name('_3704LK')\n",
    "search_job.send_keys(\"sneakers\")    "
   ]
  },
  {
   "cell_type": "code",
   "execution_count": 55,
   "metadata": {},
   "outputs": [],
   "source": [
    "search_btn = driver.find_element_by_class_name('L0Z3Pu')\n",
    "search_btn.click()"
   ]
  },
  {
   "cell_type": "code",
   "execution_count": 58,
   "metadata": {},
   "outputs": [],
   "source": [
    "pages = np.arange(1,4,1)\n",
    "brand=[]\n",
    "product_desc=[]\n",
    "price=[]\n",
    "discount=[]\n",
    "\n",
    "\n",
    "for page in pages:\n",
    "    \n",
    "    page=\"https://www.flipkart.com/search?q=sneakers&otracker=search&otracker1=search&marketplace=FLIPKART&as-show=off&as=off\" + str(page) \n",
    "    driver = webdriver.Chrome(r\"C:/Users/Lab/Desktop/FlipRobo Internship/chromedriver.exe\")\n",
    "    driver.get(page)  \n",
    "    sleep(randint(2,10))\n",
    "    #soup = BeautifulSoup(driver.page_source, 'html.parser')\n",
    "    brand_tags=driver.find_elements_by_xpath(\"//div[@class='_2WkVRV']\")\n",
    "    product_tags=driver.find_elements_by_xpath(\"//a[@class='IRpwTa']\")\n",
    "    price_tags=driver.find_elements_by_xpath(\"//div[@class='_30jeq3']\")\n",
    "    discount_tags=driver.find_elements_by_xpath(\"//div[@class='_3Ay6Sb']\")\n",
    "    \n",
    "\n",
    "    \n",
    "        \n",
    "    for i in brand_tags:\n",
    "        brnd=i.text\n",
    "        brand.append(brnd)\n",
    "    brand[0:100]\n",
    "    \n",
    "    \n",
    "    for i in product_tags:\n",
    "        prdt=i.text\n",
    "        product_desc.append(prdt)\n",
    "    product_desc[0:100]\n",
    "    \n",
    "    \n",
    "    for i in price_tags:\n",
    "        prce=i.text\n",
    "        price.append(prce)\n",
    "    price[0:100]\n",
    "\n",
    "    for i in discount_tags:\n",
    "        dcnt=i.text\n",
    "        discount.append(dcnt)\n",
    "    discount[0:100]\n",
    "        \n",
    "        "
   ]
  },
  {
   "cell_type": "code",
   "execution_count": 59,
   "metadata": {},
   "outputs": [
    {
     "name": "stdout",
     "output_type": "stream",
     "text": [
      "120 108 120 114\n"
     ]
    }
   ],
   "source": [
    "print(len(brand),len(product_desc),len(price),len(discount))"
   ]
  },
  {
   "cell_type": "code",
   "execution_count": 61,
   "metadata": {},
   "outputs": [],
   "source": [
    "flipkart=pd.DataFrame({})\n",
    "flipkart['brand']=brand[0:100]\n",
    "flipkart['product_desc']=product_desc[0:100]\n",
    "flipkart['price']=price[0:100]\n",
    "flipkart['discount']=discount[0:100]"
   ]
  },
  {
   "cell_type": "code",
   "execution_count": 62,
   "metadata": {},
   "outputs": [
    {
     "data": {
      "text/html": [
       "<div>\n",
       "<style scoped>\n",
       "    .dataframe tbody tr th:only-of-type {\n",
       "        vertical-align: middle;\n",
       "    }\n",
       "\n",
       "    .dataframe tbody tr th {\n",
       "        vertical-align: top;\n",
       "    }\n",
       "\n",
       "    .dataframe thead th {\n",
       "        text-align: right;\n",
       "    }\n",
       "</style>\n",
       "<table border=\"1\" class=\"dataframe\">\n",
       "  <thead>\n",
       "    <tr style=\"text-align: right;\">\n",
       "      <th></th>\n",
       "      <th>brand</th>\n",
       "      <th>product_desc</th>\n",
       "      <th>price</th>\n",
       "      <th>discount</th>\n",
       "    </tr>\n",
       "  </thead>\n",
       "  <tbody>\n",
       "    <tr>\n",
       "      <th>0</th>\n",
       "      <td>Wildcraft</td>\n",
       "      <td>True Black Shoe Sneakers For Men</td>\n",
       "      <td>₹2,599</td>\n",
       "      <td>69% off</td>\n",
       "    </tr>\n",
       "    <tr>\n",
       "      <th>1</th>\n",
       "      <td>Wildcraft</td>\n",
       "      <td>True White Shoe Sneakers For Men</td>\n",
       "      <td>₹2,599</td>\n",
       "      <td>60% off</td>\n",
       "    </tr>\n",
       "    <tr>\n",
       "      <th>2</th>\n",
       "      <td>BRUTON</td>\n",
       "      <td>Modern Trendy Sneakers Shoes Sneakers For Men</td>\n",
       "      <td>₹399</td>\n",
       "      <td>20% off</td>\n",
       "    </tr>\n",
       "    <tr>\n",
       "      <th>3</th>\n",
       "      <td>Magnolia</td>\n",
       "      <td>Sneakers For Men</td>\n",
       "      <td>₹398</td>\n",
       "      <td>85% off</td>\n",
       "    </tr>\n",
       "    <tr>\n",
       "      <th>4</th>\n",
       "      <td>BIRDE</td>\n",
       "      <td>Birde Trendy Casual Shoes Sneakers For Men</td>\n",
       "      <td>₹399</td>\n",
       "      <td>75% off</td>\n",
       "    </tr>\n",
       "    <tr>\n",
       "      <th>...</th>\n",
       "      <td>...</td>\n",
       "      <td>...</td>\n",
       "      <td>...</td>\n",
       "      <td>...</td>\n",
       "    </tr>\n",
       "    <tr>\n",
       "      <th>95</th>\n",
       "      <td>Bavis</td>\n",
       "      <td>Series 7 Sneakers For Men</td>\n",
       "      <td>₹420</td>\n",
       "      <td>50% off</td>\n",
       "    </tr>\n",
       "    <tr>\n",
       "      <th>96</th>\n",
       "      <td>HOTSTYLE</td>\n",
       "      <td>Perfect &amp; Affordable Combo Pack of 02 Pairs Sn...</td>\n",
       "      <td>₹282</td>\n",
       "      <td>37% off</td>\n",
       "    </tr>\n",
       "    <tr>\n",
       "      <th>97</th>\n",
       "      <td>bluemaker</td>\n",
       "      <td>Rebound JOY Sneakers For Men</td>\n",
       "      <td>₹499</td>\n",
       "      <td>60% off</td>\n",
       "    </tr>\n",
       "    <tr>\n",
       "      <th>98</th>\n",
       "      <td>Robbie jones</td>\n",
       "      <td>Original Luxury Branded Fashionable Men's Casu...</td>\n",
       "      <td>₹474</td>\n",
       "      <td>57% off</td>\n",
       "    </tr>\n",
       "    <tr>\n",
       "      <th>99</th>\n",
       "      <td>Chevit</td>\n",
       "      <td>Sneakers For Men</td>\n",
       "      <td>₹899</td>\n",
       "      <td>58% off</td>\n",
       "    </tr>\n",
       "  </tbody>\n",
       "</table>\n",
       "<p>100 rows × 4 columns</p>\n",
       "</div>"
      ],
      "text/plain": [
       "           brand                                       product_desc   price  \\\n",
       "0      Wildcraft                   True Black Shoe Sneakers For Men  ₹2,599   \n",
       "1      Wildcraft                   True White Shoe Sneakers For Men  ₹2,599   \n",
       "2         BRUTON      Modern Trendy Sneakers Shoes Sneakers For Men    ₹399   \n",
       "3       Magnolia                                   Sneakers For Men    ₹398   \n",
       "4          BIRDE         Birde Trendy Casual Shoes Sneakers For Men    ₹399   \n",
       "..           ...                                                ...     ...   \n",
       "95         Bavis                          Series 7 Sneakers For Men    ₹420   \n",
       "96      HOTSTYLE  Perfect & Affordable Combo Pack of 02 Pairs Sn...    ₹282   \n",
       "97     bluemaker                       Rebound JOY Sneakers For Men    ₹499   \n",
       "98  Robbie jones  Original Luxury Branded Fashionable Men's Casu...    ₹474   \n",
       "99        Chevit                                   Sneakers For Men    ₹899   \n",
       "\n",
       "   discount  \n",
       "0   69% off  \n",
       "1   60% off  \n",
       "2   20% off  \n",
       "3   85% off  \n",
       "4   75% off  \n",
       "..      ...  \n",
       "95  50% off  \n",
       "96  37% off  \n",
       "97  60% off  \n",
       "98  57% off  \n",
       "99  58% off  \n",
       "\n",
       "[100 rows x 4 columns]"
      ]
     },
     "execution_count": 62,
     "metadata": {},
     "output_type": "execute_result"
    }
   ],
   "source": [
    "flipkart"
   ]
  },
  {
   "cell_type": "markdown",
   "metadata": {},
   "source": [
    "# Q9: Go to the link - https://www.myntra.com/shoes Set Price filter to “Rs. 6649 to Rs. 13099” , Color filter to “Black”, as shown in the below imag"
   ]
  },
  {
   "cell_type": "code",
   "execution_count": 262,
   "metadata": {},
   "outputs": [],
   "source": [
    "import numpy as np\n",
    "import pandas as pd\n",
    "from time import sleep\n",
    "from random import randint\n",
    "from selenium import webdriver"
   ]
  },
  {
   "cell_type": "code",
   "execution_count": 263,
   "metadata": {},
   "outputs": [],
   "source": [
    "driver = webdriver.Chrome(r\"C:/Users/Lab/Desktop/FlipRobo Internship/chromedriver.exe\")"
   ]
  },
  {
   "cell_type": "code",
   "execution_count": 264,
   "metadata": {},
   "outputs": [],
   "source": [
    "driver.get(\"https://www.myntra.com/shoes\")"
   ]
  },
  {
   "cell_type": "code",
   "execution_count": 265,
   "metadata": {},
   "outputs": [],
   "source": [
    "pages = np.arange(1,5,1)\n",
    "brand=[]\n",
    "product_desc=[]\n",
    "price=[]\n",
    "\n",
    "for page in pages:\n",
    "    \n",
    "    page=\"https://www.myntra.com/shoes?f=Color%3ABlack_36454f&rf=Price%3A6897.0_13595.01_6897.0%20TO%2013595.01%2C6972.0_13645.01_6972.0%20TO%2013645.01%2C13645.0_20318.0_13645.0%20TO%2020318.0\" + str(page) \n",
    "    driver = webdriver.Chrome(r\"C:/Users/Lab/Desktop/FlipRobo Internship/chromedriver.exe\")\n",
    "    driver.get(page)  \n",
    "    sleep(randint(2,10))\n",
    "    \n",
    "    brand_tags=driver.find_elements_by_xpath(\"//h3[@class='product-brand']\")\n",
    "    product_tags=driver.find_elements_by_xpath(\"//h4[@class='product-product']\")\n",
    "    price_tags=driver.find_elements_by_xpath(\"//span[@class='product-discountedPrice']\")\n",
    "   \n",
    "    \n",
    "\n",
    "    for i in brand_tags:\n",
    "        brnd=i.text\n",
    "        brand.append(brnd)\n",
    "    brand[0:100]\n",
    "    \n",
    "    \n",
    "    for i in product_tags:\n",
    "        prdt=i.text\n",
    "        product_desc.append(prdt)\n",
    "    product_desc[0:100]\n",
    "    \n",
    "    \n",
    "    for i in price_tags:\n",
    "        prce=i.text\n",
    "        price.append(prce)\n",
    "    price[0:100]\n"
   ]
  },
  {
   "cell_type": "code",
   "execution_count": 266,
   "metadata": {},
   "outputs": [
    {
     "name": "stdout",
     "output_type": "stream",
     "text": [
      "200 200 104\n"
     ]
    }
   ],
   "source": [
    "print(len(brand),len(product_desc),len(price))"
   ]
  },
  {
   "cell_type": "code",
   "execution_count": 267,
   "metadata": {},
   "outputs": [],
   "source": [
    "myntra=pd.DataFrame({})\n",
    "myntra['brand']=brand[0:100]\n",
    "myntra['product_desc']=product_desc[0:100]\n",
    "myntra['price']=price[0:100]"
   ]
  },
  {
   "cell_type": "code",
   "execution_count": 268,
   "metadata": {},
   "outputs": [
    {
     "data": {
      "text/html": [
       "<div>\n",
       "<style scoped>\n",
       "    .dataframe tbody tr th:only-of-type {\n",
       "        vertical-align: middle;\n",
       "    }\n",
       "\n",
       "    .dataframe tbody tr th {\n",
       "        vertical-align: top;\n",
       "    }\n",
       "\n",
       "    .dataframe thead th {\n",
       "        text-align: right;\n",
       "    }\n",
       "</style>\n",
       "<table border=\"1\" class=\"dataframe\">\n",
       "  <thead>\n",
       "    <tr style=\"text-align: right;\">\n",
       "      <th></th>\n",
       "      <th>brand</th>\n",
       "      <th>product_desc</th>\n",
       "      <th>price</th>\n",
       "    </tr>\n",
       "  </thead>\n",
       "  <tbody>\n",
       "    <tr>\n",
       "      <th>0</th>\n",
       "      <td>ALDO</td>\n",
       "      <td>Leather Solid Loafers</td>\n",
       "      <td>Rs. 10499</td>\n",
       "    </tr>\n",
       "    <tr>\n",
       "      <th>1</th>\n",
       "      <td>Nike</td>\n",
       "      <td>Men Zoom Span 4 Running Shoes</td>\n",
       "      <td>Rs. 11199</td>\n",
       "    </tr>\n",
       "    <tr>\n",
       "      <th>2</th>\n",
       "      <td>ALDO</td>\n",
       "      <td>Men Driving Shoes</td>\n",
       "      <td>Rs. 10399</td>\n",
       "    </tr>\n",
       "    <tr>\n",
       "      <th>3</th>\n",
       "      <td>Puma</td>\n",
       "      <td>Men Jamming 2.0 Running Shoes</td>\n",
       "      <td>Rs. 7999</td>\n",
       "    </tr>\n",
       "    <tr>\n",
       "      <th>4</th>\n",
       "      <td>PUMA Motorsport</td>\n",
       "      <td>Unisex Scuderia Ferrari Shoes</td>\n",
       "      <td>Rs. 7773</td>\n",
       "    </tr>\n",
       "    <tr>\n",
       "      <th>...</th>\n",
       "      <td>...</td>\n",
       "      <td>...</td>\n",
       "      <td>...</td>\n",
       "    </tr>\n",
       "    <tr>\n",
       "      <th>95</th>\n",
       "      <td>Tommy Hilfiger</td>\n",
       "      <td>Men Lightweight Sneakers</td>\n",
       "      <td>Rs. 11199</td>\n",
       "    </tr>\n",
       "    <tr>\n",
       "      <th>96</th>\n",
       "      <td>Hush Puppies</td>\n",
       "      <td>Men Formal Derbys</td>\n",
       "      <td>Rs. 7999</td>\n",
       "    </tr>\n",
       "    <tr>\n",
       "      <th>97</th>\n",
       "      <td>Heel &amp; Buckle London</td>\n",
       "      <td>Men Leather Sneakers</td>\n",
       "      <td>Rs. 7006</td>\n",
       "    </tr>\n",
       "    <tr>\n",
       "      <th>98</th>\n",
       "      <td>Hush Puppies</td>\n",
       "      <td>Men Leather Derbys</td>\n",
       "      <td>Rs. 10399</td>\n",
       "    </tr>\n",
       "    <tr>\n",
       "      <th>99</th>\n",
       "      <td>Calvin Klein</td>\n",
       "      <td>Men Solid Leather Sneakers</td>\n",
       "      <td>Rs. 8900</td>\n",
       "    </tr>\n",
       "  </tbody>\n",
       "</table>\n",
       "<p>100 rows × 3 columns</p>\n",
       "</div>"
      ],
      "text/plain": [
       "                   brand                   product_desc      price\n",
       "0                   ALDO          Leather Solid Loafers  Rs. 10499\n",
       "1                   Nike  Men Zoom Span 4 Running Shoes  Rs. 11199\n",
       "2                   ALDO              Men Driving Shoes  Rs. 10399\n",
       "3                   Puma  Men Jamming 2.0 Running Shoes   Rs. 7999\n",
       "4        PUMA Motorsport  Unisex Scuderia Ferrari Shoes   Rs. 7773\n",
       "..                   ...                            ...        ...\n",
       "95        Tommy Hilfiger       Men Lightweight Sneakers  Rs. 11199\n",
       "96          Hush Puppies              Men Formal Derbys   Rs. 7999\n",
       "97  Heel & Buckle London           Men Leather Sneakers   Rs. 7006\n",
       "98          Hush Puppies             Men Leather Derbys  Rs. 10399\n",
       "99          Calvin Klein     Men Solid Leather Sneakers   Rs. 8900\n",
       "\n",
       "[100 rows x 3 columns]"
      ]
     },
     "execution_count": 268,
     "metadata": {},
     "output_type": "execute_result"
    }
   ],
   "source": [
    "myntra"
   ]
  },
  {
   "cell_type": "markdown",
   "metadata": {},
   "source": [
    "# 10 Scrap Amazon first 10 Laptops"
   ]
  },
  {
   "cell_type": "code",
   "execution_count": 64,
   "metadata": {},
   "outputs": [],
   "source": [
    "import selenium\n",
    "import pandas as pd\n",
    "from selenium import webdriver"
   ]
  },
  {
   "cell_type": "code",
   "execution_count": 65,
   "metadata": {},
   "outputs": [],
   "source": [
    "driver = webdriver.Chrome(r\"C:/Users/Lab/Desktop/FlipRobo Internship/chromedriver.exe\")"
   ]
  },
  {
   "cell_type": "code",
   "execution_count": 66,
   "metadata": {},
   "outputs": [],
   "source": [
    "driver.get(\"https://www.amazon.in\")"
   ]
  },
  {
   "cell_type": "code",
   "execution_count": 67,
   "metadata": {},
   "outputs": [],
   "source": [
    "search_job = driver.find_element_by_id('twotabsearchtextbox')\n",
    "search_job.send_keys(\"Laptop\")"
   ]
  },
  {
   "cell_type": "code",
   "execution_count": 68,
   "metadata": {},
   "outputs": [],
   "source": [
    "search_btn = driver.find_element_by_xpath(\"//input[@id='nav-search-submit-button']\")\n",
    "search_btn.click()"
   ]
  },
  {
   "cell_type": "code",
   "execution_count": 69,
   "metadata": {},
   "outputs": [],
   "source": [
    "driver.get(\"https://www.amazon.in/s?k=Laptop&ref=nb_sb_noss_2\")"
   ]
  },
  {
   "cell_type": "code",
   "execution_count": 70,
   "metadata": {},
   "outputs": [],
   "source": [
    "filter_button=driver.find_elements_by_xpath(\"//a[@class='a-link-normal s-navigation-item']/span\")\n",
    "for i in filter_button:\n",
    "    if i.text=='Intel Core i7':\n",
    "        i.click()\n",
    "        break\n"
   ]
  },
  {
   "cell_type": "code",
   "execution_count": 71,
   "metadata": {},
   "outputs": [],
   "source": [
    "filter_button=driver.find_elements_by_xpath(\"//a[@class='a-link-normal s-navigation-item']/span\")\n",
    "for i in filter_button:\n",
    "    if i.text=='Intel Core i9':\n",
    "        i.click()\n",
    "        break\n"
   ]
  },
  {
   "cell_type": "raw",
   "metadata": {},
   "source": [
    "h2 class=\"a-size-mini a-spacing-none a-color-base s-line-clamp-2\"\n",
    "<div class=\"a-row a-size-small\"\n",
    "<span class=\"a-offscreen\">₹89,990</span>"
   ]
  },
  {
   "cell_type": "code",
   "execution_count": 72,
   "metadata": {},
   "outputs": [],
   "source": [
    "laptop_title=[]\n",
    "lratings=[]\n",
    "laptop_price=[]"
   ]
  },
  {
   "cell_type": "code",
   "execution_count": 73,
   "metadata": {},
   "outputs": [
    {
     "data": {
      "text/plain": [
       "[<selenium.webdriver.remote.webelement.WebElement (session=\"a3defcf7256f8ca82ebfb0c1e478de53\", element=\"b2e70baf-d641-4c70-8f25-4a22b965e9d2\")>,\n",
       " <selenium.webdriver.remote.webelement.WebElement (session=\"a3defcf7256f8ca82ebfb0c1e478de53\", element=\"d856c4e4-fdf0-4f86-b44d-dfac5e8a3016\")>,\n",
       " <selenium.webdriver.remote.webelement.WebElement (session=\"a3defcf7256f8ca82ebfb0c1e478de53\", element=\"a54a2bbf-3e21-45ec-a213-bc7536c8219f\")>,\n",
       " <selenium.webdriver.remote.webelement.WebElement (session=\"a3defcf7256f8ca82ebfb0c1e478de53\", element=\"4b203b7e-bb8a-4762-a600-5ac312096eef\")>,\n",
       " <selenium.webdriver.remote.webelement.WebElement (session=\"a3defcf7256f8ca82ebfb0c1e478de53\", element=\"ca9ea18c-0808-4dad-a111-51fb38f8a226\")>,\n",
       " <selenium.webdriver.remote.webelement.WebElement (session=\"a3defcf7256f8ca82ebfb0c1e478de53\", element=\"77a201a1-c949-4129-be47-6a552a53f7b5\")>,\n",
       " <selenium.webdriver.remote.webelement.WebElement (session=\"a3defcf7256f8ca82ebfb0c1e478de53\", element=\"4e2f7da2-caec-477c-9c5e-7429950c08ac\")>,\n",
       " <selenium.webdriver.remote.webelement.WebElement (session=\"a3defcf7256f8ca82ebfb0c1e478de53\", element=\"a010913c-5f4d-4849-81c7-7f58e717a681\")>,\n",
       " <selenium.webdriver.remote.webelement.WebElement (session=\"a3defcf7256f8ca82ebfb0c1e478de53\", element=\"6a259476-0ca7-4e42-bbfd-1d334a28e415\")>,\n",
       " <selenium.webdriver.remote.webelement.WebElement (session=\"a3defcf7256f8ca82ebfb0c1e478de53\", element=\"241ea237-8372-40c5-84d1-cb4e52591f20\")>]"
      ]
     },
     "execution_count": 73,
     "metadata": {},
     "output_type": "execute_result"
    }
   ],
   "source": [
    "titles_tags=driver.find_elements_by_xpath(\"//h2[@class='a-size-mini a-spacing-none a-color-base s-line-clamp-2']\")\n",
    "titles_tags[0:10]"
   ]
  },
  {
   "cell_type": "code",
   "execution_count": 74,
   "metadata": {},
   "outputs": [
    {
     "data": {
      "text/plain": [
       "['Lenovo ThinkBook 15 Intel 11th Gen Core i7 15.6\" (39.62 cm) FHD IPS 300 nits Antiglare 100% sRGB Thin and Light Laptop (16GB/512GB SSD/Windows 10/MS Office/3 Yr Onsite Warranty/1.7 Kg), 20VEA0HHIH',\n",
       " 'Fujitsu UH-X 11th Gen Intel i7 Core 13.3” (33.78cm) FHD IPS 400Nits Thin and Light Laptop (16GB/512GB SSD/Win10/Office/Iris Xe Graphics/Backlit Kb/ Fingerprint Reader/Black/878gms), 4ZR1D67596',\n",
       " 'Life Digital Laptop 15.6-inch (39.62 cms) (Intel Core i7, 4GB RAM, 256GB SSD, Windows 10), ZED AIR CX7',\n",
       " 'HP Pavilion (2021) Intel 11th Gen Core i7 14 inches FHD Screen Thin & Light Laptop, 16 GB RAM, 1TB SSD, Iris Xe Graphics, Windows 10, MS Office, Backlit Keyboard, 1.41kg (14-dv0058TU), Silver',\n",
       " 'Mi Notebook Horizon Edition 14 Intel Core i7-10510U 10th Gen Thin and Light Laptop(8GB/512GB SSD/Windows 10/Nvidia MX350 2GB Graphics/Grey/1.35Kg)(Without Webcam) XMA1904-AF',\n",
       " 'Acer Nitro 5 11th Gen Intel Core i7-11800H 15.6\" (39.62cms) Full HD Gaming Laptop (16 GB/256GB SSD/1 TB HDD/Win 10/RTX 3050 Ti 4GB Graphics/144 Hz, Black, 2.4 kg/RGB Backlit Keyboard) AN515-57',\n",
       " 'ASUS ROG G703GI-E5148T 17.3\" (43.94 cms) FHD 144Hz/3ms Gaming Laptop (8th Gen Intel Core i9-8950HK/64GB/2TB SSHD + 1.5TB NVMe SSD/Windows 10/GTX 1080 8GB Graphics/4.70 Kg), Aluminum',\n",
       " 'Lenovo ThinkBook 15 Intel 11th Gen Core i7 15.6\" (39.62 cm) FHD IPS 300 nits Antiglare 100% sRGB Thin and Light Laptop (16GB/512GB SSD/Windows 10/MS Office/3 Yr Onsite Warranty/1.7 Kg), 20VEA0HHIH',\n",
       " 'ASUS TUF Dash F15 (2021) 15.6-inch (39.62 cms) FHD 144Hz, Intel Core i7-11370H 11th Gen, RTX 3050 4GB Graphics, Gaming Laptop (16GB/512GB SSD/Windows 10/Gray/2 Kg), FX516PCZ-HN091T',\n",
       " 'HP Pavilion 13(2021) 11th Gen Intel Core i7 Laptop, 16GB RAM, 1TB SSD, 13.3-inch(33.8 cm) FHD Screen, Win 10, MS Office, Ceramic White, 1.24 Kg (13-bb0078TU)']"
      ]
     },
     "execution_count": 74,
     "metadata": {},
     "output_type": "execute_result"
    }
   ],
   "source": [
    "for i in titles_tags:\n",
    "    title=i.text\n",
    "    laptop_title.append(title)\n",
    "laptop_title[0:10]"
   ]
  },
  {
   "cell_type": "code",
   "execution_count": 75,
   "metadata": {},
   "outputs": [],
   "source": [
    "lratings=[]"
   ]
  },
  {
   "cell_type": "code",
   "execution_count": 76,
   "metadata": {},
   "outputs": [
    {
     "data": {
      "text/plain": [
       "[<selenium.webdriver.remote.webelement.WebElement (session=\"a3defcf7256f8ca82ebfb0c1e478de53\", element=\"c8a7dc87-53a3-4b72-b192-4c93e1c4cdca\")>,\n",
       " <selenium.webdriver.remote.webelement.WebElement (session=\"a3defcf7256f8ca82ebfb0c1e478de53\", element=\"862dc5fa-7695-4ca0-a81f-048ef4afc65c\")>,\n",
       " <selenium.webdriver.remote.webelement.WebElement (session=\"a3defcf7256f8ca82ebfb0c1e478de53\", element=\"fb7e42a9-58fb-4008-abfa-dc583e3c656c\")>,\n",
       " <selenium.webdriver.remote.webelement.WebElement (session=\"a3defcf7256f8ca82ebfb0c1e478de53\", element=\"b6bf2a11-d051-4f43-9915-3cd4d25fa18f\")>,\n",
       " <selenium.webdriver.remote.webelement.WebElement (session=\"a3defcf7256f8ca82ebfb0c1e478de53\", element=\"5864ed08-09fe-4453-ac2d-d43a910a3529\")>,\n",
       " <selenium.webdriver.remote.webelement.WebElement (session=\"a3defcf7256f8ca82ebfb0c1e478de53\", element=\"62343dce-9577-419b-9805-e93f0ca9621b\")>,\n",
       " <selenium.webdriver.remote.webelement.WebElement (session=\"a3defcf7256f8ca82ebfb0c1e478de53\", element=\"addaa5fa-2f48-4a32-a76f-06dda72c8b83\")>,\n",
       " <selenium.webdriver.remote.webelement.WebElement (session=\"a3defcf7256f8ca82ebfb0c1e478de53\", element=\"a4ddf8b6-956e-47c6-bdd4-5d479bab3d64\")>,\n",
       " <selenium.webdriver.remote.webelement.WebElement (session=\"a3defcf7256f8ca82ebfb0c1e478de53\", element=\"c11c4ec8-a89d-419a-ab85-e36391737bbb\")>,\n",
       " <selenium.webdriver.remote.webelement.WebElement (session=\"a3defcf7256f8ca82ebfb0c1e478de53\", element=\"e1edbd7f-4b19-420d-94aa-6f7a0c5ebd8c\")>]"
      ]
     },
     "execution_count": 76,
     "metadata": {},
     "output_type": "execute_result"
    }
   ],
   "source": [
    "r_tags=driver.find_elements_by_xpath(\"//*[contains(@class,'a-icon-star')]//*[contains(@class,'a-icon-alt')]\")\n",
    "r_tags[0:10]\n",
    "                                                 \n",
    "#\"//span[@class='a-link-normal s-navigation-item']/span\"\n",
    "                       \n",
    "#span class=\"a-icon-alt\">4.3 out of 5 stars</span></i>\n",
    "                                                 "
   ]
  },
  {
   "cell_type": "code",
   "execution_count": 77,
   "metadata": {},
   "outputs": [
    {
     "data": {
      "text/plain": [
       "['', '', '', '', '', '', '', '', '', '']"
      ]
     },
     "execution_count": 77,
     "metadata": {},
     "output_type": "execute_result"
    }
   ],
   "source": [
    "for i in r_tags:\n",
    "    r=i.text\n",
    "    lratings.append(r)\n",
    "lratings[0:10]"
   ]
  },
  {
   "cell_type": "code",
   "execution_count": 78,
   "metadata": {},
   "outputs": [
    {
     "data": {
      "text/plain": [
       "[<selenium.webdriver.remote.webelement.WebElement (session=\"a3defcf7256f8ca82ebfb0c1e478de53\", element=\"d5aadbf5-f422-4d2f-97a1-ae5e37e6ec29\")>,\n",
       " <selenium.webdriver.remote.webelement.WebElement (session=\"a3defcf7256f8ca82ebfb0c1e478de53\", element=\"2a40dbca-db66-4857-ba1c-da5bc1412fb0\")>,\n",
       " <selenium.webdriver.remote.webelement.WebElement (session=\"a3defcf7256f8ca82ebfb0c1e478de53\", element=\"bb0dc941-e040-4e90-9aff-17258f71d176\")>,\n",
       " <selenium.webdriver.remote.webelement.WebElement (session=\"a3defcf7256f8ca82ebfb0c1e478de53\", element=\"5fd13a19-f778-4493-9d70-889a6d3b7c99\")>,\n",
       " <selenium.webdriver.remote.webelement.WebElement (session=\"a3defcf7256f8ca82ebfb0c1e478de53\", element=\"ba595dc0-eb69-449f-a669-63fdfdd62bb8\")>,\n",
       " <selenium.webdriver.remote.webelement.WebElement (session=\"a3defcf7256f8ca82ebfb0c1e478de53\", element=\"f3fbae4a-4e3f-42ac-a6dd-bf26498a3243\")>,\n",
       " <selenium.webdriver.remote.webelement.WebElement (session=\"a3defcf7256f8ca82ebfb0c1e478de53\", element=\"31880931-d2b6-4347-a621-8dc1a5c42a9b\")>,\n",
       " <selenium.webdriver.remote.webelement.WebElement (session=\"a3defcf7256f8ca82ebfb0c1e478de53\", element=\"7bf54485-f13c-4944-bea0-ddf385236d81\")>,\n",
       " <selenium.webdriver.remote.webelement.WebElement (session=\"a3defcf7256f8ca82ebfb0c1e478de53\", element=\"fc08c572-6f92-4748-b80c-0b0ffdc79c66\")>,\n",
       " <selenium.webdriver.remote.webelement.WebElement (session=\"a3defcf7256f8ca82ebfb0c1e478de53\", element=\"dbf583ab-e1d6-4946-8d41-1568ab9bab3f\")>]"
      ]
     },
     "execution_count": 78,
     "metadata": {},
     "output_type": "execute_result"
    }
   ],
   "source": [
    "lprice_tags=driver.find_elements_by_xpath(\"//a[@class='a-size-base a-link-normal a-text-normal']\")\n",
    "lprice_tags[0:10]"
   ]
  },
  {
   "cell_type": "code",
   "execution_count": 79,
   "metadata": {},
   "outputs": [
    {
     "data": {
      "text/plain": [
       "['₹84,990\\n₹1,33,200',\n",
       " '₹89,990\\n₹1,20,390',\n",
       " '₹24,990\\n₹43,199',\n",
       " '₹84,990\\n₹97,867',\n",
       " '₹53,990\\n₹65,999',\n",
       " '₹89,990\\n₹1,19,999',\n",
       " '₹5,56,524\\n₹5,99,990',\n",
       " '₹84,990\\n₹1,33,200',\n",
       " '₹93,990\\n₹1,11,990',\n",
       " '₹84,990\\n₹95,749']"
      ]
     },
     "execution_count": 79,
     "metadata": {},
     "output_type": "execute_result"
    }
   ],
   "source": [
    "for i in lprice_tags:\n",
    "    p=i.text\n",
    "    laptop_price.append(p)\n",
    "laptop_price[0:10]"
   ]
  },
  {
   "cell_type": "code",
   "execution_count": 80,
   "metadata": {},
   "outputs": [
    {
     "name": "stdout",
     "output_type": "stream",
     "text": [
      "27 27 25\n"
     ]
    }
   ],
   "source": [
    "print(len(laptop_title),len(lratings),len(laptop_price))"
   ]
  },
  {
   "cell_type": "code",
   "execution_count": 82,
   "metadata": {},
   "outputs": [],
   "source": [
    "amazon=pd.DataFrame({})\n",
    "amazon['laptop_title']=laptop_title[0:10]\n",
    "amazon['lratings']=lratings[0:10]\n",
    "amazon['laptop_price']=price[0:10]"
   ]
  },
  {
   "cell_type": "code",
   "execution_count": 83,
   "metadata": {},
   "outputs": [
    {
     "data": {
      "text/html": [
       "<div>\n",
       "<style scoped>\n",
       "    .dataframe tbody tr th:only-of-type {\n",
       "        vertical-align: middle;\n",
       "    }\n",
       "\n",
       "    .dataframe tbody tr th {\n",
       "        vertical-align: top;\n",
       "    }\n",
       "\n",
       "    .dataframe thead th {\n",
       "        text-align: right;\n",
       "    }\n",
       "</style>\n",
       "<table border=\"1\" class=\"dataframe\">\n",
       "  <thead>\n",
       "    <tr style=\"text-align: right;\">\n",
       "      <th></th>\n",
       "      <th>laptop_title</th>\n",
       "      <th>lratings</th>\n",
       "      <th>laptop_price</th>\n",
       "    </tr>\n",
       "  </thead>\n",
       "  <tbody>\n",
       "    <tr>\n",
       "      <th>0</th>\n",
       "      <td>Lenovo ThinkBook 15 Intel 11th Gen Core i7 15....</td>\n",
       "      <td></td>\n",
       "      <td>₹2,599</td>\n",
       "    </tr>\n",
       "    <tr>\n",
       "      <th>1</th>\n",
       "      <td>Fujitsu UH-X 11th Gen Intel i7 Core 13.3” (33....</td>\n",
       "      <td></td>\n",
       "      <td>₹2,599</td>\n",
       "    </tr>\n",
       "    <tr>\n",
       "      <th>2</th>\n",
       "      <td>Life Digital Laptop 15.6-inch (39.62 cms) (Int...</td>\n",
       "      <td></td>\n",
       "      <td>₹399</td>\n",
       "    </tr>\n",
       "    <tr>\n",
       "      <th>3</th>\n",
       "      <td>HP Pavilion (2021) Intel 11th Gen Core i7 14 i...</td>\n",
       "      <td></td>\n",
       "      <td>₹398</td>\n",
       "    </tr>\n",
       "    <tr>\n",
       "      <th>4</th>\n",
       "      <td>Mi Notebook Horizon Edition 14 Intel Core i7-1...</td>\n",
       "      <td></td>\n",
       "      <td>₹399</td>\n",
       "    </tr>\n",
       "    <tr>\n",
       "      <th>5</th>\n",
       "      <td>Acer Nitro 5 11th Gen Intel Core i7-11800H 15....</td>\n",
       "      <td></td>\n",
       "      <td>₹499</td>\n",
       "    </tr>\n",
       "    <tr>\n",
       "      <th>6</th>\n",
       "      <td>ASUS ROG G703GI-E5148T 17.3\" (43.94 cms) FHD 1...</td>\n",
       "      <td></td>\n",
       "      <td>₹499</td>\n",
       "    </tr>\n",
       "    <tr>\n",
       "      <th>7</th>\n",
       "      <td>Lenovo ThinkBook 15 Intel 11th Gen Core i7 15....</td>\n",
       "      <td></td>\n",
       "      <td>₹554</td>\n",
       "    </tr>\n",
       "    <tr>\n",
       "      <th>8</th>\n",
       "      <td>ASUS TUF Dash F15 (2021) 15.6-inch (39.62 cms)...</td>\n",
       "      <td></td>\n",
       "      <td>₹348</td>\n",
       "    </tr>\n",
       "    <tr>\n",
       "      <th>9</th>\n",
       "      <td>HP Pavilion 13(2021) 11th Gen Intel Core i7 La...</td>\n",
       "      <td></td>\n",
       "      <td>₹499</td>\n",
       "    </tr>\n",
       "  </tbody>\n",
       "</table>\n",
       "</div>"
      ],
      "text/plain": [
       "                                        laptop_title lratings laptop_price\n",
       "0  Lenovo ThinkBook 15 Intel 11th Gen Core i7 15....                ₹2,599\n",
       "1  Fujitsu UH-X 11th Gen Intel i7 Core 13.3” (33....                ₹2,599\n",
       "2  Life Digital Laptop 15.6-inch (39.62 cms) (Int...                  ₹399\n",
       "3  HP Pavilion (2021) Intel 11th Gen Core i7 14 i...                  ₹398\n",
       "4  Mi Notebook Horizon Edition 14 Intel Core i7-1...                  ₹399\n",
       "5  Acer Nitro 5 11th Gen Intel Core i7-11800H 15....                  ₹499\n",
       "6  ASUS ROG G703GI-E5148T 17.3\" (43.94 cms) FHD 1...                  ₹499\n",
       "7  Lenovo ThinkBook 15 Intel 11th Gen Core i7 15....                  ₹554\n",
       "8  ASUS TUF Dash F15 (2021) 15.6-inch (39.62 cms)...                  ₹348\n",
       "9  HP Pavilion 13(2021) 11th Gen Intel Core i7 La...                  ₹499"
      ]
     },
     "execution_count": 83,
     "metadata": {},
     "output_type": "execute_result"
    }
   ],
   "source": [
    "amazon"
   ]
  },
  {
   "cell_type": "code",
   "execution_count": null,
   "metadata": {},
   "outputs": [],
   "source": []
  }
 ],
 "metadata": {
  "kernelspec": {
   "display_name": "Python 3",
   "language": "python",
   "name": "python3"
  },
  "language_info": {
   "codemirror_mode": {
    "name": "ipython",
    "version": 3
   },
   "file_extension": ".py",
   "mimetype": "text/x-python",
   "name": "python",
   "nbconvert_exporter": "python",
   "pygments_lexer": "ipython3",
   "version": "3.6.4"
  }
 },
 "nbformat": 4,
 "nbformat_minor": 2
}
